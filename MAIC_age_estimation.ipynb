{
 "cells": [
  {
   "cell_type": "code",
   "execution_count": null,
   "metadata": {
    "colab": {
     "base_uri": "https://localhost:8080/"
    },
    "id": "OHGCrsVtBlqH",
    "outputId": "0fc5e1b8-4b00-430d-94e6-2e8372fc6764"
   },
   "outputs": [
    {
     "name": "stdout",
     "output_type": "stream",
     "text": [
      "Collecting tensorflow_addons\n",
      "  Downloading tensorflow_addons-0.21.0-cp310-cp310-manylinux_2_17_x86_64.manylinux2014_x86_64.whl (612 kB)\n",
      "\u001b[2K     \u001b[90m━━━━━━━━━━━━━━━━━━━━━━━━━━━━━━━━━━━━━━━\u001b[0m \u001b[32m612.1/612.1 kB\u001b[0m \u001b[31m7.5 MB/s\u001b[0m eta \u001b[36m0:00:00\u001b[0m\n",
      "\u001b[?25hRequirement already satisfied: packaging in /usr/local/lib/python3.10/dist-packages (from tensorflow_addons) (23.1)\n",
      "Collecting typeguard<3.0.0,>=2.7 (from tensorflow_addons)\n",
      "  Downloading typeguard-2.13.3-py3-none-any.whl (17 kB)\n",
      "Installing collected packages: typeguard, tensorflow_addons\n",
      "Successfully installed tensorflow_addons-0.21.0 typeguard-2.13.3\n"
     ]
    }
   ],
   "source": [
    "# !pip install tensorflow_addons"
   ]
  },
  {
   "cell_type": "code",
   "execution_count": null,
   "metadata": {
    "_kg_hide-input": true,
    "colab": {
     "base_uri": "https://localhost:8080/"
    },
    "execution": {
     "iopub.execute_input": "2022-03-06T12:10:47.489188Z",
     "iopub.status.busy": "2022-03-06T12:10:47.488791Z",
     "iopub.status.idle": "2022-03-06T12:10:52.937105Z",
     "shell.execute_reply": "2022-03-06T12:10:52.936315Z",
     "shell.execute_reply.started": "2022-03-06T12:10:47.489127Z"
    },
    "id": "gvct3pMSBZl9",
    "outputId": "26b68e8a-c396-467e-8bb6-7456158e8fb9"
   },
   "outputs": [
    {
     "name": "stderr",
     "output_type": "stream",
     "text": [
      "/usr/local/lib/python3.10/dist-packages/tensorflow_addons/utils/tfa_eol_msg.py:23: UserWarning: \n",
      "\n",
      "TensorFlow Addons (TFA) has ended development and introduction of new features.\n",
      "TFA has entered a minimal maintenance and release mode until a planned end of life in May 2024.\n",
      "Please modify downstream libraries to take dependencies from other repositories in our TensorFlow community (e.g. Keras, Keras-CV, and Keras-NLP). \n",
      "\n",
      "For more information see: https://github.com/tensorflow/addons/issues/2807 \n",
      "\n",
      "  warnings.warn(\n"
     ]
    }
   ],
   "source": [
    "import pandas as pd\n",
    "from scipy import stats\n",
    "import os\n",
    "import numpy as np\n",
    "import matplotlib.pyplot as plt\n",
    "import seaborn as sns\n",
    "import tensorflow_addons as tfa\n",
    "import tensorflow as tf\n",
    "import tqdm\n",
    "from scipy import signal\n",
    "from tensorflow import keras\n",
    "from keras.utils import plot_model\n",
    "from keras.preprocessing.sequence import pad_sequences\n",
    "from sklearn.preprocessing import LabelEncoder\n",
    "from sklearn.utils.class_weight import compute_class_weight\n",
    "from sklearn.metrics import roc_auc_score\n",
    "from scipy.io import loadmat\n",
    "from sklearn.preprocessing import MultiLabelBinarizer\n",
    "from sklearn.model_selection import StratifiedKFold\n",
    "from sklearn.metrics import confusion_matrix\n",
    "from sklearn.metrics import mean_absolute_error\n",
    "from sklearn.metrics import mean_squared_error\n",
    "from sklearn.metrics import accuracy_score\n",
    "from sklearn.metrics import f1_score\n",
    "import warnings\n",
    "warnings.filterwarnings('ignore')\n",
    "%matplotlib inline\n",
    "%load_ext autoreload\n",
    "%autoreload\n",
    "%reload_ext autoreload\n",
    "sns.set_style(\"dark\")"
   ]
  },
  {
   "cell_type": "code",
   "execution_count": null,
   "metadata": {
    "colab": {
     "base_uri": "https://localhost:8080/"
    },
    "id": "rqgX1ItaEvTW",
    "outputId": "951ae997-0c7c-4e84-9011-1d9346cb56f0"
   },
   "outputs": [
    {
     "name": "stdout",
     "output_type": "stream",
     "text": [
      "Mounted at /content/drive\n"
     ]
    }
   ],
   "source": [
    "from google.colab import drive\n",
    "drive.mount('/content/drive')"
   ]
  },
  {
   "cell_type": "code",
   "execution_count": null,
   "metadata": {
    "id": "ktGCgcNQEYab"
   },
   "outputs": [],
   "source": [
    "!mkdir ecg_adult\n",
    "!unzip /content/drive/MyDrive/MAIC/ecg_adult_train.zip -d ecg_adult"
   ]
  },
  {
   "cell_type": "code",
   "execution_count": null,
   "metadata": {
    "id": "YN9h9ZJ4S90N"
   },
   "outputs": [],
   "source": [
    "!mkdir ecg_child\n",
    "!unzip /content/drive/MyDrive/MAIC/ECG_child_numpy_train.zip -d ecg_child"
   ]
  },
  {
   "cell_type": "code",
   "execution_count": null,
   "metadata": {
    "id": "QOaAOMi7IMCa"
   },
   "outputs": [],
   "source": [
    "adult = pd.read_csv('/content/drive/MyDrive/MAIC/ECG_adult_age_train.csv')\n",
    "child = pd.read_csv('/content/drive/MyDrive/MAIC/ECG_child_age_train.csv')"
   ]
  },
  {
   "cell_type": "code",
   "execution_count": null,
   "metadata": {
    "colab": {
     "base_uri": "https://localhost:8080/"
    },
    "id": "TDH1rZkdXlAP",
    "outputId": "a69ddea6-fdfa-4f3a-fdfe-b96b0627d88e"
   },
   "outputs": [
    {
     "data": {
      "text/plain": [
       "FEMALE     18096\n",
       "MALE       16787\n",
       "unknown       24\n",
       "Name: GENDER, dtype: int64"
      ]
     },
     "execution_count": 8,
     "metadata": {},
     "output_type": "execute_result"
    }
   ],
   "source": [
    "adult.GENDER.value_counts()"
   ]
  },
  {
   "cell_type": "code",
   "execution_count": null,
   "metadata": {
    "colab": {
     "base_uri": "https://localhost:8080/"
    },
    "id": "JhrkYi2tX1kF",
    "outputId": "e6f4ffb6-58b7-4fd4-8758-74b5ceff6d25"
   },
   "outputs": [
    {
     "data": {
      "text/plain": [
       "0"
      ]
     },
     "execution_count": 13,
     "metadata": {},
     "output_type": "execute_result"
    }
   ],
   "source": [
    "adult.isnull().sum(1).sum()"
   ]
  },
  {
   "cell_type": "code",
   "execution_count": null,
   "metadata": {
    "colab": {
     "base_uri": "https://localhost:8080/"
    },
    "id": "YKhD4CC8Xn-R",
    "outputId": "4512b1ed-fc69-40c5-bf9c-6b225baeac49"
   },
   "outputs": [
    {
     "data": {
      "text/plain": [
       "MALE       4854\n",
       "FEMALE     3926\n",
       "unknown       1\n",
       "Name: GENDER, dtype: int64"
      ]
     },
     "execution_count": 9,
     "metadata": {},
     "output_type": "execute_result"
    }
   ],
   "source": [
    "child.GENDER.value_counts()"
   ]
  },
  {
   "cell_type": "code",
   "execution_count": null,
   "metadata": {
    "colab": {
     "base_uri": "https://localhost:8080/"
    },
    "id": "bwN4gjALXyHr",
    "outputId": "42709d5b-8ac7-4d31-81a2-57ac3e3262b9"
   },
   "outputs": [
    {
     "data": {
      "text/plain": [
       "0"
      ]
     },
     "execution_count": 12,
     "metadata": {},
     "output_type": "execute_result"
    }
   ],
   "source": [
    "child.isnull().sum(1).sum()"
   ]
  },
  {
   "cell_type": "code",
   "execution_count": null,
   "metadata": {
    "colab": {
     "base_uri": "https://localhost:8080/"
    },
    "id": "W7o_JvDrXrpS",
    "outputId": "d5bace32-bf4d-4b4b-b220-c4f0bb7e8fba"
   },
   "outputs": [
    {
     "data": {
      "text/plain": [
       "count    8781.000000\n",
       "mean        2.168157\n",
       "std         1.944972\n",
       "min         0.083333\n",
       "25%         0.583333\n",
       "50%         1.250000\n",
       "75%         3.750000\n",
       "max         8.083333\n",
       "Name: AGE, dtype: float64"
      ]
     },
     "execution_count": 11,
     "metadata": {},
     "output_type": "execute_result"
    }
   ],
   "source": [
    "child.AGE.describe()"
   ]
  },
  {
   "cell_type": "code",
   "execution_count": null,
   "metadata": {
    "id": "TK1kdTjnYP-v"
   },
   "outputs": [],
   "source": [
    "import random"
   ]
  },
  {
   "cell_type": "code",
   "execution_count": null,
   "metadata": {
    "id": "4xLeyYg9YRac"
   },
   "outputs": [],
   "source": [
    "adult['type'] = 'Adult'\n",
    "child['type'] = 'Child'"
   ]
  },
  {
   "cell_type": "code",
   "execution_count": null,
   "metadata": {
    "id": "9lsuaGBNX4fW"
   },
   "outputs": [],
   "source": [
    "train = pd.concat([adult, child])"
   ]
  },
  {
   "cell_type": "code",
   "execution_count": null,
   "metadata": {
    "id": "n5xZ3fdeWbbH"
   },
   "outputs": [],
   "source": [
    "train = train[train['GENDER']!='unknown'].reset_index(drop  = True)"
   ]
  },
  {
   "cell_type": "code",
   "execution_count": null,
   "metadata": {
    "id": "GVWDSYuXX_fa"
   },
   "outputs": [],
   "source": [
    "test_ix = random.sample(train.index.tolist(),int(len(train)*0.1))"
   ]
  },
  {
   "cell_type": "code",
   "execution_count": null,
   "metadata": {
    "id": "JlLv3X1OX-Ox"
   },
   "outputs": [],
   "source": [
    "test = train[train.index.isin(test_ix)].reset_index()\n",
    "train = train[~train.index.isin(test_ix)].reset_index()"
   ]
  },
  {
   "cell_type": "code",
   "execution_count": null,
   "metadata": {
    "colab": {
     "base_uri": "https://localhost:8080/"
    },
    "id": "LPR6_V6ZZkUK",
    "outputId": "902ddade-bdb6-403f-e9e7-88ed6cb2244e"
   },
   "outputs": [
    {
     "data": {
      "text/plain": [
       "0       68.000000\n",
       "1       89.000000\n",
       "2       79.000000\n",
       "3       65.000000\n",
       "4       77.000000\n",
       "          ...    \n",
       "4361     1.166667\n",
       "4362     1.833333\n",
       "4363     7.000000\n",
       "4364     0.583333\n",
       "4365     5.833333\n",
       "Name: AGE, Length: 4366, dtype: float64"
      ]
     },
     "execution_count": 83,
     "metadata": {},
     "output_type": "execute_result"
    }
   ],
   "source": [
    "test.AGE"
   ]
  },
  {
   "cell_type": "code",
   "execution_count": null,
   "metadata": {
    "colab": {
     "base_uri": "https://localhost:8080/",
     "height": 563
    },
    "id": "74AsyS2UY0Vu",
    "outputId": "3ce7c5de-9464-4715-ca8f-0e11f3041691"
   },
   "outputs": [
    {
     "data": {
      "image/png": "[encoded data removed]",
      "text/plain": [
       "<Figure size 640x480 with 2 Axes>"
      ]
     },
     "metadata": {},
     "output_type": "display_data"
    }
   ],
   "source": [
    "fig = plt.figure()\n",
    "ax = fig.add_subplot(2,1,1)\n",
    "ax = test.AGE.plot.hist()\n",
    "ax.set_title(f'TEST set AGE distribution : {len(test)}')\n",
    "\n",
    "ax = fig.add_subplot(2,1,2)\n",
    "ax = train.AGE.plot.hist()\n",
    "ax.set_title(f'TRAIN set AGE distribution: {len(train)}')\n",
    "\n",
    "plt.subplots_adjust(left=0.125, bottom=0.1, right=0.9, top=1.1, wspace=0.2, hspace=0.2)\n",
    "plt.show()"
   ]
  },
  {
   "cell_type": "code",
   "execution_count": null,
   "metadata": {
    "colab": {
     "base_uri": "https://localhost:8080/",
     "height": 206
    },
    "id": "gqJYllawa7cE",
    "outputId": "f1235342-a247-4a30-dd7a-fde88117c6f5"
   },
   "outputs": [
    {
     "data": {
      "text/html": [
       "\n",
       "  <div id=\"df-6995e68c-64c4-466a-b4cf-4f57c35a964b\" class=\"colab-df-container\">\n",
       "    <div>\n",
       "<style scoped>\n",
       "    .dataframe tbody tr th:only-of-type {\n",
       "        vertical-align: middle;\n",
       "    }\n",
       "\n",
       "    .dataframe tbody tr th {\n",
       "        vertical-align: top;\n",
       "    }\n",
       "\n",
       "    .dataframe thead th {\n",
       "        text-align: right;\n",
       "    }\n",
       "</style>\n",
       "<table border=\"1\" class=\"dataframe\">\n",
       "  <thead>\n",
       "    <tr style=\"text-align: right;\">\n",
       "      <th></th>\n",
       "      <th>index</th>\n",
       "      <th>FILENAME</th>\n",
       "      <th>GENDER</th>\n",
       "      <th>AGE</th>\n",
       "      <th>type</th>\n",
       "    </tr>\n",
       "  </thead>\n",
       "  <tbody>\n",
       "    <tr>\n",
       "      <th>0</th>\n",
       "      <td>0</td>\n",
       "      <td>ecg_adult_0</td>\n",
       "      <td>MALE</td>\n",
       "      <td>53.0</td>\n",
       "      <td>Adult</td>\n",
       "    </tr>\n",
       "    <tr>\n",
       "      <th>1</th>\n",
       "      <td>1</td>\n",
       "      <td>ecg_adult_1</td>\n",
       "      <td>MALE</td>\n",
       "      <td>68.0</td>\n",
       "      <td>Adult</td>\n",
       "    </tr>\n",
       "    <tr>\n",
       "      <th>2</th>\n",
       "      <td>5</td>\n",
       "      <td>ecg_adult_5</td>\n",
       "      <td>FEMALE</td>\n",
       "      <td>59.0</td>\n",
       "      <td>Adult</td>\n",
       "    </tr>\n",
       "    <tr>\n",
       "      <th>3</th>\n",
       "      <td>6</td>\n",
       "      <td>ecg_adult_6</td>\n",
       "      <td>MALE</td>\n",
       "      <td>79.0</td>\n",
       "      <td>Adult</td>\n",
       "    </tr>\n",
       "    <tr>\n",
       "      <th>4</th>\n",
       "      <td>7</td>\n",
       "      <td>ecg_adult_7</td>\n",
       "      <td>MALE</td>\n",
       "      <td>83.0</td>\n",
       "      <td>Adult</td>\n",
       "    </tr>\n",
       "  </tbody>\n",
       "</table>\n",
       "</div>\n",
       "    <div class=\"colab-df-buttons\">\n",
       "\n",
       "  <div class=\"colab-df-container\">\n",
       "    <button class=\"colab-df-convert\" onclick=\"convertToInteractive('df-6995e68c-64c4-466a-b4cf-4f57c35a964b')\"\n",
       "            title=\"Convert this dataframe to an interactive table.\"\n",
       "            style=\"display:none;\">\n",
       "\n",
       "  <svg xmlns=\"http://www.w3.org/2000/svg\" height=\"24px\" viewBox=\"0 -960 960 960\">\n",
       "    <path d=\"M120-120v-720h720v720H120Zm60-500h600v-160H180v160Zm220 220h160v-160H400v160Zm0 220h160v-160H400v160ZM180-400h160v-160H180v160Zm440 0h160v-160H620v160ZM180-180h160v-160H180v160Zm440 0h160v-160H620v160Z\"/>\n",
       "  </svg>\n",
       "    </button>\n",
       "\n",
       "  <style>\n",
       "    .colab-df-container {\n",
       "      display:flex;\n",
       "      gap: 12px;\n",
       "    }\n",
       "\n",
       "    .colab-df-convert {\n",
       "      background-color: #E8F0FE;\n",
       "      border: none;\n",
       "      border-radius: 50%;\n",
       "      cursor: pointer;\n",
       "      display: none;\n",
       "      fill: #1967D2;\n",
       "      height: 32px;\n",
       "      padding: 0 0 0 0;\n",
       "      width: 32px;\n",
       "    }\n",
       "\n",
       "    .colab-df-convert:hover {\n",
       "      background-color: #E2EBFA;\n",
       "      box-shadow: 0px 1px 2px rgba(60, 64, 67, 0.3), 0px 1px 3px 1px rgba(60, 64, 67, 0.15);\n",
       "      fill: #174EA6;\n",
       "    }\n",
       "\n",
       "    .colab-df-buttons div {\n",
       "      margin-bottom: 4px;\n",
       "    }\n",
       "\n",
       "    [theme=dark] .colab-df-convert {\n",
       "      background-color: #3B4455;\n",
       "      fill: #D2E3FC;\n",
       "    }\n",
       "\n",
       "    [theme=dark] .colab-df-convert:hover {\n",
       "      background-color: #434B5C;\n",
       "      box-shadow: 0px 1px 3px 1px rgba(0, 0, 0, 0.15);\n",
       "      filter: drop-shadow(0px 1px 2px rgba(0, 0, 0, 0.3));\n",
       "      fill: #FFFFFF;\n",
       "    }\n",
       "  </style>\n",
       "\n",
       "    <script>\n",
       "      const buttonEl =\n",
       "        document.querySelector('#df-6995e68c-64c4-466a-b4cf-4f57c35a964b button.colab-df-convert');\n",
       "      buttonEl.style.display =\n",
       "        google.colab.kernel.accessAllowed ? 'block' : 'none';\n",
       "\n",
       "      async function convertToInteractive(key) {\n",
       "        const element = document.querySelector('#df-6995e68c-64c4-466a-b4cf-4f57c35a964b');\n",
       "        const dataTable =\n",
       "          await google.colab.kernel.invokeFunction('convertToInteractive',\n",
       "                                                    [key], {});\n",
       "        if (!dataTable) return;\n",
       "\n",
       "        const docLinkHtml = 'Like what you see? Visit the ' +\n",
       "          '<a target=\"_blank\" href=https://colab.research.google.com/notebooks/data_table.ipynb>data table notebook</a>'\n",
       "          + ' to learn more about interactive tables.';\n",
       "        element.innerHTML = '';\n",
       "        dataTable['output_type'] = 'display_data';\n",
       "        await google.colab.output.renderOutput(dataTable, element);\n",
       "        const docLink = document.createElement('div');\n",
       "        docLink.innerHTML = docLinkHtml;\n",
       "        element.appendChild(docLink);\n",
       "      }\n",
       "    </script>\n",
       "  </div>\n",
       "\n",
       "\n",
       "<div id=\"df-e1283e74-c323-4d6d-8cc5-b20938f04ac6\">\n",
       "  <button class=\"colab-df-quickchart\" onclick=\"quickchart('df-e1283e74-c323-4d6d-8cc5-b20938f04ac6')\"\n",
       "            title=\"Suggest charts.\"\n",
       "            style=\"display:none;\">\n",
       "\n",
       "<svg xmlns=\"http://www.w3.org/2000/svg\" height=\"24px\"viewBox=\"0 0 24 24\"\n",
       "     width=\"24px\">\n",
       "    <g>\n",
       "        <path d=\"M19 3H5c-1.1 0-2 .9-2 2v14c0 1.1.9 2 2 2h14c1.1 0 2-.9 2-2V5c0-1.1-.9-2-2-2zM9 17H7v-7h2v7zm4 0h-2V7h2v10zm4 0h-2v-4h2v4z\"/>\n",
       "    </g>\n",
       "</svg>\n",
       "  </button>\n",
       "\n",
       "<style>\n",
       "  .colab-df-quickchart {\n",
       "      --bg-color: #E8F0FE;\n",
       "      --fill-color: #1967D2;\n",
       "      --hover-bg-color: #E2EBFA;\n",
       "      --hover-fill-color: #174EA6;\n",
       "      --disabled-fill-color: #AAA;\n",
       "      --disabled-bg-color: #DDD;\n",
       "  }\n",
       "\n",
       "  [theme=dark] .colab-df-quickchart {\n",
       "      --bg-color: #3B4455;\n",
       "      --fill-color: #D2E3FC;\n",
       "      --hover-bg-color: #434B5C;\n",
       "      --hover-fill-color: #FFFFFF;\n",
       "      --disabled-bg-color: #3B4455;\n",
       "      --disabled-fill-color: #666;\n",
       "  }\n",
       "\n",
       "  .colab-df-quickchart {\n",
       "    background-color: var(--bg-color);\n",
       "    border: none;\n",
       "    border-radius: 50%;\n",
       "    cursor: pointer;\n",
       "    display: none;\n",
       "    fill: var(--fill-color);\n",
       "    height: 32px;\n",
       "    padding: 0;\n",
       "    width: 32px;\n",
       "  }\n",
       "\n",
       "  .colab-df-quickchart:hover {\n",
       "    background-color: var(--hover-bg-color);\n",
       "    box-shadow: 0 1px 2px rgba(60, 64, 67, 0.3), 0 1px 3px 1px rgba(60, 64, 67, 0.15);\n",
       "    fill: var(--button-hover-fill-color);\n",
       "  }\n",
       "\n",
       "  .colab-df-quickchart-complete:disabled,\n",
       "  .colab-df-quickchart-complete:disabled:hover {\n",
       "    background-color: var(--disabled-bg-color);\n",
       "    fill: var(--disabled-fill-color);\n",
       "    box-shadow: none;\n",
       "  }\n",
       "\n",
       "  .colab-df-spinner {\n",
       "    border: 2px solid var(--fill-color);\n",
       "    border-color: transparent;\n",
       "    border-bottom-color: var(--fill-color);\n",
       "    animation:\n",
       "      spin 1s steps(1) infinite;\n",
       "  }\n",
       "\n",
       "  @keyframes spin {\n",
       "    0% {\n",
       "      border-color: transparent;\n",
       "      border-bottom-color: var(--fill-color);\n",
       "      border-left-color: var(--fill-color);\n",
       "    }\n",
       "    20% {\n",
       "      border-color: transparent;\n",
       "      border-left-color: var(--fill-color);\n",
       "      border-top-color: var(--fill-color);\n",
       "    }\n",
       "    30% {\n",
       "      border-color: transparent;\n",
       "      border-left-color: var(--fill-color);\n",
       "      border-top-color: var(--fill-color);\n",
       "      border-right-color: var(--fill-color);\n",
       "    }\n",
       "    40% {\n",
       "      border-color: transparent;\n",
       "      border-right-color: var(--fill-color);\n",
       "      border-top-color: var(--fill-color);\n",
       "    }\n",
       "    60% {\n",
       "      border-color: transparent;\n",
       "      border-right-color: var(--fill-color);\n",
       "    }\n",
       "    80% {\n",
       "      border-color: transparent;\n",
       "      border-right-color: var(--fill-color);\n",
       "      border-bottom-color: var(--fill-color);\n",
       "    }\n",
       "    90% {\n",
       "      border-color: transparent;\n",
       "      border-bottom-color: var(--fill-color);\n",
       "    }\n",
       "  }\n",
       "</style>\n",
       "\n",
       "  <script>\n",
       "    async function quickchart(key) {\n",
       "      const quickchartButtonEl =\n",
       "        document.querySelector('#' + key + ' button');\n",
       "      quickchartButtonEl.disabled = true;  // To prevent multiple clicks.\n",
       "      quickchartButtonEl.classList.add('colab-df-spinner');\n",
       "      try {\n",
       "        const charts = await google.colab.kernel.invokeFunction(\n",
       "            'suggestCharts', [key], {});\n",
       "      } catch (error) {\n",
       "        console.error('Error during call to suggestCharts:', error);\n",
       "      }\n",
       "      quickchartButtonEl.classList.remove('colab-df-spinner');\n",
       "      quickchartButtonEl.classList.add('colab-df-quickchart-complete');\n",
       "    }\n",
       "    (() => {\n",
       "      let quickchartButtonEl =\n",
       "        document.querySelector('#df-e1283e74-c323-4d6d-8cc5-b20938f04ac6 button');\n",
       "      quickchartButtonEl.style.display =\n",
       "        google.colab.kernel.accessAllowed ? 'block' : 'none';\n",
       "    })();\n",
       "  </script>\n",
       "</div>\n",
       "    </div>\n",
       "  </div>\n"
      ],
      "text/plain": [
       "   index     FILENAME  GENDER   AGE   type\n",
       "0      0  ecg_adult_0    MALE  53.0  Adult\n",
       "1      1  ecg_adult_1    MALE  68.0  Adult\n",
       "2      5  ecg_adult_5  FEMALE  59.0  Adult\n",
       "3      6  ecg_adult_6    MALE  79.0  Adult\n",
       "4      7  ecg_adult_7    MALE  83.0  Adult"
      ]
     },
     "execution_count": 85,
     "metadata": {},
     "output_type": "execute_result"
    }
   ],
   "source": [
    "train.head()"
   ]
  },
  {
   "cell_type": "code",
   "execution_count": null,
   "metadata": {
    "id": "Yj4CPJK8afJ9"
   },
   "outputs": [],
   "source": [
    "# !mkdir ecg_train\n",
    "!cp ecg_child/* ecg_train\n",
    "!cp ecg_adult/* ecg_train"
   ]
  },
  {
   "cell_type": "code",
   "execution_count": null,
   "metadata": {
    "colab": {
     "base_uri": "https://localhost:8080/"
    },
    "id": "N0tJAd0VXIpO",
    "outputId": "52fc8758-4328-487c-cbb2-28a8da9a9dc4"
   },
   "outputs": [
    {
     "name": "stdout",
     "output_type": "stream",
     "text": [
      "Collecting ECG filenames and metadata...\n",
      "Total number of patients found: 39297\n"
     ]
    }
   ],
   "source": [
    "######################################################\n",
    "print(\"Collecting ECG filenames and metadata...\")\n",
    "ecg_filenames = [f'ecg_train/{file}.npy' for file in train['FILENAME']]\n",
    "age = train['AGE'].tolist()\n",
    "gender = train['GENDER'].tolist()\n",
    "ecg_len = [60000] * len(train)\n",
    "labels = train['FILENAME'].tolist()\n",
    "print(f\"Total number of patients found: {len(ecg_filenames)}\")"
   ]
  },
  {
   "cell_type": "code",
   "execution_count": null,
   "metadata": {
    "colab": {
     "base_uri": "https://localhost:8080/"
    },
    "id": "_sq5R8MAdjWh",
    "outputId": "ec555e41-29ac-4b8f-fa27-0ec3a4946b64"
   },
   "outputs": [
    {
     "data": {
      "text/plain": [
       "(39297, 5)"
      ]
     },
     "execution_count": 90,
     "metadata": {},
     "output_type": "execute_result"
    }
   ],
   "source": [
    "train.shape"
   ]
  },
  {
   "cell_type": "code",
   "execution_count": null,
   "metadata": {
    "id": "Z5TcW34qjmOW"
   },
   "outputs": [],
   "source": [
    "def ecg_dict(array):\n",
    "  lead = ['I','II', 'III','V1','V2','V3','V4','V5','V6','aVR','aVL', 'aVF']\n",
    "  ecg = dict()\n",
    "  for i in range(len(lead)):\n",
    "    ecg[lead[i]] = array[5000 * i : 5000 * (i+1)]\n",
    "  return ecg\n",
    "\n",
    "def ecg_12(dict):\n",
    "  return np.stack([dict[key] for key in dict.keys()],axis = 1)\n",
    "\n",
    "def load_data(filename):\n",
    "  ecg_arr = np.load(filename)\n",
    "  ecg_dic = ecg_dict(ecg_arr)\n",
    "  return ecg_12(ecg_dic)"
   ]
  },
  {
   "cell_type": "code",
   "execution_count": null,
   "metadata": {
    "colab": {
     "base_uri": "https://localhost:8080/"
    },
    "id": "JvteJR1mkPXD",
    "outputId": "cdbb806c-0b7a-4ba2-984f-0373ccc6a17d"
   },
   "outputs": [
    {
     "data": {
      "text/plain": [
       "(5000, 12)"
      ]
     },
     "execution_count": 92,
     "metadata": {},
     "output_type": "execute_result"
    }
   ],
   "source": [
    "load_data(ecg_filenames[0]).shape"
   ]
  },
  {
   "cell_type": "code",
   "execution_count": null,
   "metadata": {
    "colab": {
     "base_uri": "https://localhost:8080/"
    },
    "id": "SE5iQLYIPJ2d",
    "outputId": "eea8efab-f7c5-4c4d-c0ba-d2f02cad1620"
   },
   "outputs": [
    {
     "data": {
      "text/plain": [
       "0"
      ]
     },
     "execution_count": 93,
     "metadata": {},
     "output_type": "execute_result"
    }
   ],
   "source": [
    "train.isnull().sum(1).sum()"
   ]
  },
  {
   "cell_type": "code",
   "execution_count": null,
   "metadata": {
    "colab": {
     "base_uri": "https://localhost:8080/",
     "height": 546
    },
    "id": "Hpm9Ih0DQNNS",
    "outputId": "c4962330-7c0e-40c0-ca44-1ff6f3e2ce8a"
   },
   "outputs": [
    {
     "name": "stdout",
     "output_type": "stream",
     "text": [
      "FEMALE    19838\n",
      "MALE      19459\n",
      "Name: GENDER, dtype: int64\n"
     ]
    },
    {
     "data": {
      "text/plain": [
       "<Axes: >"
      ]
     },
     "execution_count": 94,
     "metadata": {},
     "output_type": "execute_result"
    },
    {
     "data": {
      "image/png": "[encoded data removed]",
      "text/plain": [
       "<Figure size 640x480 with 1 Axes>"
      ]
     },
     "metadata": {},
     "output_type": "display_data"
    }
   ],
   "source": [
    "print(train['GENDER'].value_counts())\n",
    "train['GENDER'].value_counts().plot(kind= 'bar')"
   ]
  },
  {
   "cell_type": "code",
   "execution_count": null,
   "metadata": {
    "colab": {
     "base_uri": "https://localhost:8080/",
     "height": 449
    },
    "id": "guDG6FsBQSb6",
    "outputId": "fcdd83aa-e906-4c0b-871d-b9582b25a445"
   },
   "outputs": [
    {
     "data": {
      "text/plain": [
       "<Axes: ylabel='Frequency'>"
      ]
     },
     "execution_count": 95,
     "metadata": {},
     "output_type": "execute_result"
    },
    {
     "data": {
      "image/png": "[encoded data removed]",
      "text/plain": [
       "<Figure size 640x480 with 1 Axes>"
      ]
     },
     "metadata": {},
     "output_type": "display_data"
    }
   ],
   "source": [
    "train['AGE'].plot.hist()"
   ]
  },
  {
   "cell_type": "code",
   "execution_count": null,
   "metadata": {
    "colab": {
     "base_uri": "https://localhost:8080/"
    },
    "id": "TAsPoT36Qq0I",
    "outputId": "3869ec54-f8da-4dd2-daa3-a833e8a3c395"
   },
   "outputs": [
    {
     "data": {
      "text/plain": [
       "{0, 1}"
      ]
     },
     "execution_count": 96,
     "metadata": {},
     "output_type": "execute_result"
    }
   ],
   "source": [
    "gender = [1 if x =='FEMALE' else 0 for x in gender]\n",
    "set(gender)"
   ]
  },
  {
   "cell_type": "code",
   "execution_count": null,
   "metadata": {
    "id": "HiNIzxyJd7FC"
   },
   "outputs": [],
   "source": [
    "stack = np.stack([np.load(x) for x in ecg_filenames[:10]])"
   ]
  },
  {
   "cell_type": "code",
   "execution_count": null,
   "metadata": {
    "colab": {
     "base_uri": "https://localhost:8080/"
    },
    "id": "9vrT99bZd-o8",
    "outputId": "82a0b00d-2e04-4092-b6ac-4fe1b86c7a85"
   },
   "outputs": [
    {
     "data": {
      "text/plain": [
       "(10, 60000)"
      ]
     },
     "execution_count": 98,
     "metadata": {},
     "output_type": "execute_result"
    }
   ],
   "source": [
    "stack.shape"
   ]
  },
  {
   "cell_type": "code",
   "execution_count": null,
   "metadata": {
    "id": "CWBr2Ax1W6Eb"
   },
   "outputs": [],
   "source": [
    "ecg_filenames = np.array(ecg_filenames)\n",
    "age = np.array(age)\n",
    "gender = np.array(gender)\n",
    "ecg_len = np.array(ecg_len)\n",
    "labels = np.array(labels)"
   ]
  },
  {
   "cell_type": "code",
   "execution_count": null,
   "metadata": {
    "colab": {
     "base_uri": "https://localhost:8080/"
    },
    "id": "NnbjkFRsd5z_",
    "outputId": "e15beda6-fe11-4eaa-8465-fc289f4eca46"
   },
   "outputs": [
    {
     "data": {
      "text/plain": [
       "array([53.        , 68.        , 59.        , ...,  0.08333333,\n",
       "        2.25      ,  4.5       ])"
      ]
     },
     "execution_count": 102,
     "metadata": {},
     "output_type": "execute_result"
    }
   ],
   "source": [
    "age"
   ]
  },
  {
   "cell_type": "code",
   "execution_count": null,
   "metadata": {
    "colab": {
     "base_uri": "https://localhost:8080/"
    },
    "id": "0TbpSlGHd7Cs",
    "outputId": "c2f9df2e-370d-45fe-f30c-3e8697f4b9d6"
   },
   "outputs": [
    {
     "data": {
      "text/plain": [
       "array([0, 0, 1, ..., 0, 1, 0])"
      ]
     },
     "execution_count": 103,
     "metadata": {},
     "output_type": "execute_result"
    }
   ],
   "source": [
    "gender"
   ]
  },
  {
   "cell_type": "code",
   "execution_count": null,
   "metadata": {
    "id": "6CrM8eTVesjC"
   },
   "outputs": [],
   "source": [
    "from sklearn.model_selection import KFold"
   ]
  },
  {
   "cell_type": "code",
   "execution_count": null,
   "metadata": {
    "_kg_hide-input": true,
    "colab": {
     "base_uri": "https://localhost:8080/"
    },
    "execution": {
     "iopub.execute_input": "2022-03-06T12:32:32.73665Z",
     "iopub.status.busy": "2022-03-06T12:32:32.733733Z",
     "iopub.status.idle": "2022-03-06T12:32:32.8213Z",
     "shell.execute_reply": "2022-03-06T12:32:32.820362Z",
     "shell.execute_reply.started": "2022-03-06T12:32:32.736606Z"
    },
    "id": "8cKYB-t6BZl_",
    "outputId": "e5d46ee9-9808-4f26-f98b-593eedbc94fe"
   },
   "outputs": [
    {
     "name": "stdout",
     "output_type": "stream",
     "text": [
      "Training split: 31437\n",
      "Validation split: 7860\n"
     ]
    }
   ],
   "source": [
    "def split_data(age, gender):\n",
    "    n_splits = 5\n",
    "    random_state = 42\n",
    "    kf = KFold(n_splits=n_splits, shuffle=True, random_state=random_state)\n",
    "\n",
    "    folds = list(kf.split(gender, age))\n",
    "\n",
    "    print(\"Training split: {}\".format(len(folds[0][0])))\n",
    "    print(\"Validation split: {}\".format(len(folds[0][1])))\n",
    "    return folds\n",
    "\n",
    "folds = split_data(age, gender)"
   ]
  },
  {
   "cell_type": "code",
   "execution_count": null,
   "metadata": {
    "_kg_hide-input": true,
    "execution": {
     "iopub.execute_input": "2022-03-06T12:32:32.831284Z",
     "iopub.status.busy": "2022-03-06T12:32:32.830215Z",
     "iopub.status.idle": "2022-03-06T12:32:32.899927Z",
     "shell.execute_reply": "2022-03-06T12:32:32.89886Z",
     "shell.execute_reply.started": "2022-03-06T12:32:32.831243Z"
    },
    "id": "lIC289SEBZmA"
   },
   "outputs": [],
   "source": [
    "def shuffle_batch_generator_age(batch_size, gen_x,gen_y,num_leads):\n",
    "    batch_features = np.zeros((batch_size,samp_freq*time, num_leads))\n",
    "    batch_labels_1 = np.zeros((batch_size,1))\n",
    "\n",
    "    while True:\n",
    "        for i in range(batch_size):\n",
    "\n",
    "            batch_features[i] = next(gen_x)\n",
    "            batch_labels_1[i] = next(gen_y)\n",
    "\n",
    "        yield batch_features, batch_labels_1\n",
    "\n",
    "def generate_y_age(y_train):\n",
    "    while True:\n",
    "        for i in y_train:\n",
    "            yield i\n",
    "\n",
    "\n",
    "def generate_X_age(X_train):\n",
    "    while True:\n",
    "        for ecg_filename in X_train:\n",
    "            data = load_data(ecg_filename)\n",
    "\n",
    "            yield data\n"
   ]
  },
  {
   "cell_type": "code",
   "execution_count": null,
   "metadata": {
    "_kg_hide-input": true,
    "execution": {
     "iopub.execute_input": "2022-03-06T12:32:32.908761Z",
     "iopub.status.busy": "2022-03-06T12:32:32.907633Z",
     "iopub.status.idle": "2022-03-06T12:32:32.923888Z",
     "shell.execute_reply": "2022-03-06T12:32:32.922881Z",
     "shell.execute_reply.started": "2022-03-06T12:32:32.908717Z"
    },
    "id": "6-2J8Ng1BZmA"
   },
   "outputs": [],
   "source": [
    "reduce_lr = tf.keras.callbacks.ReduceLROnPlateau(\n",
    "    monitor='val_loss', factor=0.1, patience=2, verbose=1, mode='min',\n",
    "    min_delta=0.0001, cooldown=2, min_lr=0\n",
    ")\n",
    "\n",
    "early_stop = tf.keras.callbacks.EarlyStopping(monitor='val_loss', mode='min', verbose=1, patience=3)"
   ]
  },
  {
   "cell_type": "code",
   "execution_count": null,
   "metadata": {
    "_kg_hide-input": true,
    "execution": {
     "iopub.execute_input": "2022-03-06T12:32:33.015083Z",
     "iopub.status.busy": "2022-03-06T12:32:33.01471Z",
     "iopub.status.idle": "2022-03-06T12:32:33.072733Z",
     "shell.execute_reply": "2022-03-06T12:32:33.071825Z",
     "shell.execute_reply.started": "2022-03-06T12:32:33.015048Z"
    },
    "id": "KEPMwtcQBZmA"
   },
   "outputs": [],
   "source": [
    "def _inception_module(input_tensor, stride=1, activation='linear', use_bottleneck=True, kernel_size=40, bottleneck_size=32, nb_filters=32):\n",
    "\n",
    "    if use_bottleneck and int(input_tensor.shape[-1]) > 1:\n",
    "        input_inception = keras.layers.Conv1D(filters=bottleneck_size, kernel_size=1,\n",
    "                                              padding='same', activation=activation, use_bias=False)(input_tensor)\n",
    "    else:\n",
    "        input_inception = input_tensor\n",
    "\n",
    "    # kernel_size_s = [3, 5, 8, 11, 17]\n",
    "    kernel_size_s = [kernel_size // (2 ** i) for i in range(3)]\n",
    "\n",
    "    conv_list = []\n",
    "\n",
    "    for i in range(len(kernel_size_s)):\n",
    "        conv_list.append(keras.layers.Conv1D(filters=nb_filters, kernel_size=kernel_size_s[i],\n",
    "                                              strides=stride, padding='same', activation=activation, use_bias=False)(\n",
    "            input_inception))\n",
    "\n",
    "    max_pool_1 = keras.layers.MaxPool1D(pool_size=3, strides=stride, padding='same')(input_tensor)\n",
    "\n",
    "    conv_6 = keras.layers.Conv1D(filters=nb_filters, kernel_size=1,\n",
    "                                  padding='same', activation=activation, use_bias=False)(max_pool_1)\n",
    "\n",
    "    conv_list.append(conv_6)\n",
    "\n",
    "    x = keras.layers.Concatenate(axis=2)(conv_list)\n",
    "    x = keras.layers.BatchNormalization()(x)\n",
    "    x = keras.layers.Activation(activation='relu')(x)\n",
    "    return x\n",
    "\n",
    "def _shortcut_layer(input_tensor, out_tensor):\n",
    "    shortcut_y = keras.layers.Conv1D(filters=int(out_tensor.shape[-1]), kernel_size=1,\n",
    "                                      padding='same', use_bias=False)(input_tensor)\n",
    "    shortcut_y = keras.layers.BatchNormalization()(shortcut_y)\n",
    "\n",
    "    x = keras.layers.Add()([shortcut_y, out_tensor])\n",
    "    x = keras.layers.Activation('relu')(x)\n",
    "    return x\n",
    "\n",
    "def build_model(input_shape, nb_classes, depth=50, use_residual=True):\n",
    "    input_layer = keras.layers.Input(input_shape)\n",
    "\n",
    "    x = input_layer\n",
    "    input_res = input_layer\n",
    "\n",
    "    for d in range(depth):\n",
    "\n",
    "        x = _inception_module(x)\n",
    "\n",
    "        if use_residual and d % 3 == 2:\n",
    "            x = _shortcut_layer(input_res, x)\n",
    "            input_res = x\n",
    "\n",
    "    gap_layer = keras.layers.GlobalAveragePooling1D()(x)\n",
    "\n",
    "    output_layer = keras.layers.Dense(units=nb_classes,activation='linear')(gap_layer)\n",
    "\n",
    "    model = keras.models.Model(inputs=input_layer, outputs=output_layer)\n",
    "    #model.compile(loss=[macro_double_soft_f1], optimizer=tf.keras.optimizers.Adam(learning_rate=0.001))\n",
    "    model.compile(loss=tf.keras.losses.MeanAbsoluteError(), optimizer=tf.keras.optimizers.Adam(learning_rate=0.001), metrics=[tf.keras.metrics.MeanSquaredError()])\n",
    "\n",
    "    return model\n",
    "\n"
   ]
  },
  {
   "cell_type": "code",
   "execution_count": null,
   "metadata": {
    "_kg_hide-input": true,
    "colab": {
     "base_uri": "https://localhost:8080/"
    },
    "execution": {
     "iopub.execute_input": "2022-03-06T12:58:20.665259Z",
     "iopub.status.busy": "2022-03-06T12:58:20.6648Z"
    },
    "id": "zixnMejMBZmB",
    "outputId": "21543af9-f9eb-4a43-a146-8bbda4c7a3d0"
   },
   "outputs": [
    {
     "name": "stdout",
     "output_type": "stream",
     "text": [
      "Training model...\n",
      "Epoch 1/25\n",
      "3929/3929 [==============================] - 3758s 923ms/step - loss: 13.1968 - mean_squared_error: 388.7119 - val_loss: 44.9270 - val_mean_squared_error: 2721.3108 - lr: 0.0010\n",
      "Epoch 2/25\n",
      "1319/3929 [=========>....................] - ETA: 37:38 - loss: 13.5649 - mean_squared_error: 327.1241"
     ]
    }
   ],
   "source": [
    "samp_freq = 500\n",
    "time = 10\n",
    "num_leads = 12\n",
    "batchsize = 8\n",
    "epoch = 25\n",
    "\n",
    "history = None\n",
    "for i in range(len(folds)):\n",
    "    train_ind = folds[i][0]\n",
    "    test_ind = folds[i][1]\n",
    "\n",
    "\n",
    "    #model = attia_network_age(samp_freq,time,num_leads) # velg modell\n",
    "    model = build_model((samp_freq*time,num_leads), 1)\n",
    "    history = model.fit(x = shuffle_batch_generator_age(batch_size=batchsize,\n",
    "                                              gen_x=generate_X_age(ecg_filenames[train_ind]),\n",
    "                                              gen_y=generate_y_age(age[train_ind]),\n",
    "                                              num_leads=num_leads),\n",
    "              epochs=epoch,\n",
    "              steps_per_epoch=(len(train_ind)/batchsize),\n",
    "              validation_data=shuffle_batch_generator_age(batch_size=batchsize,\n",
    "                                                          gen_x=generate_X_age(ecg_filenames[test_ind]),\n",
    "                                                          gen_y=generate_y_age(age[test_ind]),\n",
    "                                                          num_leads=num_leads),\n",
    "              validation_freq=1,\n",
    "              validation_steps = (len(test_ind)/batchsize),\n",
    "              verbose = 1,\n",
    "              callbacks=[reduce_lr,early_stop]\n",
    "              )\n",
    "    mse_score = []\n",
    "    mae_score = []\n",
    "    f1_score = []\n",
    "    acc_score = []\n",
    "    pred_age = []\n",
    "    true_age = []\n",
    "    for j in tqdm.tqdm(test_ind):\n",
    "        data = load_data(ecg_filenames[j])\n",
    "        y_true = age[j]\n",
    "        true_age.append(y_true)\n",
    "        y_hat = model.predict(np.expand_dims(data, axis=0))\n",
    "        pred_age.append(y_hat)\n",
    "        mse_score.append(mean_squared_error(np.expand_dims(y_true,axis=0),y_hat.ravel()))\n",
    "        mae_score.append(mean_absolute_error(np.expand_dims(y_true,axis=0),y_hat.ravel()))\n",
    "    mse_score = np.asarray(mse_score).mean()\n",
    "    mae_score = np.asarray(mae_score).mean()\n",
    "    print(\"MAE score {}\".format(mae_score))\n",
    "    print(\"MSE score {}\".format(mse_score))\n",
    "\n",
    "    break\n"
   ]
  },
  {
   "cell_type": "code",
   "execution_count": null,
   "metadata": {
    "_kg_hide-input": true,
    "execution": {
     "iopub.execute_input": "2022-02-28T08:34:22.359487Z",
     "iopub.status.busy": "2022-02-28T08:34:22.359148Z",
     "iopub.status.idle": "2022-02-28T08:34:22.402944Z",
     "shell.execute_reply": "2022-02-28T08:34:22.402229Z",
     "shell.execute_reply.started": "2022-02-28T08:34:22.35945Z"
    },
    "id": "VGyL-u5nBZmB"
   },
   "outputs": [],
   "source": [
    "d = {\"True age\": np.asarray(true_age).ravel(), 'Predicted age': np.asarray(pred_age).ravel(),'Error': abs(np.asarray(true_age).ravel() - np.asarray(pred_age).ravel())}\n",
    "df = pd.DataFrame(data = d)"
   ]
  },
  {
   "cell_type": "markdown",
   "metadata": {
    "id": "bfkXh-c1BZmB"
   },
   "source": [
    "## Analysis:\n"
   ]
  },
  {
   "cell_type": "markdown",
   "metadata": {
    "id": "BB8QDc-UBZmB"
   },
   "source": [
    "### Predicted vs actual age - Numbers of true and predicted ages"
   ]
  },
  {
   "cell_type": "code",
   "execution_count": null,
   "metadata": {
    "_kg_hide-input": true,
    "execution": {
     "iopub.execute_input": "2022-02-28T08:34:22.404988Z",
     "iopub.status.busy": "2022-02-28T08:34:22.404497Z",
     "iopub.status.idle": "2022-02-28T08:34:23.228742Z",
     "shell.execute_reply": "2022-02-28T08:34:23.227851Z",
     "shell.execute_reply.started": "2022-02-28T08:34:22.404949Z"
    },
    "id": "piQDdYBYBZmB"
   },
   "outputs": [],
   "source": [
    "plt.figure(figsize=(30,15))\n",
    "plt.hist(df[\"Predicted age\"], bins=100, label=\"Predicted age\", alpha=0.6)\n",
    "plt.hist(df[\"True age\"], bins=100, label=\"True age\", alpha=0.6)\n",
    "plt.legend()\n",
    "plt.xlim(0,100)\n",
    "plt.xlabel(\"Age\")\n",
    "plt.ylabel(\"Number of patients\")\n",
    "plt.show()"
   ]
  },
  {
   "cell_type": "markdown",
   "metadata": {
    "id": "j0RUXqOIBZmC"
   },
   "source": [
    "### Comparing the predicted age vs the acual age. The red line shows the correct age, while the green line shows the result of the best linear fit based on the predicted age"
   ]
  },
  {
   "cell_type": "code",
   "execution_count": null,
   "metadata": {
    "_kg_hide-input": true,
    "execution": {
     "iopub.execute_input": "2022-02-28T08:34:23.230579Z",
     "iopub.status.busy": "2022-02-28T08:34:23.23006Z",
     "iopub.status.idle": "2022-02-28T08:34:23.862439Z",
     "shell.execute_reply": "2022-02-28T08:34:23.861522Z",
     "shell.execute_reply.started": "2022-02-28T08:34:23.230537Z"
    },
    "id": "9k9OZwV1BZmC"
   },
   "outputs": [],
   "source": [
    "slope, intercept, r_value, p_value, std_err = stats.linregress(df[\"True age\"],df[\"Predicted age\"])\n",
    "reg_line = (np.arange(101)*slope) + intercept\n",
    "plt.figure(figsize=(30,15))\n",
    "sns.set(font_scale=2)\n",
    "sns.scatterplot(data=df, x=\"True age\", y=\"Predicted age\")\n",
    "sns.set(font_scale=5)\n",
    "plt.plot(np.arange(101),'red', label=\"1x + 0\")\n",
    "plt.plot(reg_line,'green', label = \"{}x + {}\".format(round(slope,2), round(intercept,2)))\n",
    "plt.legend(fontsize=20)\n",
    "plt.xticks(fontsize=20)\n",
    "plt.yticks(fontsize=20)\n",
    "plt.show()"
   ]
  },
  {
   "cell_type": "markdown",
   "metadata": {
    "id": "7u7iiT3yBZmC"
   },
   "source": [
    "### Comparing the predicted age vs the acual age seen as box plot. From this we can see which ages that are predicted most accurate and uncertain by the model. The red line shows the correct age, while the green line shows the result of the best linear fit based on the predicted age"
   ]
  },
  {
   "cell_type": "code",
   "execution_count": null,
   "metadata": {
    "_kg_hide-input": true,
    "execution": {
     "iopub.execute_input": "2022-02-28T08:34:23.865572Z",
     "iopub.status.busy": "2022-02-28T08:34:23.865219Z",
     "iopub.status.idle": "2022-02-28T08:34:27.014431Z",
     "shell.execute_reply": "2022-02-28T08:34:27.013594Z",
     "shell.execute_reply.started": "2022-02-28T08:34:23.865535Z"
    },
    "id": "L4Yu8zyOBZmC"
   },
   "outputs": [],
   "source": [
    "plt.figure(figsize=(30,15))\n",
    "sns.set(font_scale=2)\n",
    "sns.boxplot(data=df, x=\"True age\", y=\"Predicted age\")\n",
    "plt.plot(np.arange(101),'red', label=\"1x + 0\")\n",
    "plt.plot(reg_line,'green', label = \"{}x + {}\".format(round(slope,2), round(intercept,2)))\n",
    "plt.xticks(fontsize=12)\n",
    "plt.legend()\n",
    "plt.xlim(0,100)\n",
    "plt.show()"
   ]
  },
  {
   "cell_type": "markdown",
   "metadata": {
    "id": "iM2nhsyOBZmC"
   },
   "source": [
    "### Total absoulte error between real and predicted age for each year"
   ]
  },
  {
   "cell_type": "code",
   "execution_count": null,
   "metadata": {
    "_kg_hide-input": true,
    "execution": {
     "iopub.execute_input": "2022-02-28T08:34:27.016641Z",
     "iopub.status.busy": "2022-02-28T08:34:27.016094Z",
     "iopub.status.idle": "2022-02-28T08:34:29.497418Z",
     "shell.execute_reply": "2022-02-28T08:34:29.496551Z",
     "shell.execute_reply.started": "2022-02-28T08:34:27.016589Z"
    },
    "id": "uqbh-GIUBZmC"
   },
   "outputs": [],
   "source": [
    "plt.figure(figsize=(30,15))\n",
    "sns.barplot(x=\"True age\", y=\"Error\",data=df.groupby(\"True age\").sum().reset_index())\n",
    "plt.ylabel(\"Total absolute error pr age\")\n",
    "plt.xticks(fontsize=12)\n",
    "plt.show()"
   ]
  },
  {
   "cell_type": "markdown",
   "metadata": {
    "id": "1-0wAt24BZmC"
   },
   "source": [
    "### Mean absoulte error between real and predicted age for each year"
   ]
  },
  {
   "cell_type": "code",
   "execution_count": null,
   "metadata": {
    "_kg_hide-input": true,
    "execution": {
     "iopub.execute_input": "2022-02-28T08:34:29.499417Z",
     "iopub.status.busy": "2022-02-28T08:34:29.498848Z",
     "iopub.status.idle": "2022-02-28T08:34:31.723384Z",
     "shell.execute_reply": "2022-02-28T08:34:31.722672Z",
     "shell.execute_reply.started": "2022-02-28T08:34:29.499376Z"
    },
    "id": "ea_SoOztBZmC"
   },
   "outputs": [],
   "source": [
    "df_err = df.groupby(\"True age\").sum().reset_index()\n",
    "df_err[\"count\"] = df.groupby(\"True age\").count()[\"Error\"]\n",
    "df_err[\"count\"] = df_err[\"count\"].fillna(0)\n",
    "df_err[\"Mean Error\"] = df_err[\"Error\"]/df_err[\"count\"]\n",
    "\n",
    "plt.figure(figsize=(30,15))\n",
    "sns.barplot(x=\"True age\", y=\"Mean Error\",data=df_err)\n",
    "plt.ylabel(\"Mean absoulte error pr age\")\n",
    "plt.xticks(fontsize=12)\n",
    "plt.show()"
   ]
  },
  {
   "cell_type": "code",
   "execution_count": null,
   "metadata": {
    "_kg_hide-input": true,
    "execution": {
     "iopub.execute_input": "2022-02-28T08:34:31.725081Z",
     "iopub.status.busy": "2022-02-28T08:34:31.724758Z",
     "iopub.status.idle": "2022-02-28T08:34:31.731308Z",
     "shell.execute_reply": "2022-02-28T08:34:31.730456Z",
     "shell.execute_reply.started": "2022-02-28T08:34:31.72505Z"
    },
    "id": "oWc_j-XSBZmC"
   },
   "outputs": [],
   "source": [
    "snomed_ct_codes = np.array([\"164889003\",\"164890007\",\"6374002\",\"426627000\",\"733534002\",\"713427006\",\"270492004\",\"713426002\",\"39732003\",\"445118002\",\"164909002\",\"251146004\",\"698252002\",\"426783006\",\"284470004\",\n",
    " \"10370003\",\"365413008\",\"427172004\",\"164947007\",\"111975006\",\"164917005\",\"47665007\",\"59118001\",\"427393009\",\"426177001\",\"427084000\",\"63593006\",\"164934002\",\"59931005\",\"17338001\"])\n"
   ]
  },
  {
   "cell_type": "code",
   "execution_count": null,
   "metadata": {
    "_kg_hide-input": true,
    "execution": {
     "iopub.execute_input": "2022-02-28T08:34:31.733197Z",
     "iopub.status.busy": "2022-02-28T08:34:31.732683Z",
     "iopub.status.idle": "2022-02-28T08:34:31.740948Z",
     "shell.execute_reply": "2022-02-28T08:34:31.740086Z",
     "shell.execute_reply.started": "2022-02-28T08:34:31.733155Z"
    },
    "id": "O2TVprf7BZmD"
   },
   "outputs": [],
   "source": [
    "diagnoses = np.array([\"atrial fibrillation\",\"atrial flutter\",\"bundle branch block\",\"bradycardia\",\"complete left bundle branch block\",\"complete right bundle branch block\",\"1st degree av block\",\"incomplete right bundle branch block\",\"left axis deviation\",\"left anterior fascicular block\",\n",
    "\"left bundle branch block\",\"low qrs voltages\",\"nonspecific intraventricular conduction disorder\",\"sinus rhythm\",\"premature atrial contraction\",\"pacing rhythm\",\"poor R wave Progression\",\"premature ventricular contractions\",\"prolonged pr interval\",\"prolonged qt interval\",\n",
    "\"qwave abnormal\",\"right axis deviation\",\"right bundle branch block\",\"sinus arrhythmia\",\"sinus bradycardia\",\"sinus tachycardia\",\"supraventricular premature beats\",\"t wave abnormal\",\"t wave inversion\",\"ventricular premature beats\"])\n"
   ]
  },
  {
   "cell_type": "code",
   "execution_count": null,
   "metadata": {
    "_kg_hide-input": true,
    "execution": {
     "iopub.execute_input": "2022-02-28T08:34:31.742894Z",
     "iopub.status.busy": "2022-02-28T08:34:31.742223Z",
     "iopub.status.idle": "2022-02-28T08:34:31.755699Z",
     "shell.execute_reply": "2022-02-28T08:34:31.754941Z",
     "shell.execute_reply.started": "2022-02-28T08:34:31.742855Z"
    },
    "id": "LfrXFhDWBZmD"
   },
   "outputs": [],
   "source": [
    "def load_header(header_file):\n",
    "    with open(header_file, 'r') as f:\n",
    "        header = f.read()\n",
    "    return header\n",
    "\n",
    "def get_labels(header):\n",
    "    labels = list()\n",
    "    for l in header.split('\\n'):\n",
    "        if l.startswith('#Dx'):\n",
    "            try:\n",
    "                entries = l.split(': ')[1].split(',')\n",
    "                for entry in entries:\n",
    "                    labels.append(entry.strip())\n",
    "            except:\n",
    "                pass\n",
    "    return labels\n",
    "\n",
    "def is_integer(x):\n",
    "    if is_number(x):\n",
    "        return float(x).is_integer()\n",
    "    else:\n",
    "        return False\n",
    "\n",
    "def is_number(x):\n",
    "    try:\n",
    "        float(x)\n",
    "        return True\n",
    "    except (ValueError, TypeError):\n",
    "        return False"
   ]
  },
  {
   "cell_type": "code",
   "execution_count": null,
   "metadata": {
    "_kg_hide-input": true,
    "execution": {
     "iopub.execute_input": "2022-02-28T08:34:31.759354Z",
     "iopub.status.busy": "2022-02-28T08:34:31.759076Z",
     "iopub.status.idle": "2022-02-28T08:34:31.767917Z",
     "shell.execute_reply": "2022-02-28T08:34:31.767209Z",
     "shell.execute_reply.started": "2022-02-28T08:34:31.759328Z"
    },
    "id": "0BlmHCw1BZmD"
   },
   "outputs": [],
   "source": [
    "val_ecg_filenames =np.asarray(ecg_filenames)[test_ind]"
   ]
  },
  {
   "cell_type": "code",
   "execution_count": null,
   "metadata": {
    "_kg_hide-input": true,
    "execution": {
     "iopub.execute_input": "2022-02-28T08:34:31.770171Z",
     "iopub.status.busy": "2022-02-28T08:34:31.769745Z",
     "iopub.status.idle": "2022-02-28T08:34:41.792448Z",
     "shell.execute_reply": "2022-02-28T08:34:41.791569Z",
     "shell.execute_reply.started": "2022-02-28T08:34:31.770131Z"
    },
    "id": "StFxfj3WBZmD"
   },
   "outputs": [],
   "source": [
    "classes = set()\n",
    "for ecg_file in tqdm.tqdm(val_ecg_filenames):\n",
    "    header_file = ecg_file.replace('.mat','.hea')\n",
    "    header = load_header(header_file)\n",
    "    classes |= set(get_labels(header))\n",
    "if all(is_integer(x) for x in classes):\n",
    "    classes = sorted(classes, key=lambda x: int(x)) # Sort classes numerically if numbers.\n",
    "else:\n",
    "    classes = sorted(classes) # Sort classes alphanumerically if not numbers.\n",
    "num_classes = len(classes)"
   ]
  },
  {
   "cell_type": "code",
   "execution_count": null,
   "metadata": {
    "_kg_hide-input": true,
    "execution": {
     "iopub.execute_input": "2022-02-28T08:34:41.794234Z",
     "iopub.status.busy": "2022-02-28T08:34:41.793741Z",
     "iopub.status.idle": "2022-02-28T08:34:41.802987Z",
     "shell.execute_reply": "2022-02-28T08:34:41.802032Z",
     "shell.execute_reply.started": "2022-02-28T08:34:41.794194Z"
    },
    "id": "bNeZ7vNPBZmD"
   },
   "outputs": [],
   "source": [
    "scored_classes = []\n",
    "for i in classes:\n",
    "    for j in snomed_ct_codes:\n",
    "        if i == '':\n",
    "            continue\n",
    "        if i == j:\n",
    "            scored_classes.append(i)\n",
    "scored_classes = sorted(scored_classes)"
   ]
  },
  {
   "cell_type": "code",
   "execution_count": null,
   "metadata": {
    "_kg_hide-input": true,
    "execution": {
     "iopub.execute_input": "2022-02-28T08:34:41.804968Z",
     "iopub.status.busy": "2022-02-28T08:34:41.804364Z",
     "iopub.status.idle": "2022-02-28T08:34:41.818572Z",
     "shell.execute_reply": "2022-02-28T08:34:41.817601Z",
     "shell.execute_reply.started": "2022-02-28T08:34:41.80493Z"
    },
    "id": "ZJK0xhB_BZmD"
   },
   "outputs": [],
   "source": [
    "class_names = []\n",
    "for j in range(len(scored_classes)):\n",
    "    for i in range(len(snomed_ct_codes)):\n",
    "        if (str(snomed_ct_codes[i]) == scored_classes[j]):\n",
    "            class_names.append(diagnoses[i])"
   ]
  },
  {
   "cell_type": "code",
   "execution_count": null,
   "metadata": {
    "_kg_hide-input": true,
    "execution": {
     "iopub.execute_input": "2022-02-28T08:34:41.820715Z",
     "iopub.status.busy": "2022-02-28T08:34:41.820036Z",
     "iopub.status.idle": "2022-02-28T08:34:51.045139Z",
     "shell.execute_reply": "2022-02-28T08:34:51.044287Z",
     "shell.execute_reply.started": "2022-02-28T08:34:41.820677Z"
    },
    "id": "SaBR5rTYBZmD"
   },
   "outputs": [],
   "source": [
    "num_recordings = len(val_ecg_filenames)\n",
    "num_classes = len(scored_classes)\n",
    "val_labels = np.zeros((num_recordings, num_classes), dtype=np.bool) # One-hot encoding of classes\n",
    "\n",
    "for i in range(len(val_ecg_filenames)):\n",
    "    current_labels = get_labels(load_header(val_ecg_filenames[i].replace('.mat','.hea')))\n",
    "    for lab in current_labels:\n",
    "        if lab in scored_classes:\n",
    "            j = scored_classes.index(lab)\n",
    "        val_labels[i, j] = 1\n",
    "val_labels = val_labels * 1"
   ]
  },
  {
   "cell_type": "markdown",
   "metadata": {
    "id": "lXi1wA5eBZmD"
   },
   "source": [
    "### Comparing the predicted age vs the actual age for 30 different cardiovascular diseases. The red line shows the correct age, while the green line shows the result of the best linear fit based on the predicted age"
   ]
  },
  {
   "cell_type": "code",
   "execution_count": null,
   "metadata": {
    "_kg_hide-input": true,
    "execution": {
     "iopub.execute_input": "2022-02-28T08:43:50.958707Z",
     "iopub.status.busy": "2022-02-28T08:43:50.958345Z",
     "iopub.status.idle": "2022-02-28T08:43:59.695671Z",
     "shell.execute_reply": "2022-02-28T08:43:59.694566Z",
     "shell.execute_reply.started": "2022-02-28T08:43:50.958671Z"
    },
    "id": "AFrGLAULBZmD"
   },
   "outputs": [],
   "source": [
    "fig, ax = plt.subplots(6, 5, sharex=True, sharey=True)\n",
    "fig.set_figheight(46)\n",
    "fig.set_figwidth(46)\n",
    "cnt = 0\n",
    "cnt_2 = 0\n",
    "for i in range(30):\n",
    "    TE = np.asarray(df.iloc[np.where(val_labels[:,i]==1)[0]][\"True age\"] - df.iloc[np.where(val_labels[:,i]==1)[0]][\"Predicted age\"]).sum()\n",
    "    MAE = np.asarray(abs(df.iloc[np.where(val_labels[:,i]==1)[0]][\"True age\"] - df.iloc[np.where(val_labels[:,i]==1)[0]][\"Predicted age\"])).sum()/len(np.asarray(df.iloc[np.where(val_labels[:,i]==1)[0]][\"True age\"] - df.iloc[np.where(val_labels[:,i]==1)[0]][\"Predicted age\"]))\n",
    "    slope, intercept, r_value, p_value, std_err = stats.linregress(df.iloc[np.where(val_labels[:,i]==1)[0]][\"True age\"],df.iloc[np.where(val_labels[:,i]==1)[0]][\"Predicted age\"])\n",
    "    ax[cnt_2,cnt].set_title(class_names[i] + \", MAE= {}\".format(round(MAE,2)))\n",
    "    df_temp = df.iloc[np.where(val_labels[:,i]==1)[0]]\n",
    "    ax[cnt_2,cnt].scatter(df_temp[\"True age\"],df_temp[\"Predicted age\"])\n",
    "    #sns.scatterplot(data=df.iloc[np.where(val_labels[:,i]==1)[0]], x=\"True age\", y=\"Predicted age\")\n",
    "    ax[cnt_2,cnt].plot(np.arange(101),'red', label=\"1x + 0\")\n",
    "    ax[cnt_2,cnt].plot(reg_line,'green', label = \"{}x + {}\".format(round(slope,2), round(intercept,2)))\n",
    "    ax[cnt_2,cnt].set_xlabel(\"True age\")\n",
    "    ax[cnt_2,cnt].set_ylabel(\"Predicted age\")\n",
    "    ax[cnt_2,cnt].legend()\n",
    "    cnt += 1\n",
    "    if cnt == 5:\n",
    "        cnt_2 += 1\n",
    "        cnt = 0\n",
    "\n"
   ]
  },
  {
   "cell_type": "code",
   "execution_count": null,
   "metadata": {
    "id": "tntjkCGSBZmE"
   },
   "outputs": [],
   "source": []
  }
 ],
 "metadata": {
  "colab": {
   "provenance": []
  },
  "kernelspec": {
   "display_name": "Python 3 (ipykernel)",
   "language": "python",
   "name": "python3"
  },
  "language_info": {
   "codemirror_mode": {
    "name": "ipython",
    "version": 3
   },
   "file_extension": ".py",
   "mimetype": "text/x-python",
   "name": "python",
   "nbconvert_exporter": "python",
   "pygments_lexer": "ipython3",
   "version": "3.9.7"
  }
 },
 "nbformat": 4,
 "nbformat_minor": 1
}
