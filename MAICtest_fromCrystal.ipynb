{
 "cells": [
  {
   "cell_type": "code",
   "execution_count": null,
   "metadata": {
    "id": "DjlDioQj6DHT"
   },
   "outputs": [],
   "source": [
    "import os\n",
    "import pandas as pd\n",
    "import matplotlib.pyplot as plt\n",
    "import numpy as np"
   ]
  },
  {
   "cell_type": "code",
   "execution_count": null,
   "metadata": {
    "colab": {
     "base_uri": "https://localhost:8080/"
    },
    "executionInfo": {
     "elapsed": 140009,
     "status": "ok",
     "timestamp": 1694936706638,
     "user": {
      "displayName": "Carpe DM",
      "userId": "00198161951846214785"
     },
     "user_tz": -540
    },
    "id": "JuuJtRfn6JDt",
    "outputId": "3b9c23d0-3541-4edc-9b42-0821a175eddf"
   },
   "outputs": [
    {
     "name": "stdout",
     "output_type": "stream",
     "text": [
      "Drive already mounted at /content/drive; to attempt to forcibly remount, call drive.mount(\"/content/drive\", force_remount=True).\n"
     ]
    }
   ],
   "source": [
    "from google.colab import drive\n",
    "drive.mount('/content/drive')"
   ]
  },
  {
   "cell_type": "code",
   "execution_count": null,
   "metadata": {
    "colab": {
     "base_uri": "https://localhost:8080/"
    },
    "executionInfo": {
     "elapsed": 5,
     "status": "ok",
     "timestamp": 1694936706639,
     "user": {
      "displayName": "Carpe DM",
      "userId": "00198161951846214785"
     },
     "user_tz": -540
    },
    "id": "Hc1CYfai6Jh5",
    "outputId": "0c01f972-8637-4593-d05d-46b6ac5c6c9b"
   },
   "outputs": [
    {
     "data": {
      "text/plain": [
       "['MAIC2023-20230916T025150Z-002.zip', 'MAIC2023-20230916T025150Z-001.zip']"
      ]
     },
     "execution_count": 3,
     "metadata": {},
     "output_type": "execute_result"
    }
   ],
   "source": [
    "os.listdir('/content/drive/MyDrive/MAIC')"
   ]
  },
  {
   "cell_type": "code",
   "execution_count": null,
   "metadata": {
    "id": "hvMs8Bkz618f"
   },
   "outputs": [],
   "source": [
    "!cp -r /content/drive/MyDrive/MAIC /content/"
   ]
  },
  {
   "cell_type": "code",
   "execution_count": null,
   "metadata": {
    "colab": {
     "base_uri": "https://localhost:8080/"
    },
    "executionInfo": {
     "elapsed": 6,
     "status": "ok",
     "timestamp": 1694936710374,
     "user": {
      "displayName": "Carpe DM",
      "userId": "00198161951846214785"
     },
     "user_tz": -540
    },
    "id": "_znWLRA97AB6",
    "outputId": "613d5ca8-0b15-46d7-88be-44bcd3937082"
   },
   "outputs": [
    {
     "name": "stdout",
     "output_type": "stream",
     "text": [
      "/content\n"
     ]
    }
   ],
   "source": [
    "!pwd"
   ]
  },
  {
   "cell_type": "code",
   "execution_count": null,
   "metadata": {
    "colab": {
     "base_uri": "https://localhost:8080/"
    },
    "executionInfo": {
     "elapsed": 85653,
     "status": "ok",
     "timestamp": 1694936796369,
     "user": {
      "displayName": "Carpe DM",
      "userId": "00198161951846214785"
     },
     "user_tz": -540
    },
    "id": "A2X2tBwp7Ihx",
    "outputId": "6959464d-c634-42ef-e384-50442ae6c977"
   },
   "outputs": [
    {
     "name": "stdout",
     "output_type": "stream",
     "text": [
      "Archive:  /content/MAIC/MAIC2023-20230916T025150Z-001.zip\n",
      "  inflating: MAIC2023/ECG_adult_numpy_train.egg  \n",
      "  inflating: MAIC2023/submission.csv  \n",
      "  inflating: MAIC2023/ECG_child_age_train.csv  \n",
      "  inflating: MAIC2023/ECG_adult_age_train.csv  \n",
      "Archive:  /content/MAIC/MAIC2023-20230916T025150Z-002.zip\n",
      "  inflating: MAIC2023/ECG_child_numpy_valid.zip  \n",
      "  inflating: MAIC2023/ECG_adult_numpy_valid.zip  \n",
      "  inflating: MAIC2023/ECG_child_numpy_train.zip  \n"
     ]
    }
   ],
   "source": [
    "!unzip /content/MAIC/MAIC2023-20230916T025150Z-001.zip\n",
    "# !unzip /content/MAIC/MAIC2023-20230916T025150Z-002.zip"
   ]
  },
  {
   "cell_type": "code",
   "execution_count": null,
   "metadata": {
    "id": "uWVAvjdl9zrm"
   },
   "outputs": [],
   "source": [
    "!mkdir ecg_child\n",
    "!unzip /content/MAIC2023/ECG_child_numpy_train.zip -d ecg_child"
   ]
  },
  {
   "cell_type": "code",
   "execution_count": null,
   "metadata": {
    "id": "aoV1F-t5-11j"
   },
   "outputs": [],
   "source": [
    "cd = pd.read_csv('./MAIC2023/ECG_child_age_train.csv')"
   ]
  },
  {
   "cell_type": "code",
   "execution_count": null,
   "metadata": {
    "colab": {
     "base_uri": "https://localhost:8080/",
     "height": 206
    },
    "executionInfo": {
     "elapsed": 11,
     "status": "ok",
     "timestamp": 1694936842579,
     "user": {
      "displayName": "Carpe DM",
      "userId": "00198161951846214785"
     },
     "user_tz": -540
    },
    "id": "bowa1eqnNSc_",
    "outputId": "72bc7d14-38c9-4c11-c70b-1e4f115194cc"
   },
   "outputs": [
    {
     "data": {
      "text/html": [
       "\n",
       "  <div id=\"df-42f5e161-f351-49ef-a4e8-193af3c6ab74\" class=\"colab-df-container\">\n",
       "    <div>\n",
       "<style scoped>\n",
       "    .dataframe tbody tr th:only-of-type {\n",
       "        vertical-align: middle;\n",
       "    }\n",
       "\n",
       "    .dataframe tbody tr th {\n",
       "        vertical-align: top;\n",
       "    }\n",
       "\n",
       "    .dataframe thead th {\n",
       "        text-align: right;\n",
       "    }\n",
       "</style>\n",
       "<table border=\"1\" class=\"dataframe\">\n",
       "  <thead>\n",
       "    <tr style=\"text-align: right;\">\n",
       "      <th></th>\n",
       "      <th>FILENAME</th>\n",
       "      <th>GENDER</th>\n",
       "      <th>AGE</th>\n",
       "    </tr>\n",
       "  </thead>\n",
       "  <tbody>\n",
       "    <tr>\n",
       "      <th>0</th>\n",
       "      <td>ecg_child_0</td>\n",
       "      <td>MALE</td>\n",
       "      <td>1.500000</td>\n",
       "    </tr>\n",
       "    <tr>\n",
       "      <th>1</th>\n",
       "      <td>ecg_child_1</td>\n",
       "      <td>MALE</td>\n",
       "      <td>4.833333</td>\n",
       "    </tr>\n",
       "    <tr>\n",
       "      <th>2</th>\n",
       "      <td>ecg_child_2</td>\n",
       "      <td>FEMALE</td>\n",
       "      <td>5.583333</td>\n",
       "    </tr>\n",
       "    <tr>\n",
       "      <th>3</th>\n",
       "      <td>ecg_child_3</td>\n",
       "      <td>FEMALE</td>\n",
       "      <td>5.083333</td>\n",
       "    </tr>\n",
       "    <tr>\n",
       "      <th>4</th>\n",
       "      <td>ecg_child_4</td>\n",
       "      <td>MALE</td>\n",
       "      <td>0.166667</td>\n",
       "    </tr>\n",
       "  </tbody>\n",
       "</table>\n",
       "</div>\n",
       "    <div class=\"colab-df-buttons\">\n",
       "\n",
       "  <div class=\"colab-df-container\">\n",
       "    <button class=\"colab-df-convert\" onclick=\"convertToInteractive('df-42f5e161-f351-49ef-a4e8-193af3c6ab74')\"\n",
       "            title=\"Convert this dataframe to an interactive table.\"\n",
       "            style=\"display:none;\">\n",
       "\n",
       "  <svg xmlns=\"http://www.w3.org/2000/svg\" height=\"24px\" viewBox=\"0 -960 960 960\">\n",
       "    <path d=\"M120-120v-720h720v720H120Zm60-500h600v-160H180v160Zm220 220h160v-160H400v160Zm0 220h160v-160H400v160ZM180-400h160v-160H180v160Zm440 0h160v-160H620v160ZM180-180h160v-160H180v160Zm440 0h160v-160H620v160Z\"/>\n",
       "  </svg>\n",
       "    </button>\n",
       "\n",
       "  <style>\n",
       "    .colab-df-container {\n",
       "      display:flex;\n",
       "      gap: 12px;\n",
       "    }\n",
       "\n",
       "    .colab-df-convert {\n",
       "      background-color: #E8F0FE;\n",
       "      border: none;\n",
       "      border-radius: 50%;\n",
       "      cursor: pointer;\n",
       "      display: none;\n",
       "      fill: #1967D2;\n",
       "      height: 32px;\n",
       "      padding: 0 0 0 0;\n",
       "      width: 32px;\n",
       "    }\n",
       "\n",
       "    .colab-df-convert:hover {\n",
       "      background-color: #E2EBFA;\n",
       "      box-shadow: 0px 1px 2px rgba(60, 64, 67, 0.3), 0px 1px 3px 1px rgba(60, 64, 67, 0.15);\n",
       "      fill: #174EA6;\n",
       "    }\n",
       "\n",
       "    .colab-df-buttons div {\n",
       "      margin-bottom: 4px;\n",
       "    }\n",
       "\n",
       "    [theme=dark] .colab-df-convert {\n",
       "      background-color: #3B4455;\n",
       "      fill: #D2E3FC;\n",
       "    }\n",
       "\n",
       "    [theme=dark] .colab-df-convert:hover {\n",
       "      background-color: #434B5C;\n",
       "      box-shadow: 0px 1px 3px 1px rgba(0, 0, 0, 0.15);\n",
       "      filter: drop-shadow(0px 1px 2px rgba(0, 0, 0, 0.3));\n",
       "      fill: #FFFFFF;\n",
       "    }\n",
       "  </style>\n",
       "\n",
       "    <script>\n",
       "      const buttonEl =\n",
       "        document.querySelector('#df-42f5e161-f351-49ef-a4e8-193af3c6ab74 button.colab-df-convert');\n",
       "      buttonEl.style.display =\n",
       "        google.colab.kernel.accessAllowed ? 'block' : 'none';\n",
       "\n",
       "      async function convertToInteractive(key) {\n",
       "        const element = document.querySelector('#df-42f5e161-f351-49ef-a4e8-193af3c6ab74');\n",
       "        const dataTable =\n",
       "          await google.colab.kernel.invokeFunction('convertToInteractive',\n",
       "                                                    [key], {});\n",
       "        if (!dataTable) return;\n",
       "\n",
       "        const docLinkHtml = 'Like what you see? Visit the ' +\n",
       "          '<a target=\"_blank\" href=https://colab.research.google.com/notebooks/data_table.ipynb>data table notebook</a>'\n",
       "          + ' to learn more about interactive tables.';\n",
       "        element.innerHTML = '';\n",
       "        dataTable['output_type'] = 'display_data';\n",
       "        await google.colab.output.renderOutput(dataTable, element);\n",
       "        const docLink = document.createElement('div');\n",
       "        docLink.innerHTML = docLinkHtml;\n",
       "        element.appendChild(docLink);\n",
       "      }\n",
       "    </script>\n",
       "  </div>\n",
       "\n",
       "\n",
       "<div id=\"df-fd42517a-291d-4ace-9164-d8cce1187467\">\n",
       "  <button class=\"colab-df-quickchart\" onclick=\"quickchart('df-fd42517a-291d-4ace-9164-d8cce1187467')\"\n",
       "            title=\"Suggest charts.\"\n",
       "            style=\"display:none;\">\n",
       "\n",
       "<svg xmlns=\"http://www.w3.org/2000/svg\" height=\"24px\"viewBox=\"0 0 24 24\"\n",
       "     width=\"24px\">\n",
       "    <g>\n",
       "        <path d=\"M19 3H5c-1.1 0-2 .9-2 2v14c0 1.1.9 2 2 2h14c1.1 0 2-.9 2-2V5c0-1.1-.9-2-2-2zM9 17H7v-7h2v7zm4 0h-2V7h2v10zm4 0h-2v-4h2v4z\"/>\n",
       "    </g>\n",
       "</svg>\n",
       "  </button>\n",
       "\n",
       "<style>\n",
       "  .colab-df-quickchart {\n",
       "      --bg-color: #E8F0FE;\n",
       "      --fill-color: #1967D2;\n",
       "      --hover-bg-color: #E2EBFA;\n",
       "      --hover-fill-color: #174EA6;\n",
       "      --disabled-fill-color: #AAA;\n",
       "      --disabled-bg-color: #DDD;\n",
       "  }\n",
       "\n",
       "  [theme=dark] .colab-df-quickchart {\n",
       "      --bg-color: #3B4455;\n",
       "      --fill-color: #D2E3FC;\n",
       "      --hover-bg-color: #434B5C;\n",
       "      --hover-fill-color: #FFFFFF;\n",
       "      --disabled-bg-color: #3B4455;\n",
       "      --disabled-fill-color: #666;\n",
       "  }\n",
       "\n",
       "  .colab-df-quickchart {\n",
       "    background-color: var(--bg-color);\n",
       "    border: none;\n",
       "    border-radius: 50%;\n",
       "    cursor: pointer;\n",
       "    display: none;\n",
       "    fill: var(--fill-color);\n",
       "    height: 32px;\n",
       "    padding: 0;\n",
       "    width: 32px;\n",
       "  }\n",
       "\n",
       "  .colab-df-quickchart:hover {\n",
       "    background-color: var(--hover-bg-color);\n",
       "    box-shadow: 0 1px 2px rgba(60, 64, 67, 0.3), 0 1px 3px 1px rgba(60, 64, 67, 0.15);\n",
       "    fill: var(--button-hover-fill-color);\n",
       "  }\n",
       "\n",
       "  .colab-df-quickchart-complete:disabled,\n",
       "  .colab-df-quickchart-complete:disabled:hover {\n",
       "    background-color: var(--disabled-bg-color);\n",
       "    fill: var(--disabled-fill-color);\n",
       "    box-shadow: none;\n",
       "  }\n",
       "\n",
       "  .colab-df-spinner {\n",
       "    border: 2px solid var(--fill-color);\n",
       "    border-color: transparent;\n",
       "    border-bottom-color: var(--fill-color);\n",
       "    animation:\n",
       "      spin 1s steps(1) infinite;\n",
       "  }\n",
       "\n",
       "  @keyframes spin {\n",
       "    0% {\n",
       "      border-color: transparent;\n",
       "      border-bottom-color: var(--fill-color);\n",
       "      border-left-color: var(--fill-color);\n",
       "    }\n",
       "    20% {\n",
       "      border-color: transparent;\n",
       "      border-left-color: var(--fill-color);\n",
       "      border-top-color: var(--fill-color);\n",
       "    }\n",
       "    30% {\n",
       "      border-color: transparent;\n",
       "      border-left-color: var(--fill-color);\n",
       "      border-top-color: var(--fill-color);\n",
       "      border-right-color: var(--fill-color);\n",
       "    }\n",
       "    40% {\n",
       "      border-color: transparent;\n",
       "      border-right-color: var(--fill-color);\n",
       "      border-top-color: var(--fill-color);\n",
       "    }\n",
       "    60% {\n",
       "      border-color: transparent;\n",
       "      border-right-color: var(--fill-color);\n",
       "    }\n",
       "    80% {\n",
       "      border-color: transparent;\n",
       "      border-right-color: var(--fill-color);\n",
       "      border-bottom-color: var(--fill-color);\n",
       "    }\n",
       "    90% {\n",
       "      border-color: transparent;\n",
       "      border-bottom-color: var(--fill-color);\n",
       "    }\n",
       "  }\n",
       "</style>\n",
       "\n",
       "  <script>\n",
       "    async function quickchart(key) {\n",
       "      const quickchartButtonEl =\n",
       "        document.querySelector('#' + key + ' button');\n",
       "      quickchartButtonEl.disabled = true;  // To prevent multiple clicks.\n",
       "      quickchartButtonEl.classList.add('colab-df-spinner');\n",
       "      try {\n",
       "        const charts = await google.colab.kernel.invokeFunction(\n",
       "            'suggestCharts', [key], {});\n",
       "      } catch (error) {\n",
       "        console.error('Error during call to suggestCharts:', error);\n",
       "      }\n",
       "      quickchartButtonEl.classList.remove('colab-df-spinner');\n",
       "      quickchartButtonEl.classList.add('colab-df-quickchart-complete');\n",
       "    }\n",
       "    (() => {\n",
       "      let quickchartButtonEl =\n",
       "        document.querySelector('#df-fd42517a-291d-4ace-9164-d8cce1187467 button');\n",
       "      quickchartButtonEl.style.display =\n",
       "        google.colab.kernel.accessAllowed ? 'block' : 'none';\n",
       "    })();\n",
       "  </script>\n",
       "</div>\n",
       "    </div>\n",
       "  </div>\n"
      ],
      "text/plain": [
       "      FILENAME  GENDER       AGE\n",
       "0  ecg_child_0    MALE  1.500000\n",
       "1  ecg_child_1    MALE  4.833333\n",
       "2  ecg_child_2  FEMALE  5.583333\n",
       "3  ecg_child_3  FEMALE  5.083333\n",
       "4  ecg_child_4    MALE  0.166667"
      ]
     },
     "execution_count": 9,
     "metadata": {},
     "output_type": "execute_result"
    }
   ],
   "source": [
    "cd.head()"
   ]
  },
  {
   "cell_type": "code",
   "execution_count": null,
   "metadata": {
    "colab": {
     "base_uri": "https://localhost:8080/"
    },
    "executionInfo": {
     "elapsed": 363,
     "status": "ok",
     "timestamp": 1694936862240,
     "user": {
      "displayName": "Carpe DM",
      "userId": "00198161951846214785"
     },
     "user_tz": -540
    },
    "id": "upXOfe0FNTtn",
    "outputId": "b86a6f81-f1db-4832-da57-cdc32d6e759e"
   },
   "outputs": [
    {
     "data": {
      "text/plain": [
       "(60000,)"
      ]
     },
     "execution_count": 11,
     "metadata": {},
     "output_type": "execute_result"
    }
   ],
   "source": [
    "c0 = np.load('ecg_child/ecg_child_0.npy')\n",
    "c0.shape"
   ]
  },
  {
   "cell_type": "code",
   "execution_count": null,
   "metadata": {
    "id": "1LRBtGAvOAwR"
   },
   "outputs": [],
   "source": [
    "def ecg_dict(array):\n",
    "    lead = ['I','II', 'III','V1','V2','V3','V4','V5','V6','aVR','aVL', 'aVF']\n",
    "    ecg = dict()\n",
    "    for i in range(len(lead)):\n",
    "        ecg[lead[i]] = array[5000 * i : 5000 * (i+1)]\n",
    "    return ecg"
   ]
  },
  {
   "cell_type": "code",
   "execution_count": null,
   "metadata": {
    "colab": {
     "base_uri": "https://localhost:8080/"
    },
    "executionInfo": {
     "elapsed": 3,
     "status": "ok",
     "timestamp": 1694936864740,
     "user": {
      "displayName": "Carpe DM",
      "userId": "00198161951846214785"
     },
     "user_tz": -540
    },
    "id": "Cey1b4-VPOZZ",
    "outputId": "865e72ef-5235-4b7b-8592-d856d3622d20"
   },
   "outputs": [
    {
     "data": {
      "text/plain": [
       "dict_keys(['I', 'II', 'III', 'V1', 'V2', 'V3', 'V4', 'V5', 'V6', 'aVR', 'aVL', 'aVF'])"
      ]
     },
     "execution_count": 13,
     "metadata": {},
     "output_type": "execute_result"
    }
   ],
   "source": [
    "d0 = ecg_dict(c0)\n",
    "d0.keys()"
   ]
  },
  {
   "cell_type": "code",
   "execution_count": null,
   "metadata": {
    "colab": {
     "base_uri": "https://localhost:8080/"
    },
    "executionInfo": {
     "elapsed": 4,
     "status": "ok",
     "timestamp": 1694936865146,
     "user": {
      "displayName": "Carpe DM",
      "userId": "00198161951846214785"
     },
     "user_tz": -540
    },
    "id": "x1xE0QWWPSmY",
    "outputId": "192aee14-a90d-4396-a5af-dd9791e227b6"
   },
   "outputs": [
    {
     "data": {
      "text/plain": [
       "array([ True,  True,  True, ...,  True,  True,  True])"
      ]
     },
     "execution_count": 14,
     "metadata": {},
     "output_type": "execute_result"
    }
   ],
   "source": [
    "d0['I'] == c0[:5000]"
   ]
  },
  {
   "cell_type": "code",
   "execution_count": null,
   "metadata": {
    "colab": {
     "base_uri": "https://localhost:8080/",
     "height": 448
    },
    "executionInfo": {
     "elapsed": 587,
     "status": "ok",
     "timestamp": 1694936865730,
     "user": {
      "displayName": "Carpe DM",
      "userId": "00198161951846214785"
     },
     "user_tz": -540
    },
    "id": "8abUQxxkPUF5",
    "outputId": "a7345269-dcbe-4a82-94ca-f64afb41f3a7"
   },
   "outputs": [
    {
     "data": {
      "text/plain": [
       "[<matplotlib.lines.Line2D at 0x7940a2e31b10>]"
      ]
     },
     "execution_count": 15,
     "metadata": {},
     "output_type": "execute_result"
    },
    {
     "data": {
      "image/png": "[encoded data removed]",
      "text/plain": [
       "<Figure size 640x480 with 1 Axes>"
      ]
     },
     "metadata": {},
     "output_type": "display_data"
    }
   ],
   "source": [
    "plt.plot(d0['I'])"
   ]
  },
  {
   "cell_type": "code",
   "execution_count": null,
   "metadata": {
    "colab": {
     "base_uri": "https://localhost:8080/"
    },
    "executionInfo": {
     "elapsed": 10,
     "status": "ok",
     "timestamp": 1694936868172,
     "user": {
      "displayName": "Carpe DM",
      "userId": "00198161951846214785"
     },
     "user_tz": -540
    },
    "id": "IaFMQ4BoXRWu",
    "outputId": "3febb1fb-690a-4aad-b547-430b2aeb5d74"
   },
   "outputs": [
    {
     "data": {
      "text/plain": [
       "array([ 76.,  76.,  76., ..., -61., -61., -60.])"
      ]
     },
     "execution_count": 18,
     "metadata": {},
     "output_type": "execute_result"
    }
   ],
   "source": [
    "d0['I']"
   ]
  },
  {
   "cell_type": "code",
   "execution_count": null,
   "metadata": {
    "colab": {
     "base_uri": "https://localhost:8080/",
     "height": 448
    },
    "executionInfo": {
     "elapsed": 685,
     "status": "ok",
     "timestamp": 1694936868851,
     "user": {
      "displayName": "Carpe DM",
      "userId": "00198161951846214785"
     },
     "user_tz": -540
    },
    "id": "aANZCFKMPvXo",
    "outputId": "0b7a5984-99ee-476f-c01d-d1a91d9da785"
   },
   "outputs": [
    {
     "data": {
      "text/plain": [
       "[<matplotlib.lines.Line2D at 0x7940a0d640a0>]"
      ]
     },
     "execution_count": 19,
     "metadata": {},
     "output_type": "execute_result"
    },
    {
     "data": {
      "image/png": "[encoded data removed]",
      "text/plain": [
       "<Figure size 640x480 with 1 Axes>"
      ]
     },
     "metadata": {},
     "output_type": "display_data"
    }
   ],
   "source": [
    "plt.plot(d0['II'])"
   ]
  },
  {
   "cell_type": "markdown",
   "metadata": {
    "id": "_Kve44LXVHH3"
   },
   "source": [
    "아래는 다른 노트북에서 작업하여 폴더와 파일이 다름, 경로 맞춰서 진행할 것"
   ]
  },
  {
   "cell_type": "code",
   "execution_count": null,
   "metadata": {
    "id": "ZOqHneAlVGoi"
   },
   "outputs": [],
   "source": [
    "a0 = np.load('ecg_train/ecg_adult_0.npy')\n",
    "a1 = np.load('ecg_train/ecg_adult_1.npy')\n",
    "a2 = np.load('ecg_train/ecg_adult_2.npy')\n",
    "a3 = np.load('ecg_train/ecg_adult_3.npy')\n",
    "a4 = np.load('ecg_train/ecg_adult_4.npy')\n",
    "a5 = np.load('ecg_train/ecg_adult_5.npy')\n",
    "\n",
    "\n",
    "d0 = ecg_dict(a0)\n",
    "d1 = ecg_dict(a1)\n",
    "d2 = ecg_dict(a2)\n",
    "d3 = ecg_dict(a3)\n",
    "d4 = ecg_dict(a4)\n",
    "d5 = ecg_dict(a5)"
   ]
  },
  {
   "cell_type": "code",
   "execution_count": null,
   "metadata": {
    "id": "jlFXHpiaVIWI"
   },
   "outputs": [],
   "source": [
    "plt.figure(figsize =  (10,5))\n",
    "plt.plot(d0['I'])\n",
    "plt.plot(d1['I'])\n",
    "plt.plot(d2['I'])\n",
    "plt.plot(d3['I'])\n",
    "plt.plot(d4['I'])\n",
    "plt.plot(d5['I'])\n",
    "plt.show()"
   ]
  },
  {
   "cell_type": "code",
   "execution_count": null,
   "metadata": {
    "colab": {
     "base_uri": "https://localhost:8080/",
     "height": 313
    },
    "executionInfo": {
     "elapsed": 434,
     "status": "ok",
     "timestamp": 1694925123711,
     "user": {
      "displayName": "Carpe DM",
      "userId": "00198161951846214785"
     },
     "user_tz": -540
    },
    "id": "5iRsugvLaHUf",
    "outputId": "02576e78-08c1-4268-cb97-5f8f605b79f6"
   },
   "outputs": [
    {
     "data": {
      "text/html": [
       "\n",
       "  <div id=\"df-ac83bbe1-88fc-42f7-a083-db3973aa1eb0\" class=\"colab-df-container\">\n",
       "    <div>\n",
       "<style scoped>\n",
       "    .dataframe tbody tr th:only-of-type {\n",
       "        vertical-align: middle;\n",
       "    }\n",
       "\n",
       "    .dataframe tbody tr th {\n",
       "        vertical-align: top;\n",
       "    }\n",
       "\n",
       "    .dataframe thead th {\n",
       "        text-align: right;\n",
       "    }\n",
       "</style>\n",
       "<table border=\"1\" class=\"dataframe\">\n",
       "  <thead>\n",
       "    <tr style=\"text-align: right;\">\n",
       "      <th></th>\n",
       "      <th>epochs</th>\n",
       "      <th>seed</th>\n",
       "      <th>sample_freq</th>\n",
       "      <th>seq_length</th>\n",
       "      <th>scale_multiplier</th>\n",
       "      <th>batch_size</th>\n",
       "      <th>valid_split</th>\n",
       "      <th>test_split</th>\n",
       "      <th>lr</th>\n",
       "      <th>patience</th>\n",
       "      <th>min_lr</th>\n",
       "      <th>lr_factor</th>\n",
       "      <th>net_filter_size</th>\n",
       "      <th>net_seq_lengh</th>\n",
       "      <th>dropout_rate</th>\n",
       "      <th>kernel_size</th>\n",
       "    </tr>\n",
       "  </thead>\n",
       "  <tbody>\n",
       "    <tr>\n",
       "      <th>0</th>\n",
       "      <td>70</td>\n",
       "      <td>2</td>\n",
       "      <td>400</td>\n",
       "      <td>4096</td>\n",
       "      <td>10</td>\n",
       "      <td>32</td>\n",
       "      <td>0.05</td>\n",
       "      <td>0.15</td>\n",
       "      <td>0.001</td>\n",
       "      <td>7</td>\n",
       "      <td>1.000000e-07</td>\n",
       "      <td>0.1</td>\n",
       "      <td>64</td>\n",
       "      <td>4096</td>\n",
       "      <td>0.8</td>\n",
       "      <td>17</td>\n",
       "    </tr>\n",
       "    <tr>\n",
       "      <th>1</th>\n",
       "      <td>70</td>\n",
       "      <td>2</td>\n",
       "      <td>400</td>\n",
       "      <td>4096</td>\n",
       "      <td>10</td>\n",
       "      <td>32</td>\n",
       "      <td>0.05</td>\n",
       "      <td>0.15</td>\n",
       "      <td>0.001</td>\n",
       "      <td>7</td>\n",
       "      <td>1.000000e-07</td>\n",
       "      <td>0.1</td>\n",
       "      <td>128</td>\n",
       "      <td>1024</td>\n",
       "      <td>0.8</td>\n",
       "      <td>17</td>\n",
       "    </tr>\n",
       "    <tr>\n",
       "      <th>2</th>\n",
       "      <td>70</td>\n",
       "      <td>2</td>\n",
       "      <td>400</td>\n",
       "      <td>4096</td>\n",
       "      <td>10</td>\n",
       "      <td>32</td>\n",
       "      <td>0.05</td>\n",
       "      <td>0.15</td>\n",
       "      <td>0.001</td>\n",
       "      <td>7</td>\n",
       "      <td>1.000000e-07</td>\n",
       "      <td>0.1</td>\n",
       "      <td>196</td>\n",
       "      <td>256</td>\n",
       "      <td>0.8</td>\n",
       "      <td>17</td>\n",
       "    </tr>\n",
       "    <tr>\n",
       "      <th>3</th>\n",
       "      <td>70</td>\n",
       "      <td>2</td>\n",
       "      <td>400</td>\n",
       "      <td>4096</td>\n",
       "      <td>10</td>\n",
       "      <td>32</td>\n",
       "      <td>0.05</td>\n",
       "      <td>0.15</td>\n",
       "      <td>0.001</td>\n",
       "      <td>7</td>\n",
       "      <td>1.000000e-07</td>\n",
       "      <td>0.1</td>\n",
       "      <td>256</td>\n",
       "      <td>64</td>\n",
       "      <td>0.8</td>\n",
       "      <td>17</td>\n",
       "    </tr>\n",
       "    <tr>\n",
       "      <th>4</th>\n",
       "      <td>70</td>\n",
       "      <td>2</td>\n",
       "      <td>400</td>\n",
       "      <td>4096</td>\n",
       "      <td>10</td>\n",
       "      <td>32</td>\n",
       "      <td>0.05</td>\n",
       "      <td>0.15</td>\n",
       "      <td>0.001</td>\n",
       "      <td>7</td>\n",
       "      <td>1.000000e-07</td>\n",
       "      <td>0.1</td>\n",
       "      <td>320</td>\n",
       "      <td>16</td>\n",
       "      <td>0.8</td>\n",
       "      <td>17</td>\n",
       "    </tr>\n",
       "  </tbody>\n",
       "</table>\n",
       "</div>\n",
       "    <div class=\"colab-df-buttons\">\n",
       "\n",
       "  <div class=\"colab-df-container\">\n",
       "    <button class=\"colab-df-convert\" onclick=\"convertToInteractive('df-ac83bbe1-88fc-42f7-a083-db3973aa1eb0')\"\n",
       "            title=\"Convert this dataframe to an interactive table.\"\n",
       "            style=\"display:none;\">\n",
       "\n",
       "  <svg xmlns=\"http://www.w3.org/2000/svg\" height=\"24px\" viewBox=\"0 -960 960 960\">\n",
       "    <path d=\"M120-120v-720h720v720H120Zm60-500h600v-160H180v160Zm220 220h160v-160H400v160Zm0 220h160v-160H400v160ZM180-400h160v-160H180v160Zm440 0h160v-160H620v160ZM180-180h160v-160H180v160Zm440 0h160v-160H620v160Z\"/>\n",
       "  </svg>\n",
       "    </button>\n",
       "\n",
       "  <style>\n",
       "    .colab-df-container {\n",
       "      display:flex;\n",
       "      gap: 12px;\n",
       "    }\n",
       "\n",
       "    .colab-df-convert {\n",
       "      background-color: #E8F0FE;\n",
       "      border: none;\n",
       "      border-radius: 50%;\n",
       "      cursor: pointer;\n",
       "      display: none;\n",
       "      fill: #1967D2;\n",
       "      height: 32px;\n",
       "      padding: 0 0 0 0;\n",
       "      width: 32px;\n",
       "    }\n",
       "\n",
       "    .colab-df-convert:hover {\n",
       "      background-color: #E2EBFA;\n",
       "      box-shadow: 0px 1px 2px rgba(60, 64, 67, 0.3), 0px 1px 3px 1px rgba(60, 64, 67, 0.15);\n",
       "      fill: #174EA6;\n",
       "    }\n",
       "\n",
       "    .colab-df-buttons div {\n",
       "      margin-bottom: 4px;\n",
       "    }\n",
       "\n",
       "    [theme=dark] .colab-df-convert {\n",
       "      background-color: #3B4455;\n",
       "      fill: #D2E3FC;\n",
       "    }\n",
       "\n",
       "    [theme=dark] .colab-df-convert:hover {\n",
       "      background-color: #434B5C;\n",
       "      box-shadow: 0px 1px 3px 1px rgba(0, 0, 0, 0.15);\n",
       "      filter: drop-shadow(0px 1px 2px rgba(0, 0, 0, 0.3));\n",
       "      fill: #FFFFFF;\n",
       "    }\n",
       "  </style>\n",
       "\n",
       "    <script>\n",
       "      const buttonEl =\n",
       "        document.querySelector('#df-ac83bbe1-88fc-42f7-a083-db3973aa1eb0 button.colab-df-convert');\n",
       "      buttonEl.style.display =\n",
       "        google.colab.kernel.accessAllowed ? 'block' : 'none';\n",
       "\n",
       "      async function convertToInteractive(key) {\n",
       "        const element = document.querySelector('#df-ac83bbe1-88fc-42f7-a083-db3973aa1eb0');\n",
       "        const dataTable =\n",
       "          await google.colab.kernel.invokeFunction('convertToInteractive',\n",
       "                                                    [key], {});\n",
       "        if (!dataTable) return;\n",
       "\n",
       "        const docLinkHtml = 'Like what you see? Visit the ' +\n",
       "          '<a target=\"_blank\" href=https://colab.research.google.com/notebooks/data_table.ipynb>data table notebook</a>'\n",
       "          + ' to learn more about interactive tables.';\n",
       "        element.innerHTML = '';\n",
       "        dataTable['output_type'] = 'display_data';\n",
       "        await google.colab.output.renderOutput(dataTable, element);\n",
       "        const docLink = document.createElement('div');\n",
       "        docLink.innerHTML = docLinkHtml;\n",
       "        element.appendChild(docLink);\n",
       "      }\n",
       "    </script>\n",
       "  </div>\n",
       "\n",
       "\n",
       "<div id=\"df-5269561b-0df7-49a6-a7ed-376d3f93a714\">\n",
       "  <button class=\"colab-df-quickchart\" onclick=\"quickchart('df-5269561b-0df7-49a6-a7ed-376d3f93a714')\"\n",
       "            title=\"Suggest charts.\"\n",
       "            style=\"display:none;\">\n",
       "\n",
       "<svg xmlns=\"http://www.w3.org/2000/svg\" height=\"24px\"viewBox=\"0 0 24 24\"\n",
       "     width=\"24px\">\n",
       "    <g>\n",
       "        <path d=\"M19 3H5c-1.1 0-2 .9-2 2v14c0 1.1.9 2 2 2h14c1.1 0 2-.9 2-2V5c0-1.1-.9-2-2-2zM9 17H7v-7h2v7zm4 0h-2V7h2v10zm4 0h-2v-4h2v4z\"/>\n",
       "    </g>\n",
       "</svg>\n",
       "  </button>\n",
       "\n",
       "<style>\n",
       "  .colab-df-quickchart {\n",
       "      --bg-color: #E8F0FE;\n",
       "      --fill-color: #1967D2;\n",
       "      --hover-bg-color: #E2EBFA;\n",
       "      --hover-fill-color: #174EA6;\n",
       "      --disabled-fill-color: #AAA;\n",
       "      --disabled-bg-color: #DDD;\n",
       "  }\n",
       "\n",
       "  [theme=dark] .colab-df-quickchart {\n",
       "      --bg-color: #3B4455;\n",
       "      --fill-color: #D2E3FC;\n",
       "      --hover-bg-color: #434B5C;\n",
       "      --hover-fill-color: #FFFFFF;\n",
       "      --disabled-bg-color: #3B4455;\n",
       "      --disabled-fill-color: #666;\n",
       "  }\n",
       "\n",
       "  .colab-df-quickchart {\n",
       "    background-color: var(--bg-color);\n",
       "    border: none;\n",
       "    border-radius: 50%;\n",
       "    cursor: pointer;\n",
       "    display: none;\n",
       "    fill: var(--fill-color);\n",
       "    height: 32px;\n",
       "    padding: 0;\n",
       "    width: 32px;\n",
       "  }\n",
       "\n",
       "  .colab-df-quickchart:hover {\n",
       "    background-color: var(--hover-bg-color);\n",
       "    box-shadow: 0 1px 2px rgba(60, 64, 67, 0.3), 0 1px 3px 1px rgba(60, 64, 67, 0.15);\n",
       "    fill: var(--button-hover-fill-color);\n",
       "  }\n",
       "\n",
       "  .colab-df-quickchart-complete:disabled,\n",
       "  .colab-df-quickchart-complete:disabled:hover {\n",
       "    background-color: var(--disabled-bg-color);\n",
       "    fill: var(--disabled-fill-color);\n",
       "    box-shadow: none;\n",
       "  }\n",
       "\n",
       "  .colab-df-spinner {\n",
       "    border: 2px solid var(--fill-color);\n",
       "    border-color: transparent;\n",
       "    border-bottom-color: var(--fill-color);\n",
       "    animation:\n",
       "      spin 1s steps(1) infinite;\n",
       "  }\n",
       "\n",
       "  @keyframes spin {\n",
       "    0% {\n",
       "      border-color: transparent;\n",
       "      border-bottom-color: var(--fill-color);\n",
       "      border-left-color: var(--fill-color);\n",
       "    }\n",
       "    20% {\n",
       "      border-color: transparent;\n",
       "      border-left-color: var(--fill-color);\n",
       "      border-top-color: var(--fill-color);\n",
       "    }\n",
       "    30% {\n",
       "      border-color: transparent;\n",
       "      border-left-color: var(--fill-color);\n",
       "      border-top-color: var(--fill-color);\n",
       "      border-right-color: var(--fill-color);\n",
       "    }\n",
       "    40% {\n",
       "      border-color: transparent;\n",
       "      border-right-color: var(--fill-color);\n",
       "      border-top-color: var(--fill-color);\n",
       "    }\n",
       "    60% {\n",
       "      border-color: transparent;\n",
       "      border-right-color: var(--fill-color);\n",
       "    }\n",
       "    80% {\n",
       "      border-color: transparent;\n",
       "      border-right-color: var(--fill-color);\n",
       "      border-bottom-color: var(--fill-color);\n",
       "    }\n",
       "    90% {\n",
       "      border-color: transparent;\n",
       "      border-bottom-color: var(--fill-color);\n",
       "    }\n",
       "  }\n",
       "</style>\n",
       "\n",
       "  <script>\n",
       "    async function quickchart(key) {\n",
       "      const quickchartButtonEl =\n",
       "        document.querySelector('#' + key + ' button');\n",
       "      quickchartButtonEl.disabled = true;  // To prevent multiple clicks.\n",
       "      quickchartButtonEl.classList.add('colab-df-spinner');\n",
       "      try {\n",
       "        const charts = await google.colab.kernel.invokeFunction(\n",
       "            'suggestCharts', [key], {});\n",
       "      } catch (error) {\n",
       "        console.error('Error during call to suggestCharts:', error);\n",
       "      }\n",
       "      quickchartButtonEl.classList.remove('colab-df-spinner');\n",
       "      quickchartButtonEl.classList.add('colab-df-quickchart-complete');\n",
       "    }\n",
       "    (() => {\n",
       "      let quickchartButtonEl =\n",
       "        document.querySelector('#df-5269561b-0df7-49a6-a7ed-376d3f93a714 button');\n",
       "      quickchartButtonEl.style.display =\n",
       "        google.colab.kernel.accessAllowed ? 'block' : 'none';\n",
       "    })();\n",
       "  </script>\n",
       "</div>\n",
       "    </div>\n",
       "  </div>\n"
      ],
      "text/plain": [
       "   epochs  seed  sample_freq  seq_length  scale_multiplier  batch_size  \\\n",
       "0      70     2          400        4096                10          32   \n",
       "1      70     2          400        4096                10          32   \n",
       "2      70     2          400        4096                10          32   \n",
       "3      70     2          400        4096                10          32   \n",
       "4      70     2          400        4096                10          32   \n",
       "\n",
       "   valid_split  test_split     lr  patience        min_lr  lr_factor  \\\n",
       "0         0.05        0.15  0.001         7  1.000000e-07        0.1   \n",
       "1         0.05        0.15  0.001         7  1.000000e-07        0.1   \n",
       "2         0.05        0.15  0.001         7  1.000000e-07        0.1   \n",
       "3         0.05        0.15  0.001         7  1.000000e-07        0.1   \n",
       "4         0.05        0.15  0.001         7  1.000000e-07        0.1   \n",
       "\n",
       "   net_filter_size  net_seq_lengh  dropout_rate  kernel_size  \n",
       "0               64           4096           0.8           17  \n",
       "1              128           1024           0.8           17  \n",
       "2              196            256           0.8           17  \n",
       "3              256             64           0.8           17  \n",
       "4              320             16           0.8           17  "
      ]
     },
     "execution_count": 71,
     "metadata": {},
     "output_type": "execute_result"
    }
   ],
   "source": [
    "pd.read_json('model/config.json')"
   ]
  },
  {
   "cell_type": "code",
   "execution_count": null,
   "metadata": {
    "colab": {
     "base_uri": "https://localhost:8080/",
     "height": 424
    },
    "executionInfo": {
     "elapsed": 583,
     "status": "ok",
     "timestamp": 1694925151787,
     "user": {
      "displayName": "Carpe DM",
      "userId": "00198161951846214785"
     },
     "user_tz": -540
    },
    "id": "nI5mIOv8aOyP",
    "outputId": "f8984dd8-f229-4601-b5d4-d9f53f0f2902"
   },
   "outputs": [
    {
     "data": {
      "text/html": [
       "\n",
       "  <div id=\"df-d460417e-f393-4acc-bd45-ffe02ca899b1\" class=\"colab-df-container\">\n",
       "    <div>\n",
       "<style scoped>\n",
       "    .dataframe tbody tr th:only-of-type {\n",
       "        vertical-align: middle;\n",
       "    }\n",
       "\n",
       "    .dataframe tbody tr th {\n",
       "        vertical-align: top;\n",
       "    }\n",
       "\n",
       "    .dataframe thead th {\n",
       "        text-align: right;\n",
       "    }\n",
       "</style>\n",
       "<table border=\"1\" class=\"dataframe\">\n",
       "  <thead>\n",
       "    <tr style=\"text-align: right;\">\n",
       "      <th></th>\n",
       "      <th>epoch</th>\n",
       "      <th>train_loss</th>\n",
       "      <th>valid_loss</th>\n",
       "      <th>lr</th>\n",
       "      <th>weighted_rmse</th>\n",
       "      <th>weighted_mae</th>\n",
       "      <th>mae</th>\n",
       "      <th>rmse</th>\n",
       "    </tr>\n",
       "  </thead>\n",
       "  <tbody>\n",
       "    <tr>\n",
       "      <th>0</th>\n",
       "      <td>0</td>\n",
       "      <td>405.865669</td>\n",
       "      <td>211.513532</td>\n",
       "      <td>1.000000e-03</td>\n",
       "      <td>14.543505</td>\n",
       "      <td>11.321917</td>\n",
       "      <td>10.901571</td>\n",
       "      <td>14.086357</td>\n",
       "    </tr>\n",
       "    <tr>\n",
       "      <th>1</th>\n",
       "      <td>1</td>\n",
       "      <td>308.882294</td>\n",
       "      <td>204.358788</td>\n",
       "      <td>1.000000e-03</td>\n",
       "      <td>14.295411</td>\n",
       "      <td>11.087060</td>\n",
       "      <td>10.668587</td>\n",
       "      <td>13.809050</td>\n",
       "    </tr>\n",
       "    <tr>\n",
       "      <th>2</th>\n",
       "      <td>2</td>\n",
       "      <td>290.232602</td>\n",
       "      <td>188.070020</td>\n",
       "      <td>1.000000e-03</td>\n",
       "      <td>13.713862</td>\n",
       "      <td>10.596954</td>\n",
       "      <td>10.323868</td>\n",
       "      <td>13.354768</td>\n",
       "    </tr>\n",
       "    <tr>\n",
       "      <th>3</th>\n",
       "      <td>3</td>\n",
       "      <td>276.579642</td>\n",
       "      <td>191.082299</td>\n",
       "      <td>1.000000e-03</td>\n",
       "      <td>13.823252</td>\n",
       "      <td>10.646464</td>\n",
       "      <td>10.629529</td>\n",
       "      <td>13.764438</td>\n",
       "    </tr>\n",
       "    <tr>\n",
       "      <th>4</th>\n",
       "      <td>4</td>\n",
       "      <td>269.425104</td>\n",
       "      <td>189.038557</td>\n",
       "      <td>1.000000e-03</td>\n",
       "      <td>13.749129</td>\n",
       "      <td>10.470259</td>\n",
       "      <td>10.400967</td>\n",
       "      <td>13.514791</td>\n",
       "    </tr>\n",
       "    <tr>\n",
       "      <th>...</th>\n",
       "      <td>...</td>\n",
       "      <td>...</td>\n",
       "      <td>...</td>\n",
       "      <td>...</td>\n",
       "      <td>...</td>\n",
       "      <td>...</td>\n",
       "      <td>...</td>\n",
       "      <td>...</td>\n",
       "    </tr>\n",
       "    <tr>\n",
       "      <th>65</th>\n",
       "      <td>65</td>\n",
       "      <td>178.673294</td>\n",
       "      <td>137.539593</td>\n",
       "      <td>1.000000e-07</td>\n",
       "      <td>11.727728</td>\n",
       "      <td>9.072825</td>\n",
       "      <td>8.510165</td>\n",
       "      <td>11.087860</td>\n",
       "    </tr>\n",
       "    <tr>\n",
       "      <th>66</th>\n",
       "      <td>66</td>\n",
       "      <td>179.348105</td>\n",
       "      <td>139.956431</td>\n",
       "      <td>1.000000e-07</td>\n",
       "      <td>11.830318</td>\n",
       "      <td>9.153945</td>\n",
       "      <td>8.509709</td>\n",
       "      <td>11.073794</td>\n",
       "    </tr>\n",
       "    <tr>\n",
       "      <th>67</th>\n",
       "      <td>67</td>\n",
       "      <td>179.152492</td>\n",
       "      <td>137.761297</td>\n",
       "      <td>1.000000e-07</td>\n",
       "      <td>11.737176</td>\n",
       "      <td>9.038925</td>\n",
       "      <td>8.599559</td>\n",
       "      <td>11.212509</td>\n",
       "    </tr>\n",
       "    <tr>\n",
       "      <th>68</th>\n",
       "      <td>68</td>\n",
       "      <td>179.363524</td>\n",
       "      <td>137.330049</td>\n",
       "      <td>1.000000e-07</td>\n",
       "      <td>11.718790</td>\n",
       "      <td>9.094210</td>\n",
       "      <td>8.607617</td>\n",
       "      <td>11.193157</td>\n",
       "    </tr>\n",
       "    <tr>\n",
       "      <th>69</th>\n",
       "      <td>69</td>\n",
       "      <td>179.363524</td>\n",
       "      <td>137.330049</td>\n",
       "      <td>1.000000e-07</td>\n",
       "      <td>11.718790</td>\n",
       "      <td>9.094210</td>\n",
       "      <td>8.607617</td>\n",
       "      <td>11.193157</td>\n",
       "    </tr>\n",
       "  </tbody>\n",
       "</table>\n",
       "<p>70 rows × 8 columns</p>\n",
       "</div>\n",
       "    <div class=\"colab-df-buttons\">\n",
       "\n",
       "  <div class=\"colab-df-container\">\n",
       "    <button class=\"colab-df-convert\" onclick=\"convertToInteractive('df-d460417e-f393-4acc-bd45-ffe02ca899b1')\"\n",
       "            title=\"Convert this dataframe to an interactive table.\"\n",
       "            style=\"display:none;\">\n",
       "\n",
       "  <svg xmlns=\"http://www.w3.org/2000/svg\" height=\"24px\" viewBox=\"0 -960 960 960\">\n",
       "    <path d=\"M120-120v-720h720v720H120Zm60-500h600v-160H180v160Zm220 220h160v-160H400v160Zm0 220h160v-160H400v160ZM180-400h160v-160H180v160Zm440 0h160v-160H620v160ZM180-180h160v-160H180v160Zm440 0h160v-160H620v160Z\"/>\n",
       "  </svg>\n",
       "    </button>\n",
       "\n",
       "  <style>\n",
       "    .colab-df-container {\n",
       "      display:flex;\n",
       "      gap: 12px;\n",
       "    }\n",
       "\n",
       "    .colab-df-convert {\n",
       "      background-color: #E8F0FE;\n",
       "      border: none;\n",
       "      border-radius: 50%;\n",
       "      cursor: pointer;\n",
       "      display: none;\n",
       "      fill: #1967D2;\n",
       "      height: 32px;\n",
       "      padding: 0 0 0 0;\n",
       "      width: 32px;\n",
       "    }\n",
       "\n",
       "    .colab-df-convert:hover {\n",
       "      background-color: #E2EBFA;\n",
       "      box-shadow: 0px 1px 2px rgba(60, 64, 67, 0.3), 0px 1px 3px 1px rgba(60, 64, 67, 0.15);\n",
       "      fill: #174EA6;\n",
       "    }\n",
       "\n",
       "    .colab-df-buttons div {\n",
       "      margin-bottom: 4px;\n",
       "    }\n",
       "\n",
       "    [theme=dark] .colab-df-convert {\n",
       "      background-color: #3B4455;\n",
       "      fill: #D2E3FC;\n",
       "    }\n",
       "\n",
       "    [theme=dark] .colab-df-convert:hover {\n",
       "      background-color: #434B5C;\n",
       "      box-shadow: 0px 1px 3px 1px rgba(0, 0, 0, 0.15);\n",
       "      filter: drop-shadow(0px 1px 2px rgba(0, 0, 0, 0.3));\n",
       "      fill: #FFFFFF;\n",
       "    }\n",
       "  </style>\n",
       "\n",
       "    <script>\n",
       "      const buttonEl =\n",
       "        document.querySelector('#df-d460417e-f393-4acc-bd45-ffe02ca899b1 button.colab-df-convert');\n",
       "      buttonEl.style.display =\n",
       "        google.colab.kernel.accessAllowed ? 'block' : 'none';\n",
       "\n",
       "      async function convertToInteractive(key) {\n",
       "        const element = document.querySelector('#df-d460417e-f393-4acc-bd45-ffe02ca899b1');\n",
       "        const dataTable =\n",
       "          await google.colab.kernel.invokeFunction('convertToInteractive',\n",
       "                                                    [key], {});\n",
       "        if (!dataTable) return;\n",
       "\n",
       "        const docLinkHtml = 'Like what you see? Visit the ' +\n",
       "          '<a target=\"_blank\" href=https://colab.research.google.com/notebooks/data_table.ipynb>data table notebook</a>'\n",
       "          + ' to learn more about interactive tables.';\n",
       "        element.innerHTML = '';\n",
       "        dataTable['output_type'] = 'display_data';\n",
       "        await google.colab.output.renderOutput(dataTable, element);\n",
       "        const docLink = document.createElement('div');\n",
       "        docLink.innerHTML = docLinkHtml;\n",
       "        element.appendChild(docLink);\n",
       "      }\n",
       "    </script>\n",
       "  </div>\n",
       "\n",
       "\n",
       "<div id=\"df-557477b6-f389-4dfb-b8d3-f819ce443ee1\">\n",
       "  <button class=\"colab-df-quickchart\" onclick=\"quickchart('df-557477b6-f389-4dfb-b8d3-f819ce443ee1')\"\n",
       "            title=\"Suggest charts.\"\n",
       "            style=\"display:none;\">\n",
       "\n",
       "<svg xmlns=\"http://www.w3.org/2000/svg\" height=\"24px\"viewBox=\"0 0 24 24\"\n",
       "     width=\"24px\">\n",
       "    <g>\n",
       "        <path d=\"M19 3H5c-1.1 0-2 .9-2 2v14c0 1.1.9 2 2 2h14c1.1 0 2-.9 2-2V5c0-1.1-.9-2-2-2zM9 17H7v-7h2v7zm4 0h-2V7h2v10zm4 0h-2v-4h2v4z\"/>\n",
       "    </g>\n",
       "</svg>\n",
       "  </button>\n",
       "\n",
       "<style>\n",
       "  .colab-df-quickchart {\n",
       "      --bg-color: #E8F0FE;\n",
       "      --fill-color: #1967D2;\n",
       "      --hover-bg-color: #E2EBFA;\n",
       "      --hover-fill-color: #174EA6;\n",
       "      --disabled-fill-color: #AAA;\n",
       "      --disabled-bg-color: #DDD;\n",
       "  }\n",
       "\n",
       "  [theme=dark] .colab-df-quickchart {\n",
       "      --bg-color: #3B4455;\n",
       "      --fill-color: #D2E3FC;\n",
       "      --hover-bg-color: #434B5C;\n",
       "      --hover-fill-color: #FFFFFF;\n",
       "      --disabled-bg-color: #3B4455;\n",
       "      --disabled-fill-color: #666;\n",
       "  }\n",
       "\n",
       "  .colab-df-quickchart {\n",
       "    background-color: var(--bg-color);\n",
       "    border: none;\n",
       "    border-radius: 50%;\n",
       "    cursor: pointer;\n",
       "    display: none;\n",
       "    fill: var(--fill-color);\n",
       "    height: 32px;\n",
       "    padding: 0;\n",
       "    width: 32px;\n",
       "  }\n",
       "\n",
       "  .colab-df-quickchart:hover {\n",
       "    background-color: var(--hover-bg-color);\n",
       "    box-shadow: 0 1px 2px rgba(60, 64, 67, 0.3), 0 1px 3px 1px rgba(60, 64, 67, 0.15);\n",
       "    fill: var(--button-hover-fill-color);\n",
       "  }\n",
       "\n",
       "  .colab-df-quickchart-complete:disabled,\n",
       "  .colab-df-quickchart-complete:disabled:hover {\n",
       "    background-color: var(--disabled-bg-color);\n",
       "    fill: var(--disabled-fill-color);\n",
       "    box-shadow: none;\n",
       "  }\n",
       "\n",
       "  .colab-df-spinner {\n",
       "    border: 2px solid var(--fill-color);\n",
       "    border-color: transparent;\n",
       "    border-bottom-color: var(--fill-color);\n",
       "    animation:\n",
       "      spin 1s steps(1) infinite;\n",
       "  }\n",
       "\n",
       "  @keyframes spin {\n",
       "    0% {\n",
       "      border-color: transparent;\n",
       "      border-bottom-color: var(--fill-color);\n",
       "      border-left-color: var(--fill-color);\n",
       "    }\n",
       "    20% {\n",
       "      border-color: transparent;\n",
       "      border-left-color: var(--fill-color);\n",
       "      border-top-color: var(--fill-color);\n",
       "    }\n",
       "    30% {\n",
       "      border-color: transparent;\n",
       "      border-left-color: var(--fill-color);\n",
       "      border-top-color: var(--fill-color);\n",
       "      border-right-color: var(--fill-color);\n",
       "    }\n",
       "    40% {\n",
       "      border-color: transparent;\n",
       "      border-right-color: var(--fill-color);\n",
       "      border-top-color: var(--fill-color);\n",
       "    }\n",
       "    60% {\n",
       "      border-color: transparent;\n",
       "      border-right-color: var(--fill-color);\n",
       "    }\n",
       "    80% {\n",
       "      border-color: transparent;\n",
       "      border-right-color: var(--fill-color);\n",
       "      border-bottom-color: var(--fill-color);\n",
       "    }\n",
       "    90% {\n",
       "      border-color: transparent;\n",
       "      border-bottom-color: var(--fill-color);\n",
       "    }\n",
       "  }\n",
       "</style>\n",
       "\n",
       "  <script>\n",
       "    async function quickchart(key) {\n",
       "      const quickchartButtonEl =\n",
       "        document.querySelector('#' + key + ' button');\n",
       "      quickchartButtonEl.disabled = true;  // To prevent multiple clicks.\n",
       "      quickchartButtonEl.classList.add('colab-df-spinner');\n",
       "      try {\n",
       "        const charts = await google.colab.kernel.invokeFunction(\n",
       "            'suggestCharts', [key], {});\n",
       "      } catch (error) {\n",
       "        console.error('Error during call to suggestCharts:', error);\n",
       "      }\n",
       "      quickchartButtonEl.classList.remove('colab-df-spinner');\n",
       "      quickchartButtonEl.classList.add('colab-df-quickchart-complete');\n",
       "    }\n",
       "    (() => {\n",
       "      let quickchartButtonEl =\n",
       "        document.querySelector('#df-557477b6-f389-4dfb-b8d3-f819ce443ee1 button');\n",
       "      quickchartButtonEl.style.display =\n",
       "        google.colab.kernel.accessAllowed ? 'block' : 'none';\n",
       "    })();\n",
       "  </script>\n",
       "</div>\n",
       "    </div>\n",
       "  </div>\n"
      ],
      "text/plain": [
       "    epoch  train_loss  valid_loss            lr  weighted_rmse  weighted_mae  \\\n",
       "0       0  405.865669  211.513532  1.000000e-03      14.543505     11.321917   \n",
       "1       1  308.882294  204.358788  1.000000e-03      14.295411     11.087060   \n",
       "2       2  290.232602  188.070020  1.000000e-03      13.713862     10.596954   \n",
       "3       3  276.579642  191.082299  1.000000e-03      13.823252     10.646464   \n",
       "4       4  269.425104  189.038557  1.000000e-03      13.749129     10.470259   \n",
       "..    ...         ...         ...           ...            ...           ...   \n",
       "65     65  178.673294  137.539593  1.000000e-07      11.727728      9.072825   \n",
       "66     66  179.348105  139.956431  1.000000e-07      11.830318      9.153945   \n",
       "67     67  179.152492  137.761297  1.000000e-07      11.737176      9.038925   \n",
       "68     68  179.363524  137.330049  1.000000e-07      11.718790      9.094210   \n",
       "69     69  179.363524  137.330049  1.000000e-07      11.718790      9.094210   \n",
       "\n",
       "          mae       rmse  \n",
       "0   10.901571  14.086357  \n",
       "1   10.668587  13.809050  \n",
       "2   10.323868  13.354768  \n",
       "3   10.629529  13.764438  \n",
       "4   10.400967  13.514791  \n",
       "..        ...        ...  \n",
       "65   8.510165  11.087860  \n",
       "66   8.509709  11.073794  \n",
       "67   8.599559  11.212509  \n",
       "68   8.607617  11.193157  \n",
       "69   8.607617  11.193157  \n",
       "\n",
       "[70 rows x 8 columns]"
      ]
     },
     "execution_count": 72,
     "metadata": {},
     "output_type": "execute_result"
    }
   ],
   "source": [
    "pd.read_csv('model/history.csv')"
   ]
  },
  {
   "cell_type": "code",
   "execution_count": null,
   "metadata": {
    "colab": {
     "base_uri": "https://localhost:8080/"
    },
    "executionInfo": {
     "elapsed": 8694,
     "status": "ok",
     "timestamp": 1694942385676,
     "user": {
      "displayName": "Carpe DM",
      "userId": "00198161951846214785"
     },
     "user_tz": -540
    },
    "id": "euedJse4cBKZ",
    "outputId": "95e81983-baa2-482c-a450-ac15ef499077"
   },
   "outputs": [
    {
     "name": "stdout",
     "output_type": "stream",
     "text": [
      "Collecting tensorflow_addons\n",
      "  Downloading tensorflow_addons-0.21.0-cp310-cp310-manylinux_2_17_x86_64.manylinux2014_x86_64.whl (612 kB)\n",
      "\u001b[?25l     \u001b[90m━━━━━━━━━━━━━━━━━━━━━━━━━━━━━━━━━━━━━━━━\u001b[0m \u001b[32m0.0/612.1 kB\u001b[0m \u001b[31m?\u001b[0m eta \u001b[36m-:--:--\u001b[0m\r",
      "\u001b[2K     \u001b[91m━━━━━━━━━━━━\u001b[0m\u001b[90m╺\u001b[0m\u001b[90m━━━━━━━━━━━━━━━━━━━━━━━━━━\u001b[0m \u001b[32m194.6/612.1 kB\u001b[0m \u001b[31m5.6 MB/s\u001b[0m eta \u001b[36m0:00:01\u001b[0m\r",
      "\u001b[2K     \u001b[91m━━━━━━━━━━━━━━━━━━━━━━━━━━━━━━━━━━━━━\u001b[0m\u001b[91m╸\u001b[0m \u001b[32m604.2/612.1 kB\u001b[0m \u001b[31m10.1 MB/s\u001b[0m eta \u001b[36m0:00:01\u001b[0m\r",
      "\u001b[2K     \u001b[90m━━━━━━━━━━━━━━━━━━━━━━━━━━━━━━━━━━━━━━━\u001b[0m \u001b[32m612.1/612.1 kB\u001b[0m \u001b[31m8.3 MB/s\u001b[0m eta \u001b[36m0:00:00\u001b[0m\n",
      "\u001b[?25hRequirement already satisfied: packaging in /usr/local/lib/python3.10/dist-packages (from tensorflow_addons) (23.1)\n",
      "Collecting typeguard<3.0.0,>=2.7 (from tensorflow_addons)\n",
      "  Downloading typeguard-2.13.3-py3-none-any.whl (17 kB)\n",
      "Installing collected packages: typeguard, tensorflow_addons\n",
      "Successfully installed tensorflow_addons-0.21.0 typeguard-2.13.3\n"
     ]
    }
   ],
   "source": [
    "!pip install tensorflow_addons"
   ]
  },
  {
   "cell_type": "code",
   "execution_count": null,
   "metadata": {
    "colab": {
     "base_uri": "https://localhost:8080/"
    },
    "executionInfo": {
     "elapsed": 6778,
     "status": "ok",
     "timestamp": 1694942392446,
     "user": {
      "displayName": "Carpe DM",
      "userId": "00198161951846214785"
     },
     "user_tz": -540
    },
    "id": "KC09A0znaVmW",
    "outputId": "3967fd6f-9b35-43a2-f1b3-6f8513b888a3"
   },
   "outputs": [
    {
     "name": "stderr",
     "output_type": "stream",
     "text": [
      "/usr/local/lib/python3.10/dist-packages/tensorflow_addons/utils/tfa_eol_msg.py:23: UserWarning: \n",
      "\n",
      "TensorFlow Addons (TFA) has ended development and introduction of new features.\n",
      "TFA has entered a minimal maintenance and release mode until a planned end of life in May 2024.\n",
      "Please modify downstream libraries to take dependencies from other repositories in our TensorFlow community (e.g. Keras, Keras-CV, and Keras-NLP). \n",
      "\n",
      "For more information see: https://github.com/tensorflow/addons/issues/2807 \n",
      "\n",
      "  warnings.warn(\n"
     ]
    }
   ],
   "source": [
    "import pandas as pd\n",
    "from scipy import stats\n",
    "import os\n",
    "import numpy as np\n",
    "import matplotlib.pyplot as plt\n",
    "import seaborn as sns\n",
    "import tensorflow_addons as tfa\n",
    "import tensorflow as tf\n",
    "import tqdm\n",
    "from scipy import signal\n",
    "from tensorflow import keras\n",
    "from keras.utils import plot_model\n",
    "from keras.preprocessing.sequence import pad_sequences\n",
    "from sklearn.preprocessing import LabelEncoder\n",
    "from sklearn.utils.class_weight import compute_class_weight\n",
    "from sklearn.metrics import roc_auc_score\n",
    "from scipy.io import loadmat\n",
    "from sklearn.preprocessing import MultiLabelBinarizer\n",
    "from sklearn.model_selection import StratifiedKFold\n",
    "from sklearn.metrics import confusion_matrix\n",
    "from sklearn.metrics import mean_absolute_error\n",
    "from sklearn.metrics import mean_squared_error\n",
    "from sklearn.metrics import accuracy_score\n",
    "from sklearn.metrics import f1_score\n",
    "import warnings\n",
    "warnings.filterwarnings('ignore')\n",
    "%matplotlib inline\n",
    "%load_ext autoreload\n",
    "%autoreload\n",
    "%reload_ext autoreload\n",
    "sns.set_style(\"dark\")"
   ]
  },
  {
   "cell_type": "code",
   "execution_count": null,
   "metadata": {
    "id": "Eq_VQN-gb_VD"
   },
   "outputs": [],
   "source": [
    "def attia_network_age(samp_freq,time,num_leads):\n",
    "    input_layer = keras.layers.Input(shape=(samp_freq*time, num_leads))\n",
    "\n",
    "\n",
    "    # Temporal analysis block 1\n",
    "    conv1 = keras.layers.Conv1D(filters=16,kernel_size=7,strides=1,padding='same')(input_layer)\n",
    "    conv1 = keras.layers.BatchNormalization()(conv1)\n",
    "    conv1 = keras.layers.Activation(\"relu\")(conv1)\n",
    "    conv1 = keras.layers.MaxPooling1D(pool_size=2)(conv1)\n",
    "\n",
    "    # Temporal analysis block 2\n",
    "    conv2 = keras.layers.Conv1D(filters=16,kernel_size=5,strides=1,padding='same')(conv1)\n",
    "    conv2 = keras.layers.BatchNormalization()(conv2)\n",
    "    conv2 = keras.layers.Activation(\"relu\")(conv2)\n",
    "    conv2 = keras.layers.MaxPooling1D(pool_size=2)(conv2)\n",
    "\n",
    "    # Temporal analysis block 3\n",
    "    conv3 = keras.layers.Conv1D(filters=32,kernel_size=5,strides=1,padding='same')(conv2)\n",
    "    conv3 = keras.layers.BatchNormalization()(conv3)\n",
    "    conv3 = keras.layers.Activation(\"relu\")(conv3)\n",
    "    conv3 = keras.layers.MaxPooling1D(pool_size=2)(conv3)\n",
    "\n",
    "    # Temporal analysis block 4\n",
    "    conv4 = keras.layers.Conv1D(filters=32,kernel_size=5,strides=1,padding='same')(conv3)\n",
    "    conv4 = keras.layers.BatchNormalization()(conv4)\n",
    "    conv4 = keras.layers.Activation(\"relu\")(conv4)\n",
    "    conv4 = keras.layers.MaxPooling1D(pool_size=2)(conv4)\n",
    "\n",
    "    # Temporal analysis block 5\n",
    "    conv5 = keras.layers.Conv1D(filters=64,kernel_size=5,strides=1,padding='same')(conv4)\n",
    "    conv5 = keras.layers.BatchNormalization()(conv5)\n",
    "    conv5 = keras.layers.Activation(\"relu\")(conv5)\n",
    "    conv5 = keras.layers.MaxPooling1D(pool_size=2)(conv5)\n",
    "\n",
    "    # Temporal analysis block 6\n",
    "    conv6 = keras.layers.Conv1D(filters=64,kernel_size=3,strides=1,padding='same')(conv5)\n",
    "    conv6 = keras.layers.BatchNormalization()(conv6)\n",
    "    conv6 = keras.layers.Activation(\"relu\")(conv6)\n",
    "    conv6 = keras.layers.MaxPooling1D(pool_size=2)(conv6)\n",
    "\n",
    "    # Temporal analysis block 7\n",
    "    conv7 = keras.layers.Conv1D(filters=64,kernel_size=3,strides=1,padding='same')(conv6)\n",
    "    conv7 = keras.layers.BatchNormalization()(conv7)\n",
    "    conv7 = keras.layers.Activation(\"relu\")(conv7)\n",
    "    conv7 = keras.layers.MaxPooling1D(pool_size=2)(conv7)\n",
    "\n",
    "    # Temporal analysis block 8\n",
    "    conv8 = keras.layers.Conv1D(filters=64,kernel_size=3,strides=1,padding='same')(conv7)\n",
    "    conv8 = keras.layers.BatchNormalization()(conv8)\n",
    "    conv8 = keras.layers.Activation(\"relu\")(conv8)\n",
    "    conv8 = keras.layers.MaxPooling1D(pool_size=2)(conv8)\n",
    "\n",
    "    # Spatial analysis block 1\n",
    "    spatial_block_1 = keras.layers.Conv1D(filters=128,kernel_size=1,strides=1,padding='same')(conv8)\n",
    "    spatial_block_1 = keras.layers.BatchNormalization()(spatial_block_1)\n",
    "    spatial_block_1 = keras.layers.Activation(\"relu\")(spatial_block_1)\n",
    "    spatial_block_1 = keras.layers.MaxPooling1D(pool_size=2)(spatial_block_1)\n",
    "    spatial_block_1 = tf.keras.layers.Flatten()(spatial_block_1)\n",
    "\n",
    "    # Fully Connected block 1\n",
    "    fc_block_1 = keras.layers.Dense(units=128)(spatial_block_1)\n",
    "    fc_block_1 = keras.layers.BatchNormalization()(fc_block_1)\n",
    "    fc_block_1 = keras.layers.Activation(\"relu\")(fc_block_1)\n",
    "    fc_block_1 = keras.layers.Dropout(rate=0.2)(fc_block_1)\n",
    "\n",
    "    # Fully Connected block 1\n",
    "    fc_block_2 = keras.layers.Dense(units=64)(fc_block_1)\n",
    "    fc_block_2 = keras.layers.BatchNormalization()(fc_block_2)\n",
    "    fc_block_2 = keras.layers.Activation(\"relu\")(fc_block_2)\n",
    "    fc_block_2 = keras.layers.Dropout(rate=0.2)(fc_block_2)\n",
    "\n",
    "\n",
    "\n",
    "    #output_layer_1 = keras.layers.Dense(units=1,activation='linear')(last_dense)\n",
    "    output_layer = keras.layers.Dense(units=1,activation='linear')(fc_block_2)\n",
    "\n",
    "    model = keras.models.Model(inputs=input_layer, outputs=output_layer)\n",
    "\n",
    "    model.compile(loss=tf.keras.losses.MeanSquaredError(), optimizer=tf.keras.optimizers.Adam(learning_rate=0.001), metrics=[tf.keras.metrics.MeanAbsoluteError()])\n",
    "\n",
    "    return model"
   ]
  },
  {
   "cell_type": "code",
   "execution_count": null,
   "metadata": {
    "id": "IIiC1jYccIcr"
   },
   "outputs": [],
   "source": [
    "def _inception_module(input_tensor, stride=1, activation='linear', use_bottleneck=True, kernel_size=40, bottleneck_size=32, nb_filters=32):\n",
    "\n",
    "    if use_bottleneck and int(input_tensor.shape[-1]) > 1:\n",
    "        input_inception = keras.layers.Conv1D(filters=bottleneck_size, kernel_size=1,\n",
    "                                              padding='same', activation=activation, use_bias=False)(input_tensor)\n",
    "    else:\n",
    "        input_inception = input_tensor\n",
    "\n",
    "    # kernel_size_s = [3, 5, 8, 11, 17]\n",
    "    kernel_size_s = [kernel_size // (2 ** i) for i in range(3)]\n",
    "\n",
    "    conv_list = []\n",
    "\n",
    "    for i in range(len(kernel_size_s)):\n",
    "        conv_list.append(keras.layers.Conv1D(filters=nb_filters, kernel_size=kernel_size_s[i],\n",
    "                                              strides=stride, padding='same', activation=activation, use_bias=False)(\n",
    "            input_inception))\n",
    "\n",
    "    max_pool_1 = keras.layers.MaxPool1D(pool_size=3, strides=stride, padding='same')(input_tensor)\n",
    "\n",
    "    conv_6 = keras.layers.Conv1D(filters=nb_filters, kernel_size=1,\n",
    "                                  padding='same', activation=activation, use_bias=False)(max_pool_1)\n",
    "\n",
    "    conv_list.append(conv_6)\n",
    "\n",
    "    x = keras.layers.Concatenate(axis=2)(conv_list)\n",
    "    x = keras.layers.BatchNormalization()(x)\n",
    "    x = keras.layers.Activation(activation='relu')(x)\n",
    "    return x\n",
    "\n",
    "def _shortcut_layer(input_tensor, out_tensor):\n",
    "    shortcut_y = keras.layers.Conv1D(filters=int(out_tensor.shape[-1]), kernel_size=1,\n",
    "                                      padding='same', use_bias=False)(input_tensor)\n",
    "    shortcut_y = keras.layers.BatchNormalization()(shortcut_y)\n",
    "\n",
    "    x = keras.layers.Add()([shortcut_y, out_tensor])\n",
    "    x = keras.layers.Activation('relu')(x)\n",
    "    return x\n",
    "\n",
    "def build_model(input_shape, nb_classes, depth=50, use_residual=True):\n",
    "    input_layer = keras.layers.Input(input_shape)\n",
    "\n",
    "    x = input_layer\n",
    "    input_res = input_layer\n",
    "\n",
    "    for d in range(depth):\n",
    "\n",
    "        x = _inception_module(x)\n",
    "\n",
    "        if use_residual and d % 3 == 2:\n",
    "            x = _shortcut_layer(input_res, x)\n",
    "            input_res = x\n",
    "\n",
    "    gap_layer = keras.layers.GlobalAveragePooling1D()(x)\n",
    "\n",
    "    output_layer = keras.layers.Dense(units=nb_classes,activation='linear')(gap_layer)\n",
    "\n",
    "    model = keras.models.Model(inputs=input_layer, outputs=output_layer)\n",
    "    #model.compile(loss=[macro_double_soft_f1], optimizer=tf.keras.optimizers.Adam(learning_rate=0.001))\n",
    "    model.compile(loss=tf.keras.losses.MeanAbsoluteError(), optimizer=tf.keras.optimizers.Adam(learning_rate=0.001), metrics=[tf.keras.metrics.MeanSquaredError()])\n",
    "\n",
    "    return model"
   ]
  },
  {
   "cell_type": "code",
   "execution_count": null,
   "metadata": {
    "id": "BvWV7p7-e8R5"
   },
   "outputs": [],
   "source": [
    "samp_freq = 100\n",
    "time = 10\n",
    "num_leads = 12\n",
    "batchsize = 16\n",
    "epoch = 25"
   ]
  },
  {
   "cell_type": "code",
   "execution_count": null,
   "metadata": {
    "id": "gKKAaE6pfAAu"
   },
   "outputs": [],
   "source": [
    "model = build_model((samp_freq*time,num_leads), 1)"
   ]
  },
  {
   "cell_type": "code",
   "execution_count": null,
   "metadata": {
    "id": "aOa57J-ocKgM"
   },
   "outputs": [],
   "source": [
    "print(\"Training model...\")\n",
    "for i in range(len(folds)):\n",
    "    train_ind = folds[i][0]\n",
    "    test_ind = folds[i][1]\n",
    "\n",
    "\n",
    "    #model = attia_network_age(samp_freq,time,num_leads) # velg modell\n",
    "    model = build_model((samp_freq*time,num_leads), 1)\n",
    "    model.fit(x=shuffle_batch_generator_age(batch_size=batchsize, gen_x=generate_X_age(ecg_filenames[train_ind]), gen_y=generate_y_age(age[train_ind]),num_leads=num_leads), epochs=epoch,\n",
    "              steps_per_epoch=(len(train_ind)/batchsize),\n",
    "              validation_data=shuffle_batch_generator_age(batch_size=batchsize, gen_x=generate_X_age(ecg_filenames[test_ind]), gen_y=generate_y_age(age[test_ind]),num_leads=num_leads), validation_freq=1, validation_steps = (len(test_ind)/batchsize),\n",
    "              verbose = 1,\n",
    "              callbacks=[reduce_lr]\n",
    "              )\n",
    "    mse_score = []\n",
    "    mae_score = []\n",
    "    f1_score = []\n",
    "    acc_score = []\n",
    "    pred_age = []\n",
    "    true_age = []\n",
    "    for j in tqdm.tqdm(test_ind):\n",
    "        data, header_data = load_challenge_data(ecg_filenames[j])\n",
    "        if int(header_data[0].split(\" \")[2]) != samp_freq:\n",
    "            data_new = np.ones([num_leads,int((int(header_data[0].split(\" \")[3])/int(header_data[0].split(\" \")[2]))*samp_freq)])\n",
    "            for k,l in enumerate(data):\n",
    "                data_new[k] = signal.resample(l, int((int(header_data[0].split(\" \")[3])/int(header_data[0].split(\" \")[2]))*samp_freq))\n",
    "            data = data_new\n",
    "            data = pad_sequences(data, maxlen=samp_freq*10, truncating='post',padding=\"post\")\n",
    "        data = np.moveaxis(data, 0, -1)\n",
    "        #y_true = gender[j]\n",
    "        y_true = age[j]\n",
    "        true_age.append(y_true)\n",
    "        y_hat = model.predict(np.expand_dims(data, axis=0))\n",
    "        pred_age.append(y_hat)\n",
    "        mse_score.append(mean_squared_error(np.expand_dims(y_true,axis=0),y_hat.ravel()))\n",
    "        mae_score.append(mean_absolute_error(np.expand_dims(y_true,axis=0),y_hat.ravel()))\n",
    "        #acc_score.append(accuracy_score(np.expand_dims(y_true,axis=0),y_hat.ravel()))\n",
    "        #f1_score.append(f1_sccore(np.expand_dims(y_true,axis=0),y_hat.ravel()))\n",
    "    mse_score = np.asarray(mse_score).mean()\n",
    "    mae_score = np.asarray(mae_score).mean()\n",
    "    #acc_score = np.asarray(acc_score).mean()\n",
    "    #f1_score = np.asarray(f1_score).mean()\n",
    "    print(\"MAE score {}\".format(mae_score))\n",
    "    #print(\"Accuracy score {}\".format(acc_score))\n",
    "    #print(\"F1 score {}\".format(f1_score))\n",
    "    print(\"MSE score {}\".format(mse_score))\n",
    "    break"
   ]
  },
  {
   "cell_type": "code",
   "execution_count": null,
   "metadata": {
    "colab": {
     "base_uri": "https://localhost:8080/"
    },
    "executionInfo": {
     "elapsed": 506,
     "status": "ok",
     "timestamp": 1694951508172,
     "user": {
      "displayName": "Carpe DM",
      "userId": "00198161951846214785"
     },
     "user_tz": -540
    },
    "id": "GJ4lcr3E9iB5",
    "outputId": "bfd16f5b-e416-4f7c-f9d3-f7dbfd15cc23"
   },
   "outputs": [
    {
     "name": "stdout",
     "output_type": "stream",
     "text": [
      "/bin/bash: line 1: ecg_train: command not found\n"
     ]
    }
   ],
   "source": [
    "! ecg_train"
   ]
  },
  {
   "cell_type": "code",
   "execution_count": null,
   "metadata": {
    "id": "DKA7ytCh9h-9"
   },
   "outputs": [],
   "source": [
    "!unzip /content/drive/MyDrive/MAIC설명회/ecg_adult_train.zip -d ecg_train"
   ]
  },
  {
   "cell_type": "code",
   "execution_count": null,
   "metadata": {
    "id": "0dllHJ2A9h8a"
   },
   "outputs": [],
   "source": []
  },
  {
   "cell_type": "code",
   "execution_count": null,
   "metadata": {
    "id": "sfdHXIJ_9h6F"
   },
   "outputs": [],
   "source": []
  },
  {
   "cell_type": "code",
   "execution_count": null,
   "metadata": {
    "id": "tskm4ZRs9h3g"
   },
   "outputs": [],
   "source": []
  }
 ],
 "metadata": {
  "colab": {
   "authorship_tag": "ABX9TyNz4DCwgx2/IoYL4Xd/ZN3H",
   "mount_file_id": "1DSvPLN-CuOb4e21vOz8tM2MCAxuFuneX",
   "provenance": [
    {
     "file_id": "1DSvPLN-CuOb4e21vOz8tM2MCAxuFuneX",
     "timestamp": 1694956990093
    }
   ]
  },
  "kernelspec": {
   "display_name": "Python 3 (ipykernel)",
   "language": "python",
   "name": "python3"
  },
  "language_info": {
   "codemirror_mode": {
    "name": "ipython",
    "version": 3
   },
   "file_extension": ".py",
   "mimetype": "text/x-python",
   "name": "python",
   "nbconvert_exporter": "python",
   "pygments_lexer": "ipython3",
   "version": "3.9.7"
  }
 },
 "nbformat": 4,
 "nbformat_minor": 1
}
