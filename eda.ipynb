{
 "cells": [
  {
   "cell_type": "code",
   "execution_count": null,
   "id": "8eaf9658",
   "metadata": {},
   "outputs": [],
   "source": []
  },
  {
   "cell_type": "code",
   "execution_count": 1,
   "id": "ca8d028e",
   "metadata": {},
   "outputs": [],
   "source": [
    "import os\n",
    "\n",
    "# import py7zr\n",
    "import zipfile\n",
    "\n",
    "import numpy as np\n",
    "import tensorflow as tf\n",
    "import pandas as pd"
   ]
  },
  {
   "cell_type": "code",
   "execution_count": 2,
   "id": "ff5b3457",
   "metadata": {},
   "outputs": [
    {
     "data": {
      "text/plain": [
       "'/aiffel/aiffel/workplace/2023SNU_Maic'"
      ]
     },
     "execution_count": 2,
     "metadata": {},
     "output_type": "execute_result"
    }
   ],
   "source": [
    "os.getcwd()"
   ]
  },
  {
   "cell_type": "code",
   "execution_count": null,
   "id": "4abe7a09",
   "metadata": {},
   "outputs": [],
   "source": []
  },
  {
   "cell_type": "code",
   "execution_count": null,
   "id": "59e88257",
   "metadata": {},
   "outputs": [
    {
     "name": "stdout",
     "output_type": "stream",
     "text": [
      "/aiffel/aiffel/workplace/2023SNU_Maic/MAIC2023/ECG_adult_numpy_valid/\n"
     ]
    }
   ],
   "source": [
    "# 함수화 해보려다가 망한것\n",
    "file_path = '/aiffel/aiffel/workplace/2023SNU_Maic/MAIC2023'\n",
    "\n",
    "ADULT_VALID_DATA = '/ECG_adult_numpy_valid/'\n",
    "CHILD_TRAIN_DATA = '/ECG_child_numpy_train/'\n",
    "CHILD_VALID_DATA = '/ECG_child_numpy_valid/'\n",
    "\n",
    "\n",
    "def open_folder(folder_name):\n",
    "    data_list = []\n",
    "    folder_dir = os.path.join(file_path + folder_name)\n",
    "    print(folder_dir)\n",
    "    for filename in os.listdir(folder_dir):\n",
    "        if '_con.npy' in filename:\n",
    "            pass\n",
    "        \n",
    "        if filename in os.listdir(folder_dir):\n",
    "            loaded_array = np.load(folder_dir + filename)\n",
    "            data_list.append(loaded_array)\n",
    "\n",
    "    concatenated_array = np.concatenate(data_list, axis=1)\n",
    "    output_file_name = f\"{folder_dir}+{folder_name.strip('/')}_con.npy\"\n",
    "    np.save(output_file_name, concatenated_array)\n",
    "    \n",
    "    return concatenated_array\n",
    "\n",
    "\n",
    "\n",
    "output_file_path = open_folder(ADULT_VALID_DATA)\n",
    "print(\"Concatenated data saved to:\", output_file_path)"
   ]
  },
  {
   "cell_type": "code",
   "execution_count": null,
   "id": "03b493d7",
   "metadata": {},
   "outputs": [],
   "source": [
    "print(output_file_path)"
   ]
  },
  {
   "cell_type": "code",
   "execution_count": null,
   "id": "3283ac54",
   "metadata": {},
   "outputs": [],
   "source": [
    "adult_val_con = np.load('/aiffel/aiffel/workplace/2023SNU_Maic/MAIC2023/ECG_adult_numpy_valid/+ECG_adult_numpy_valid_con.npy')\n",
    "adult_val_con.shape"
   ]
  },
  {
   "cell_type": "code",
   "execution_count": null,
   "id": "a48bfe06",
   "metadata": {},
   "outputs": [],
   "source": [
    "adult_val_con"
   ]
  },
  {
   "cell_type": "code",
   "execution_count": null,
   "id": "3bfceb8e",
   "metadata": {},
   "outputs": [],
   "source": []
  },
  {
   "cell_type": "code",
   "execution_count": null,
   "id": "7dd342af",
   "metadata": {},
   "outputs": [],
   "source": []
  },
  {
   "cell_type": "code",
   "execution_count": null,
   "id": "d8fa25d7",
   "metadata": {},
   "outputs": [],
   "source": []
  },
  {
   "cell_type": "code",
   "execution_count": null,
   "id": "60a2ff3a",
   "metadata": {},
   "outputs": [],
   "source": []
  }
 ],
 "metadata": {
  "kernelspec": {
   "display_name": "Python 3 (ipykernel)",
   "language": "python",
   "name": "python3"
  },
  "language_info": {
   "codemirror_mode": {
    "name": "ipython",
    "version": 3
   },
   "file_extension": ".py",
   "mimetype": "text/x-python",
   "name": "python",
   "nbconvert_exporter": "python",
   "pygments_lexer": "ipython3",
   "version": "3.9.7"
  }
 },
 "nbformat": 4,
 "nbformat_minor": 5
}
