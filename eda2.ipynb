{
 "cells": [
  {
   "cell_type": "code",
   "execution_count": 1,
   "metadata": {
    "id": "DjlDioQj6DHT"
   },
   "outputs": [],
   "source": [
    "import os\n",
    "import zipfile\n",
    "import shutil\n",
    "\n",
    "import pandas as pd\n",
    "import numpy as np\n",
    "import tensorflow as tf\n",
    "\n",
    "import matplotlib.pyplot as plt\n",
    "import seaborn as sns"
   ]
  },
  {
   "cell_type": "code",
   "execution_count": 2,
   "metadata": {},
   "outputs": [
    {
     "data": {
      "text/plain": [
       "'/aiffel/aiffel/workplace/2023SNU_Maic'"
      ]
     },
     "execution_count": 2,
     "metadata": {},
     "output_type": "execute_result"
    }
   ],
   "source": [
    "os.getcwd()"
   ]
  },
  {
   "cell_type": "code",
   "execution_count": 3,
   "metadata": {},
   "outputs": [],
   "source": [
    "# input_path = '/aiffel/aiffel/workplace/2023SNU_Maic/MAIC2023-20230916T025150Z-001.zip' \n",
    "# output_path = '/aiffel/aiffel/workplace/2023SNU_Maic/MAIC2023'\n",
    "\n",
    "\n",
    "# # 압축 해제\n",
    "# with zipfile.ZipFile('MAIC2023-20230916T025150Z-001.zip') as z:\n",
    "#     z.extractall(path=output_path)\n",
    "\n",
    "    \n",
    "# # 압축 해제된 파일 목록 확인\n",
    "# extracted_files = os.listdir(output_path)\n",
    "# print(extracted_files)"
   ]
  },
  {
   "cell_type": "code",
   "execution_count": 4,
   "metadata": {},
   "outputs": [],
   "source": [
    "# !unzip -uq \"ecg_adult_train.zip\" -d \"MAIC2023/ECG_adult_numpy_train\""
   ]
  },
  {
   "cell_type": "code",
   "execution_count": 3,
   "metadata": {},
   "outputs": [
    {
     "data": {
      "text/plain": [
       "array([76. , 76. , 76. , ..., 19.5, 19.5, 19. ])"
      ]
     },
     "execution_count": 3,
     "metadata": {},
     "output_type": "execute_result"
    }
   ],
   "source": [
    "# 일단 요건 테스트\n",
    "test_a = np.load('./MAIC2023/ECG_child_numpy_train/ecg_child_0.npy')  # child부분을 adult로 바꿔서도 출력 가능\n",
    "test_a"
   ]
  },
  {
   "cell_type": "code",
   "execution_count": 4,
   "metadata": {
    "colab": {
     "base_uri": "https://localhost:8080/",
     "height": 206
    },
    "executionInfo": {
     "elapsed": 11,
     "status": "ok",
     "timestamp": 1694936842579,
     "user": {
      "displayName": "Carpe DM",
      "userId": "00198161951846214785"
     },
     "user_tz": -540
    },
    "id": "bowa1eqnNSc_",
    "outputId": "72bc7d14-38c9-4c11-c70b-1e4f115194cc"
   },
   "outputs": [
    {
     "data": {
      "text/html": [
       "<div>\n",
       "<style scoped>\n",
       "    .dataframe tbody tr th:only-of-type {\n",
       "        vertical-align: middle;\n",
       "    }\n",
       "\n",
       "    .dataframe tbody tr th {\n",
       "        vertical-align: top;\n",
       "    }\n",
       "\n",
       "    .dataframe thead th {\n",
       "        text-align: right;\n",
       "    }\n",
       "</style>\n",
       "<table border=\"1\" class=\"dataframe\">\n",
       "  <thead>\n",
       "    <tr style=\"text-align: right;\">\n",
       "      <th></th>\n",
       "      <th>FILENAME</th>\n",
       "      <th>GENDER</th>\n",
       "      <th>AGE</th>\n",
       "    </tr>\n",
       "  </thead>\n",
       "  <tbody>\n",
       "    <tr>\n",
       "      <th>8776</th>\n",
       "      <td>ecg_child_8776</td>\n",
       "      <td>MALE</td>\n",
       "      <td>0.666667</td>\n",
       "    </tr>\n",
       "    <tr>\n",
       "      <th>8777</th>\n",
       "      <td>ecg_child_8777</td>\n",
       "      <td>MALE</td>\n",
       "      <td>0.083333</td>\n",
       "    </tr>\n",
       "    <tr>\n",
       "      <th>8778</th>\n",
       "      <td>ecg_child_8778</td>\n",
       "      <td>FEMALE</td>\n",
       "      <td>5.833333</td>\n",
       "    </tr>\n",
       "    <tr>\n",
       "      <th>8779</th>\n",
       "      <td>ecg_child_8779</td>\n",
       "      <td>FEMALE</td>\n",
       "      <td>2.250000</td>\n",
       "    </tr>\n",
       "    <tr>\n",
       "      <th>8780</th>\n",
       "      <td>ecg_child_8780</td>\n",
       "      <td>MALE</td>\n",
       "      <td>4.500000</td>\n",
       "    </tr>\n",
       "  </tbody>\n",
       "</table>\n",
       "</div>"
      ],
      "text/plain": [
       "            FILENAME  GENDER       AGE\n",
       "8776  ecg_child_8776    MALE  0.666667\n",
       "8777  ecg_child_8777    MALE  0.083333\n",
       "8778  ecg_child_8778  FEMALE  5.833333\n",
       "8779  ecg_child_8779  FEMALE  2.250000\n",
       "8780  ecg_child_8780    MALE  4.500000"
      ]
     },
     "execution_count": 4,
     "metadata": {},
     "output_type": "execute_result"
    }
   ],
   "source": [
    "ca = pd.read_csv('./MAIC2023/ECG_child_age_train.csv')\n",
    "ca.tail()"
   ]
  },
  {
   "cell_type": "code",
   "execution_count": 5,
   "metadata": {},
   "outputs": [
    {
     "data": {
      "text/html": [
       "<div>\n",
       "<style scoped>\n",
       "    .dataframe tbody tr th:only-of-type {\n",
       "        vertical-align: middle;\n",
       "    }\n",
       "\n",
       "    .dataframe tbody tr th {\n",
       "        vertical-align: top;\n",
       "    }\n",
       "\n",
       "    .dataframe thead th {\n",
       "        text-align: right;\n",
       "    }\n",
       "</style>\n",
       "<table border=\"1\" class=\"dataframe\">\n",
       "  <thead>\n",
       "    <tr style=\"text-align: right;\">\n",
       "      <th></th>\n",
       "      <th>FILENAME</th>\n",
       "      <th>GENDER</th>\n",
       "      <th>AGE</th>\n",
       "    </tr>\n",
       "  </thead>\n",
       "  <tbody>\n",
       "    <tr>\n",
       "      <th>34902</th>\n",
       "      <td>ecg_adult_35136</td>\n",
       "      <td>MALE</td>\n",
       "      <td>19</td>\n",
       "    </tr>\n",
       "    <tr>\n",
       "      <th>34903</th>\n",
       "      <td>ecg_adult_35137</td>\n",
       "      <td>FEMALE</td>\n",
       "      <td>63</td>\n",
       "    </tr>\n",
       "    <tr>\n",
       "      <th>34904</th>\n",
       "      <td>ecg_adult_35138</td>\n",
       "      <td>MALE</td>\n",
       "      <td>60</td>\n",
       "    </tr>\n",
       "    <tr>\n",
       "      <th>34905</th>\n",
       "      <td>ecg_adult_35139</td>\n",
       "      <td>FEMALE</td>\n",
       "      <td>60</td>\n",
       "    </tr>\n",
       "    <tr>\n",
       "      <th>34906</th>\n",
       "      <td>ecg_adult_35140</td>\n",
       "      <td>MALE</td>\n",
       "      <td>53</td>\n",
       "    </tr>\n",
       "  </tbody>\n",
       "</table>\n",
       "</div>"
      ],
      "text/plain": [
       "              FILENAME  GENDER  AGE\n",
       "34902  ecg_adult_35136    MALE   19\n",
       "34903  ecg_adult_35137  FEMALE   63\n",
       "34904  ecg_adult_35138    MALE   60\n",
       "34905  ecg_adult_35139  FEMALE   60\n",
       "34906  ecg_adult_35140    MALE   53"
      ]
     },
     "execution_count": 5,
     "metadata": {},
     "output_type": "execute_result"
    }
   ],
   "source": [
    "aa = pd.read_csv('./MAIC2023/ECG_adult_age_train.csv')\n",
    "aa.tail()"
   ]
  },
  {
   "cell_type": "code",
   "execution_count": 6,
   "metadata": {
    "scrolled": true
   },
   "outputs": [
    {
     "name": "stdout",
     "output_type": "stream",
     "text": [
      "total_len: 8781\n",
      "1000 11.388224575788634 %\n",
      "end\n"
     ]
    }
   ],
   "source": [
    "# concat 하는 코드 \n",
    "ECG_adult_numpy_train_folder_path = './MAIC2023/ECG_adult_numpy_train/'\n",
    "ECG_adult_numpy_train_files = os.listdir(ECG_adult_numpy_train_folder_path)\n",
    "\n",
    "ECG_child_numpy_train_folder_path = './MAIC2023/ECG_child_numpy_train/'\n",
    "ECG_child_numpy_train_files = os.listdir(ECG_child_numpy_train_folder_path)\n",
    "\n",
    "lead = ['I','II', 'III','V1','V2','V3','V4','V5','V6','aVR','aVL', 'aVF']\n",
    "\n",
    "\n",
    "for l in lead:\n",
    "    ca[l] = np.nan\n",
    "    \n",
    "# for l in lead:\n",
    "#     aa[l] = np.nan\n",
    "# 이거 분리하는게 좋을것 같긴한데..\n",
    "\n",
    "\n",
    "# adult는  34907 rows\n",
    "# adult_total_len = len(ECG_adult_numpy_train_files)\n",
    "# for idx, file_path in enumerate(ECG_adult_numpy_train_files):\n",
    "#     file_name = file_path.split('.')[0]\n",
    "#     if not idx % 1000:\n",
    "#         print(idx, (idx / adult_total_len) * 100, '%')\n",
    "#     if '.npy' in file_path:        \n",
    "#         npy = np.load(ECG_adult_numpy_train_folder_path + file_path)\n",
    "        \n",
    "#         for i in range(len(lead)):\n",
    "#             a[aa['FILENAME'] == file_name].index\n",
    "#             aa.loc[aa_idx, lead[i]] = npy[i]\n",
    "                \n",
    "\n",
    "# child_total_len = len(ECG_child_numpy_train_files)\n",
    "# print('child_total_len:', child_total_len)\n",
    "# for idx, file_path in enumerate(ECG_child_numpy_train_files):\n",
    "#     file_name = file_path.split('.')[0]\n",
    "                                     \n",
    "#     if not idx % 1000:\n",
    "#         print(idx, (idx / child_total_len) * 100, '%')\n",
    "        \n",
    "#     if '.npy' in file_path:        \n",
    "#         npy = np.load(ECG_child_numpy_train_folder_path + file_path)\n",
    "        \n",
    "#         for i in range(len(lead)):\n",
    "#             ca_idx = ca[ca['FILENAME'] == file_name].index\n",
    "#             ca.loc[ca_idx, lead[i]] = npy[i]      \n",
    "\n",
    "def def_name(df, folder_path, file_paths):\n",
    "    data_dict = dict()\n",
    "    \n",
    "    total_len = len(file_paths)\n",
    "    print('total_len:', total_len)\n",
    "    for idx, file_path in enumerate(file_paths):\n",
    "        file_name = file_path.split('.')[0]\n",
    "\n",
    "        if not idx % 1000 and idx > 0:\n",
    "            print(idx, (idx / total_len) * 100, '%')\n",
    "            break\n",
    "            \n",
    "        if '.npy' in file_path:        \n",
    "            npy = np.load(folder_path + file_path)\n",
    "\n",
    "            idx = df[df['FILENAME'] == file_name].index\n",
    "\n",
    "            # df\n",
    "            for i in range(len(lead)):\n",
    "                df.loc[idx, lead[i]] = np.array2string(npy[i * 5000:(i + 1) * 5000], threshold=0)[1:-1]\n",
    "                \n",
    "    print('end')\n",
    "#             json(dict)\n",
    "#             age = float(df[df['FILENAME'] == file_name]['AGE'])\n",
    "#             gen1 = df.loc[idx, 'GENDER'].to_string()[-4:]\n",
    "#             lead_data = {'age': age, 'gender': gen1}\n",
    "            \n",
    "#             for i in range(len(lead)):\n",
    "#                 lead_data[lead[i]] = list(npy[i * 5000:(i + 1) * 5000])\n",
    "#                 data_dict[file_name] = lead_data\n",
    "                \n",
    "#     return data_dict\n",
    "# c_dict = def_name(ca, ECG_child_numpy_train_folder_path, ECG_child_numpy_train_files)\n",
    "\n",
    "# ad = def_name(aa, ECG_adult_numpy_train_folder_path, ECG_adult_numpy_train_files)\n",
    "\n",
    "def_name(ca, ECG_child_numpy_train_folder_path, ECG_child_numpy_train_files)"
   ]
  },
  {
   "cell_type": "code",
   "execution_count": 8,
   "metadata": {},
   "outputs": [
    {
     "name": "stdout",
     "output_type": "stream",
     "text": [
      "nan\n"
     ]
    }
   ],
   "source": [
    "for v in ca.iterrows():\n",
    "    print(v[1]['I'])\n",
    "    break"
   ]
  },
  {
   "cell_type": "code",
   "execution_count": 10,
   "metadata": {},
   "outputs": [],
   "source": [
    "ca.to_csv('./MAIC2023/child_con.csv')  # 이게 새로 제대로 concat한 데이터"
   ]
  },
  {
   "cell_type": "code",
   "execution_count": 11,
   "metadata": {},
   "outputs": [],
   "source": [
    "cdf = pd.read_csv('./MAIC2023/child_train_con.csv', index_col = 0)\n",
    "adf = pd.read_csv('./MAIC2023/adult_train_con.csv',  index_col = 0)"
   ]
  },
  {
   "cell_type": "code",
   "execution_count": 12,
   "metadata": {},
   "outputs": [
    {
     "data": {
      "text/html": [
       "<div>\n",
       "<style scoped>\n",
       "    .dataframe tbody tr th:only-of-type {\n",
       "        vertical-align: middle;\n",
       "    }\n",
       "\n",
       "    .dataframe tbody tr th {\n",
       "        vertical-align: top;\n",
       "    }\n",
       "\n",
       "    .dataframe thead th {\n",
       "        text-align: right;\n",
       "    }\n",
       "</style>\n",
       "<table border=\"1\" class=\"dataframe\">\n",
       "  <thead>\n",
       "    <tr style=\"text-align: right;\">\n",
       "      <th></th>\n",
       "      <th>FILENAME</th>\n",
       "      <th>GENDER</th>\n",
       "      <th>AGE</th>\n",
       "      <th>I</th>\n",
       "      <th>II</th>\n",
       "      <th>III</th>\n",
       "      <th>V1</th>\n",
       "      <th>V2</th>\n",
       "      <th>V3</th>\n",
       "      <th>V4</th>\n",
       "      <th>V5</th>\n",
       "      <th>V6</th>\n",
       "      <th>aVR</th>\n",
       "      <th>aVL</th>\n",
       "      <th>aVF</th>\n",
       "    </tr>\n",
       "  </thead>\n",
       "  <tbody>\n",
       "    <tr>\n",
       "      <th>0</th>\n",
       "      <td>ecg_adult_0</td>\n",
       "      <td>MALE</td>\n",
       "      <td>53</td>\n",
       "      <td>12.0</td>\n",
       "      <td>12.0</td>\n",
       "      <td>12.0</td>\n",
       "      <td>12.0</td>\n",
       "      <td>11.0</td>\n",
       "      <td>10.0</td>\n",
       "      <td>9.0</td>\n",
       "      <td>8.0</td>\n",
       "      <td>8.0</td>\n",
       "      <td>8.0</td>\n",
       "      <td>8.0</td>\n",
       "      <td>7.0</td>\n",
       "    </tr>\n",
       "    <tr>\n",
       "      <th>1</th>\n",
       "      <td>ecg_adult_1</td>\n",
       "      <td>MALE</td>\n",
       "      <td>68</td>\n",
       "      <td>-2.0</td>\n",
       "      <td>-2.0</td>\n",
       "      <td>-2.0</td>\n",
       "      <td>-2.0</td>\n",
       "      <td>-4.0</td>\n",
       "      <td>-4.0</td>\n",
       "      <td>-4.0</td>\n",
       "      <td>-4.0</td>\n",
       "      <td>-2.0</td>\n",
       "      <td>-2.0</td>\n",
       "      <td>-2.0</td>\n",
       "      <td>-2.0</td>\n",
       "    </tr>\n",
       "    <tr>\n",
       "      <th>2</th>\n",
       "      <td>ecg_adult_2</td>\n",
       "      <td>MALE</td>\n",
       "      <td>68</td>\n",
       "      <td>-10.0</td>\n",
       "      <td>-10.0</td>\n",
       "      <td>-10.0</td>\n",
       "      <td>-10.0</td>\n",
       "      <td>-10.0</td>\n",
       "      <td>-10.0</td>\n",
       "      <td>-10.0</td>\n",
       "      <td>-10.0</td>\n",
       "      <td>-12.0</td>\n",
       "      <td>-12.0</td>\n",
       "      <td>-12.0</td>\n",
       "      <td>-12.0</td>\n",
       "    </tr>\n",
       "    <tr>\n",
       "      <th>3</th>\n",
       "      <td>ecg_adult_3</td>\n",
       "      <td>MALE</td>\n",
       "      <td>89</td>\n",
       "      <td>-6.0</td>\n",
       "      <td>-6.0</td>\n",
       "      <td>-6.0</td>\n",
       "      <td>-5.0</td>\n",
       "      <td>-7.0</td>\n",
       "      <td>-7.0</td>\n",
       "      <td>-7.0</td>\n",
       "      <td>-7.0</td>\n",
       "      <td>-9.0</td>\n",
       "      <td>-9.0</td>\n",
       "      <td>-9.0</td>\n",
       "      <td>-9.0</td>\n",
       "    </tr>\n",
       "    <tr>\n",
       "      <th>4</th>\n",
       "      <td>ecg_adult_4</td>\n",
       "      <td>MALE</td>\n",
       "      <td>79</td>\n",
       "      <td>2.0</td>\n",
       "      <td>2.0</td>\n",
       "      <td>2.0</td>\n",
       "      <td>2.0</td>\n",
       "      <td>4.0</td>\n",
       "      <td>6.0</td>\n",
       "      <td>8.0</td>\n",
       "      <td>10.0</td>\n",
       "      <td>8.0</td>\n",
       "      <td>6.0</td>\n",
       "      <td>4.0</td>\n",
       "      <td>2.0</td>\n",
       "    </tr>\n",
       "    <tr>\n",
       "      <th>...</th>\n",
       "      <td>...</td>\n",
       "      <td>...</td>\n",
       "      <td>...</td>\n",
       "      <td>...</td>\n",
       "      <td>...</td>\n",
       "      <td>...</td>\n",
       "      <td>...</td>\n",
       "      <td>...</td>\n",
       "      <td>...</td>\n",
       "      <td>...</td>\n",
       "      <td>...</td>\n",
       "      <td>...</td>\n",
       "      <td>...</td>\n",
       "      <td>...</td>\n",
       "      <td>...</td>\n",
       "    </tr>\n",
       "    <tr>\n",
       "      <th>34902</th>\n",
       "      <td>ecg_adult_35136</td>\n",
       "      <td>MALE</td>\n",
       "      <td>19</td>\n",
       "      <td>-16.0</td>\n",
       "      <td>-16.0</td>\n",
       "      <td>-16.0</td>\n",
       "      <td>-16.0</td>\n",
       "      <td>-14.0</td>\n",
       "      <td>-14.0</td>\n",
       "      <td>-14.0</td>\n",
       "      <td>-14.0</td>\n",
       "      <td>-16.0</td>\n",
       "      <td>-16.0</td>\n",
       "      <td>-16.0</td>\n",
       "      <td>-16.0</td>\n",
       "    </tr>\n",
       "    <tr>\n",
       "      <th>34903</th>\n",
       "      <td>ecg_adult_35137</td>\n",
       "      <td>FEMALE</td>\n",
       "      <td>63</td>\n",
       "      <td>11.0</td>\n",
       "      <td>12.0</td>\n",
       "      <td>12.0</td>\n",
       "      <td>12.0</td>\n",
       "      <td>12.0</td>\n",
       "      <td>13.0</td>\n",
       "      <td>13.0</td>\n",
       "      <td>13.0</td>\n",
       "      <td>11.0</td>\n",
       "      <td>11.0</td>\n",
       "      <td>11.0</td>\n",
       "      <td>11.0</td>\n",
       "    </tr>\n",
       "    <tr>\n",
       "      <th>34904</th>\n",
       "      <td>ecg_adult_35138</td>\n",
       "      <td>MALE</td>\n",
       "      <td>60</td>\n",
       "      <td>-10.0</td>\n",
       "      <td>-10.0</td>\n",
       "      <td>-10.0</td>\n",
       "      <td>-10.0</td>\n",
       "      <td>-12.0</td>\n",
       "      <td>-12.0</td>\n",
       "      <td>-12.0</td>\n",
       "      <td>-12.0</td>\n",
       "      <td>-10.0</td>\n",
       "      <td>-10.0</td>\n",
       "      <td>-10.0</td>\n",
       "      <td>-10.0</td>\n",
       "    </tr>\n",
       "    <tr>\n",
       "      <th>34905</th>\n",
       "      <td>ecg_adult_35139</td>\n",
       "      <td>FEMALE</td>\n",
       "      <td>60</td>\n",
       "      <td>0.0</td>\n",
       "      <td>0.0</td>\n",
       "      <td>0.0</td>\n",
       "      <td>0.0</td>\n",
       "      <td>-1.0</td>\n",
       "      <td>-2.0</td>\n",
       "      <td>-3.0</td>\n",
       "      <td>-4.0</td>\n",
       "      <td>-4.0</td>\n",
       "      <td>-4.0</td>\n",
       "      <td>-4.0</td>\n",
       "      <td>-4.0</td>\n",
       "    </tr>\n",
       "    <tr>\n",
       "      <th>34906</th>\n",
       "      <td>ecg_adult_35140</td>\n",
       "      <td>MALE</td>\n",
       "      <td>53</td>\n",
       "      <td>-44.0</td>\n",
       "      <td>-44.0</td>\n",
       "      <td>-44.0</td>\n",
       "      <td>-44.0</td>\n",
       "      <td>-45.0</td>\n",
       "      <td>-46.0</td>\n",
       "      <td>-47.0</td>\n",
       "      <td>-48.0</td>\n",
       "      <td>-48.0</td>\n",
       "      <td>-48.0</td>\n",
       "      <td>-48.0</td>\n",
       "      <td>-48.0</td>\n",
       "    </tr>\n",
       "  </tbody>\n",
       "</table>\n",
       "<p>34907 rows × 15 columns</p>\n",
       "</div>"
      ],
      "text/plain": [
       "              FILENAME  GENDER  AGE     I    II   III    V1    V2    V3    V4  \\\n",
       "0          ecg_adult_0    MALE   53  12.0  12.0  12.0  12.0  11.0  10.0   9.0   \n",
       "1          ecg_adult_1    MALE   68  -2.0  -2.0  -2.0  -2.0  -4.0  -4.0  -4.0   \n",
       "2          ecg_adult_2    MALE   68 -10.0 -10.0 -10.0 -10.0 -10.0 -10.0 -10.0   \n",
       "3          ecg_adult_3    MALE   89  -6.0  -6.0  -6.0  -5.0  -7.0  -7.0  -7.0   \n",
       "4          ecg_adult_4    MALE   79   2.0   2.0   2.0   2.0   4.0   6.0   8.0   \n",
       "...                ...     ...  ...   ...   ...   ...   ...   ...   ...   ...   \n",
       "34902  ecg_adult_35136    MALE   19 -16.0 -16.0 -16.0 -16.0 -14.0 -14.0 -14.0   \n",
       "34903  ecg_adult_35137  FEMALE   63  11.0  12.0  12.0  12.0  12.0  13.0  13.0   \n",
       "34904  ecg_adult_35138    MALE   60 -10.0 -10.0 -10.0 -10.0 -12.0 -12.0 -12.0   \n",
       "34905  ecg_adult_35139  FEMALE   60   0.0   0.0   0.0   0.0  -1.0  -2.0  -3.0   \n",
       "34906  ecg_adult_35140    MALE   53 -44.0 -44.0 -44.0 -44.0 -45.0 -46.0 -47.0   \n",
       "\n",
       "         V5    V6   aVR   aVL   aVF  \n",
       "0       8.0   8.0   8.0   8.0   7.0  \n",
       "1      -4.0  -2.0  -2.0  -2.0  -2.0  \n",
       "2     -10.0 -12.0 -12.0 -12.0 -12.0  \n",
       "3      -7.0  -9.0  -9.0  -9.0  -9.0  \n",
       "4      10.0   8.0   6.0   4.0   2.0  \n",
       "...     ...   ...   ...   ...   ...  \n",
       "34902 -14.0 -16.0 -16.0 -16.0 -16.0  \n",
       "34903  13.0  11.0  11.0  11.0  11.0  \n",
       "34904 -12.0 -10.0 -10.0 -10.0 -10.0  \n",
       "34905  -4.0  -4.0  -4.0  -4.0  -4.0  \n",
       "34906 -48.0 -48.0 -48.0 -48.0 -48.0  \n",
       "\n",
       "[34907 rows x 15 columns]"
      ]
     },
     "execution_count": 12,
     "metadata": {},
     "output_type": "execute_result"
    }
   ],
   "source": [
    "adf = adf[['FILENAME', 'GENDER', 'AGE', 'I', 'II', 'III', 'V1',\n",
    "       'V2', 'V3', 'V4', 'V5', 'V6', 'aVR', 'aVL', 'aVF']]\n",
    "adf"
   ]
  },
  {
   "cell_type": "code",
   "execution_count": null,
   "metadata": {},
   "outputs": [],
   "source": [
    "cdf.describe()"
   ]
  },
  {
   "cell_type": "code",
   "execution_count": null,
   "metadata": {},
   "outputs": [],
   "source": [
    "adf.describe()"
   ]
  },
  {
   "cell_type": "code",
   "execution_count": null,
   "metadata": {},
   "outputs": [],
   "source": [
    "df = pd.concat([adf, cdf], axis=0)\n",
    "df"
   ]
  },
  {
   "cell_type": "code",
   "execution_count": null,
   "metadata": {},
   "outputs": [],
   "source": [
    "numerical_features = df._get_numeric_data().columns\n",
    "\n",
    "# categorical_features = test_.drop(numerical_features, axis = 1).drop('lesion_3', axis = 1).columns"
   ]
  },
  {
   "cell_type": "code",
   "execution_count": null,
   "metadata": {},
   "outputs": [],
   "source": [
    "print(len(numerical_features))\n",
    "numerical_features"
   ]
  },
  {
   "cell_type": "code",
   "execution_count": null,
   "metadata": {},
   "outputs": [],
   "source": [
    "sns.set_theme(style='dark', palette='magma')\n",
    "pal = sns.color_palette('magma')\n",
    "\n",
    "\n",
    "fig, ax = plt.subplots(7, 2, figsize = (15, 20), dpi = 300)\n",
    "ax = ax.flatten()\n",
    "\n",
    "for i, column in enumerate(numerical_features):\n",
    "    if i == 13:\n",
    "        break\n",
    "    \n",
    "    sns.kdeplot(adf[column], ax=ax[i], color=pal[0])\n",
    "    sns.kdeplot(cdf[column], ax=ax[i], color=pal[2], warn_singular = False)\n",
    "    \n",
    "    ax[i].set_title(f'{column} Distribution', size = 14)\n",
    "    ax[i].set_xlabel(None)\n",
    "    \n",
    "fig.suptitle('Distribution of Feature\\nper Dataset\\n', fontsize = 20, fontweight = 'bold')\n",
    "fig.legend(['adult', 'child'])\n",
    "plt.tight_layout()"
   ]
  },
  {
   "cell_type": "code",
   "execution_count": null,
   "metadata": {},
   "outputs": [],
   "source": [
    "corr_matrix1 = adf[numerical_features].corr()\n",
    "mask = np.triu(np.ones_like(corr_matrix1, dtype=bool))\n",
    "\n",
    "plt.figure(figsize=(15, 12))\n",
    "sns.heatmap(corr_matrix1, mask=mask, annot=True, cmap='spring', fmt='.2f', linewidths=1, square=True, annot_kws={\"size\": 9} )\n",
    "plt.title('Adult', fontsize=15)\n",
    "plt.show()"
   ]
  },
  {
   "cell_type": "code",
   "execution_count": null,
   "metadata": {},
   "outputs": [],
   "source": [
    "corr_matrix2 = cdf[numerical_features].corr()\n",
    "mask = np.triu(np.ones_like(corr_matrix2, dtype=bool))\n",
    "\n",
    "plt.figure(figsize=(15, 12))\n",
    "sns.heatmap(corr_matrix2, mask=mask, annot=True, cmap='spring', fmt='.2f', linewidths=1, square=True, annot_kws={\"size\": 9} )\n",
    "plt.title('Child', fontsize=15)\n",
    "plt.show()"
   ]
  },
  {
   "cell_type": "code",
   "execution_count": null,
   "metadata": {},
   "outputs": [],
   "source": []
  },
  {
   "cell_type": "markdown",
   "metadata": {},
   "source": [
    "#### AGE를 자세히 보자"
   ]
  },
  {
   "cell_type": "code",
   "execution_count": null,
   "metadata": {},
   "outputs": [],
   "source": [
    "adf.AGE.describe()"
   ]
  },
  {
   "cell_type": "code",
   "execution_count": null,
   "metadata": {},
   "outputs": [],
   "source": [
    "plt.hist(adf['AGE'], label='#of people')\n",
    "plt.xlabel('Age')\n",
    "plt.ylabel('count')\n",
    "plt.legend()\n",
    "plt.show()"
   ]
  },
  {
   "cell_type": "code",
   "execution_count": null,
   "metadata": {},
   "outputs": [],
   "source": [
    "data = adf.sort_values(by='AGE')\n",
    "data"
   ]
  },
  {
   "cell_type": "code",
   "execution_count": null,
   "metadata": {},
   "outputs": [],
   "source": [
    "total_count = len(data)\n",
    "\n",
    "people_per_group = total_count // 3\n",
    "\n",
    "\n",
    "# 세 연령대에 대한 데이터를 나눕니다.\n",
    "age_group1 = data.iloc[:people_per_group]\n",
    "age_group2 = data.iloc[people_per_group:2 * people_per_group]\n",
    "age_group3 = data.iloc[2 * people_per_group:]\n",
    "\n",
    "# 결과를 확인합니다.\n",
    "print(\"Age Group 1:\")\n",
    "print(len(age_group1))\n",
    "\n",
    "print(\"Age Group 2:\")\n",
    "# print(age_group2.head())\n",
    "print(len(age_group2))\n",
    "\n",
    "print(\"Age Group 3:\")\n",
    "# print(age_group3.head())\n",
    "print(len(age_group3))"
   ]
  },
  {
   "cell_type": "code",
   "execution_count": null,
   "metadata": {},
   "outputs": [],
   "source": [
    "adf[(adf['AGE']>=19) & (adf['AGE']<=56)]   # 11665명\n",
    "adf[(adf['AGE']>=57) & (adf['AGE']<=69)]  # 11329명\n",
    "adf[(adf['AGE']>=70) & (adf['AGE']<=122)]  # 11913명"
   ]
  },
  {
   "cell_type": "code",
   "execution_count": null,
   "metadata": {},
   "outputs": [],
   "source": []
  },
  {
   "cell_type": "code",
   "execution_count": null,
   "metadata": {},
   "outputs": [],
   "source": []
  },
  {
   "cell_type": "markdown",
   "metadata": {},
   "source": [
    "### Signal Processing"
   ]
  },
  {
   "cell_type": "code",
   "execution_count": 13,
   "metadata": {},
   "outputs": [
    {
     "data": {
      "text/plain": [
       "'/aiffel/aiffel/workplace/2023SNU_Maic'"
      ]
     },
     "execution_count": 13,
     "metadata": {},
     "output_type": "execute_result"
    }
   ],
   "source": [
    "os.getcwd()"
   ]
  },
  {
   "cell_type": "code",
   "execution_count": 14,
   "metadata": {},
   "outputs": [
    {
     "data": {
      "text/plain": [
       "(60000,)"
      ]
     },
     "execution_count": 14,
     "metadata": {},
     "output_type": "execute_result"
    }
   ],
   "source": [
    "c170 = np.load('./MAIC2023/ECG_child_numpy_train/ecg_child_170.npy')\n",
    "c170.shape"
   ]
  },
  {
   "cell_type": "code",
   "execution_count": 15,
   "metadata": {},
   "outputs": [],
   "source": [
    "lead = ['I','II', 'III','V1','V2','V3','V4','V5','V6','aVR','aVL', 'aVF']\n",
    "def ecg_dict(array):\n",
    "    ecg = dict()\n",
    "    for i in range(len(lead)):\n",
    "        ecg[lead[i]] = array[5000 * i : 5000 * (i+1)]\n",
    "    return ecg"
   ]
  },
  {
   "cell_type": "code",
   "execution_count": 16,
   "metadata": {},
   "outputs": [
    {
     "name": "stdout",
     "output_type": "stream",
     "text": [
      "dict_keys(['I', 'II', 'III', 'V1', 'V2', 'V3', 'V4', 'V5', 'V6', 'aVR', 'aVL', 'aVF'])\n"
     ]
    },
    {
     "data": {
      "text/plain": [
       "{'I': array([ -9., -10., -10., ..., -19., -17., -19.]),\n",
       " 'II': array([-20., -20., -20., ..., -29., -29., -29.]),\n",
       " 'III': array([-11., -10., -10., ..., -10., -12., -10.]),\n",
       " 'V1': array([-1., -1., -1., ..., -3., -3., -3.]),\n",
       " 'V2': array([-16., -17., -17., ...,  19.,  19.,  20.]),\n",
       " 'V3': array([-15., -16., -17., ...,  -7.,  -5.,  -4.]),\n",
       " 'V4': array([-22., -22., -22., ...,  -5.,  -5.,  -5.]),\n",
       " 'V5': array([-26., -26., -27., ...,  -8.,  -7.,  -7.]),\n",
       " 'V6': array([-20., -21., -21., ..., -14., -16., -14.]),\n",
       " 'aVR': array([14.5, 15. , 15. , ..., 24. , 23. , 24. ]),\n",
       " 'aVL': array([ 1. ,  0. ,  0. , ..., -4.5, -2.5, -4.5]),\n",
       " 'aVF': array([-15.5, -15. , -15. , ..., -19.5, -20.5, -19.5])}"
      ]
     },
     "execution_count": 16,
     "metadata": {},
     "output_type": "execute_result"
    }
   ],
   "source": [
    "d170 = ecg_dict(c170)\n",
    "print(d170.keys())\n",
    "d170"
   ]
  },
  {
   "cell_type": "code",
   "execution_count": 17,
   "metadata": {},
   "outputs": [
    {
     "data": {
      "text/plain": [
       "array([ True,  True,  True, ...,  True,  True,  True])"
      ]
     },
     "execution_count": 17,
     "metadata": {},
     "output_type": "execute_result"
    }
   ],
   "source": [
    "d170['I'] == c170[:5000]"
   ]
  },
  {
   "cell_type": "code",
   "execution_count": 18,
   "metadata": {},
   "outputs": [
    {
     "data": {
      "text/plain": [
       "<matplotlib.collections.LineCollection at 0x7f99ea12ff70>"
      ]
     },
     "execution_count": 18,
     "metadata": {},
     "output_type": "execute_result"
    },
    {
     "data": {
      "image/png": "[encoded data removed]",
      "text/plain": [
       "<Figure size 2880x432 with 1 Axes>"
      ]
     },
     "metadata": {
      "needs_background": "light"
     },
     "output_type": "display_data"
    }
   ],
   "source": [
    "plt.figure(figsize=(40,6))\n",
    "plt.plot(d170['I'], color='black', linewidth=0.6)\n",
    "plt.hlines(0,0,5000,color='black', linewidth=0.3)"
   ]
  },
  {
   "cell_type": "code",
   "execution_count": null,
   "metadata": {},
   "outputs": [],
   "source": [
    "signal = ecg_dict.lead['I']\n",
    "plt.figure(figsize=(40,6))\n"
   ]
  },
  {
   "cell_type": "code",
   "execution_count": 19,
   "metadata": {
    "scrolled": true
   },
   "outputs": [
    {
     "name": "stdout",
     "output_type": "stream",
     "text": [
      "5000\n",
      "[-4.33632077 -4.27954715 -4.24965188 ... -5.24895091 -5.12185801\n",
      " -5.00272583]\n"
     ]
    },
    {
     "name": "stderr",
     "output_type": "stream",
     "text": [
      "/opt/conda/lib/python3.9/site-packages/pywt/_multilevel.py:148: FutureWarning: Using a non-tuple sequence for multidimensional indexing is deprecated; use `arr[tuple(seq)]` instead of `arr[seq]`. In the future this will be interpreted as an array index, `arr[np.array(seq)]`, which will result either in an error or a different result.\n",
      "  a = a[[slice(s) for s in d.shape]]\n"
     ]
    },
    {
     "data": {
      "text/plain": [
       "<matplotlib.collections.LineCollection at 0x7f99e9cdd400>"
      ]
     },
     "execution_count": 19,
     "metadata": {},
     "output_type": "execute_result"
    },
    {
     "data": {
      "image/png": "[encoded data removed]",
      "text/plain": [
       "<Figure size 2880x432 with 1 Axes>"
      ]
     },
     "metadata": {
      "needs_background": "light"
     },
     "output_type": "display_data"
    }
   ],
   "source": [
    "import pywt\n",
    "\n",
    "def denoise_signal(X, dwt_transform='bior4.4', dlevels=9, cutoff_low=1, cutoff_high=7):\n",
    "    \"\"\"\n",
    "    노이즈 제거 함수\n",
    "    \n",
    "    @ param X : 데이터 5천개 리스트\n",
    "    return : 데이터 5천개에 대한 노이즈 제거한 리스트\n",
    "    \"\"\"\n",
    "    \n",
    "    coeffs = pywt.wavedec(X, dwt_transform, level=dlevels)   # wavelet transform 'bior4.4'\n",
    "    # scale 0 to cutoff_low \n",
    "    for ca in range(0,cutoff_low):\n",
    "        coeffs[ca]=np.multiply(coeffs[ca],[0.0])\n",
    "    # scale cutoff_high to end\n",
    "    for ca in range(cutoff_high, len(coeffs)):\n",
    "        coeffs[ca]=np.multiply(coeffs[ca],[0.0])\n",
    "    Y = pywt.waverec(coeffs, dwt_transform) # inverse wavelet transform\n",
    "    return Y \n",
    "\n",
    "signal_den = denoise_signal(d170['I'])\n",
    "print(len(signal_den))          \n",
    "print(signal_den)\n",
    "plt.figure(figsize=(40,6))\n",
    "plt.plot(signal_den, color='black', linewidth=0.6)\n",
    "plt.hlines(0,0,5000,color='black', linewidth=0.3)"
   ]
  },
  {
   "cell_type": "code",
   "execution_count": null,
   "metadata": {},
   "outputs": [],
   "source": []
  },
  {
   "cell_type": "code",
   "execution_count": 20,
   "metadata": {},
   "outputs": [
    {
     "ename": "NameError",
     "evalue": "name 'c_dict' is not defined",
     "output_type": "error",
     "traceback": [
      "\u001b[0;31m---------------------------------------------------------------------------\u001b[0m",
      "\u001b[0;31mNameError\u001b[0m                                 Traceback (most recent call last)",
      "\u001b[0;32m/tmp/ipykernel_297/3593208528.py\u001b[0m in \u001b[0;36m<module>\u001b[0;34m\u001b[0m\n\u001b[1;32m      1\u001b[0m \u001b[0;31m# dict\u001b[0m\u001b[0;34m\u001b[0m\u001b[0;34m\u001b[0m\u001b[0m\n\u001b[0;32m----> 2\u001b[0;31m \u001b[0;32mfor\u001b[0m \u001b[0mkey\u001b[0m\u001b[0;34m,\u001b[0m \u001b[0mvalue\u001b[0m \u001b[0;32min\u001b[0m \u001b[0mc_dict\u001b[0m\u001b[0;34m.\u001b[0m\u001b[0mitems\u001b[0m\u001b[0;34m(\u001b[0m\u001b[0;34m)\u001b[0m\u001b[0;34m:\u001b[0m\u001b[0;34m\u001b[0m\u001b[0;34m\u001b[0m\u001b[0m\n\u001b[0m\u001b[1;32m      3\u001b[0m     \u001b[0mtemp_dict\u001b[0m \u001b[0;34m=\u001b[0m \u001b[0mdict\u001b[0m\u001b[0;34m(\u001b[0m\u001b[0;34m)\u001b[0m\u001b[0;34m\u001b[0m\u001b[0;34m\u001b[0m\u001b[0m\n\u001b[1;32m      4\u001b[0m     \u001b[0;32mfor\u001b[0m \u001b[0mk\u001b[0m\u001b[0;34m,\u001b[0m \u001b[0mv\u001b[0m \u001b[0;32min\u001b[0m \u001b[0mvalue\u001b[0m\u001b[0;34m.\u001b[0m\u001b[0mitems\u001b[0m\u001b[0;34m(\u001b[0m\u001b[0;34m)\u001b[0m\u001b[0;34m:\u001b[0m\u001b[0;34m\u001b[0m\u001b[0;34m\u001b[0m\u001b[0m\n\u001b[1;32m      5\u001b[0m         \u001b[0;32mif\u001b[0m \u001b[0mk\u001b[0m \u001b[0;32mnot\u001b[0m \u001b[0;32min\u001b[0m \u001b[0;34m[\u001b[0m\u001b[0;34m'age'\u001b[0m\u001b[0;34m,\u001b[0m \u001b[0;34m'gender'\u001b[0m\u001b[0;34m]\u001b[0m\u001b[0;34m:\u001b[0m\u001b[0;34m\u001b[0m\u001b[0;34m\u001b[0m\u001b[0m\n",
      "\u001b[0;31mNameError\u001b[0m: name 'c_dict' is not defined"
     ]
    }
   ],
   "source": [
    "# dict\n",
    "for key, value in c_dict.items():\n",
    "    temp_dict = dict()\n",
    "    for k, v in value.items():\n",
    "        if k not in ['age', 'gender']:\n",
    "            c_dict[key][k] = denoise_signal(c_dict[key][k])\n",
    "    break"
   ]
  },
  {
   "cell_type": "code",
   "execution_count": null,
   "metadata": {},
   "outputs": [],
   "source": [
    "def dict_yield():\n",
    "    yield c_dict.items()\n",
    "\n",
    "c_yield = dict_yield()\n",
    "for k, v in next(c_yield):\n",
    "    for k1, v1 in v.items():\n",
    "        if k1 not in ['age', 'gender']:\n",
    "            print(len(v1))\n",
    "    break"
   ]
  },
  {
   "cell_type": "code",
   "execution_count": null,
   "metadata": {},
   "outputs": [],
   "source": []
  },
  {
   "cell_type": "code",
   "execution_count": null,
   "metadata": {
    "scrolled": true
   },
   "outputs": [],
   "source": [
    "# 자동화해보려다가 망한것\n",
    "\n",
    "fig,ax = plt.subplots(12,1, figsize=(20,12*4))\n",
    "#fig.set_dpi(150)\n",
    "for i in range(0,12):\n",
    "    _key = lead[i]\n",
    "    #ax[i].set_title(_key)\n",
    "    ax[i].plot(ecg_dict.signald[_key], color='black', linewidth=0.6)\n",
    "    ax[i].set_ylim((-1500,1500))\n",
    "    ax[i].set_xticks(   np.arange(0,5001,500)  )   \n",
    "    ax[i].set_xticklabels(   np.arange(0,5001,500)/BASIC_SRATE  )   \n",
    "    ax[i].grid(axis='x')\n",
    "    ax[i].annotate(_key,(-200,0))\n",
    "    #ax[i].set_xlabel('Time(sec)')\n",
    "    #ax[i].set_ylabel('mV')\n",
    "    ax[i].hlines(0,0,5000,color='black', linewidth=0.3)\n",
    "\n",
    "\n",
    "plt.show()"
   ]
  },
  {
   "cell_type": "code",
   "execution_count": null,
   "metadata": {},
   "outputs": [],
   "source": []
  },
  {
   "cell_type": "code",
   "execution_count": null,
   "metadata": {},
   "outputs": [],
   "source": []
  },
  {
   "cell_type": "code",
   "execution_count": null,
   "metadata": {},
   "outputs": [],
   "source": []
  },
  {
   "cell_type": "code",
   "execution_count": null,
   "metadata": {},
   "outputs": [],
   "source": []
  },
  {
   "cell_type": "code",
   "execution_count": null,
   "metadata": {},
   "outputs": [],
   "source": []
  },
  {
   "cell_type": "markdown",
   "metadata": {},
   "source": [
    "#### 예시 from official document"
   ]
  },
  {
   "cell_type": "code",
   "execution_count": null,
   "metadata": {},
   "outputs": [],
   "source": [
    "!pip install neurokit2"
   ]
  },
  {
   "cell_type": "code",
   "execution_count": null,
   "metadata": {},
   "outputs": [],
   "source": [
    "import neurokit2 as nk"
   ]
  },
  {
   "cell_type": "code",
   "execution_count": null,
   "metadata": {},
   "outputs": [],
   "source": [
    "nk.data('')"
   ]
  },
  {
   "cell_type": "code",
   "execution_count": null,
   "metadata": {},
   "outputs": [],
   "source": [
    "ecg = nk.ecg_simulate(duration=15, sampling_rate=6000, heart_rate=80)\n",
    "signals, info = nk.ecg_process(ecg, sampling_rate=6000)\n",
    "nk.ecg_plot(signals, info)"
   ]
  },
  {
   "cell_type": "code",
   "execution_count": null,
   "metadata": {},
   "outputs": [],
   "source": [
    "ecg1 = nk.ecg_simulate(duration=10, method=\"simple\")\n",
    "\n",
    "ecg2 = nk.ecg_simulate(duration=10, method=\"ecgsyn\")\n",
    "\n",
    "# Visualize result\n",
    "nk.signal_plot([ecg1, ecg2], labels=[\"simple\", \"ecgsyn\"], subplots=True)"
   ]
  },
  {
   "cell_type": "code",
   "execution_count": null,
   "metadata": {},
   "outputs": [],
   "source": [
    "ecg = nk.ecg_simulate(duration=10, sampling_rate=250, noise=0.2)\n",
    "\n",
    "ecg += np.random.normal(0, 0.1, len(ecg))  # Add Gaussian noise\n",
    "\n",
    "signals = pd.DataFrame({\n",
    "    \"ECG_Raw\" : ecg,\n",
    "    \"ECG_NeuroKit\" : nk.ecg_clean(ecg, sampling_rate=250, method=\"neurokit\"),\n",
    "    \"ECG_BioSPPy\" : nk.ecg_clean(ecg, sampling_rate=250, method=\"biosppy\"),\n",
    "    \"ECG_PanTompkins\" : nk.ecg_clean(ecg, sampling_rate=250, method=\"pantompkins1985\"),\n",
    "    \"ECG_Hamilton\" : nk.ecg_clean(ecg, sampling_rate=250, method=\"hamilton2002\"),\n",
    "    \"ECG_Elgendi\" : nk.ecg_clean(ecg, sampling_rate=250, method=\"elgendi2010\"),\n",
    "    \"ECG_EngZeeMod\" : nk.ecg_clean(ecg, sampling_rate=250, method=\"engzeemod2012\"),\n",
    "    \"ECG_TC\" : nk.ecg_clean(ecg, sampling_rate=250, method=\"templateconvolution\")\n",
    "})\n"
   ]
  },
  {
   "cell_type": "code",
   "execution_count": null,
   "metadata": {},
   "outputs": [],
   "source": [
    "signals"
   ]
  },
  {
   "cell_type": "code",
   "execution_count": null,
   "metadata": {},
   "outputs": [],
   "source": []
  },
  {
   "cell_type": "code",
   "execution_count": null,
   "metadata": {},
   "outputs": [],
   "source": []
  },
  {
   "cell_type": "code",
   "execution_count": null,
   "metadata": {},
   "outputs": [],
   "source": []
  },
  {
   "cell_type": "code",
   "execution_count": null,
   "metadata": {},
   "outputs": [],
   "source": []
  },
  {
   "cell_type": "code",
   "execution_count": null,
   "metadata": {},
   "outputs": [],
   "source": []
  },
  {
   "cell_type": "code",
   "execution_count": null,
   "metadata": {},
   "outputs": [],
   "source": []
  },
  {
   "cell_type": "code",
   "execution_count": null,
   "metadata": {},
   "outputs": [],
   "source": []
  },
  {
   "cell_type": "markdown",
   "metadata": {},
   "source": [
    "#### 시도해보려다가 못한것\n",
    "\n",
    "https://pubmed.ncbi.nlm.nih.gov/12820525/\n",
    "\"aVL, III, V4, and aVF while leads aVL and V2 are peculiar for women.\"\n",
    "\n",
    "\"An elongation of the intervals Q-T and R-R as well as the segment S-T is observed in ECG of men and women with ageing of inhabitants of the European North since 20-29 to 50-59 years old demonstrated an appearance of symptoms of hypertrophy of the heart departments, a heart electrical axis deviation to more left position, \""
   ]
  },
  {
   "cell_type": "code",
   "execution_count": null,
   "metadata": {},
   "outputs": [],
   "source": []
  },
  {
   "cell_type": "code",
   "execution_count": null,
   "metadata": {},
   "outputs": [],
   "source": []
  },
  {
   "cell_type": "code",
   "execution_count": null,
   "metadata": {},
   "outputs": [],
   "source": []
  }
 ],
 "metadata": {
  "colab": {
   "authorship_tag": "ABX9TyNz4DCwgx2/IoYL4Xd/ZN3H",
   "mount_file_id": "1DSvPLN-CuOb4e21vOz8tM2MCAxuFuneX",
   "provenance": [
    {
     "file_id": "1DSvPLN-CuOb4e21vOz8tM2MCAxuFuneX",
     "timestamp": 1694956990093
    }
   ]
  },
  "kernelspec": {
   "display_name": "Python 3 (ipykernel)",
   "language": "python",
   "name": "python3"
  },
  "language_info": {
   "codemirror_mode": {
    "name": "ipython",
    "version": 3
   },
   "file_extension": ".py",
   "mimetype": "text/x-python",
   "name": "python",
   "nbconvert_exporter": "python",
   "pygments_lexer": "ipython3",
   "version": "3.9.7"
  }
 },
 "nbformat": 4,
 "nbformat_minor": 1
}
